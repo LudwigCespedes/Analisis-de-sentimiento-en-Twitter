{
 "cells": [
  {
   "cell_type": "code",
   "execution_count": 1,
   "metadata": {
    "tags": []
   },
   "outputs": [
    {
     "name": "stdout",
     "output_type": "stream",
     "text": [
      " El volumen de la unidad D es Sanakan\n",
      " El n�mero de serie del volumen es: 781B-70E0\n",
      "\n",
      " Directorio de d:\\Programacion\\Python\\Tareas\\Seminario\n",
      "\n",
      "02/12/2023  12:31    <DIR>          .\n",
      "30/11/2023  09:43    <DIR>          ..\n",
      "06/11/2023  18:26                75 .~lock.twitter_validation.csv#\n",
      "02/12/2023  08:00    <DIR>          .ipynb_checkpoints\n",
      "06/11/2023  17:22    <DIR>          An�lisis de sentimiento en Twitter\n",
      "02/04/2023  17:59         9.710.704 geckodriver\n",
      "02/12/2023  07:39    <DIR>          geckodriver-v0.33.0-linux64\n",
      "02/12/2023  12:56           290.879 Ludwig_C�spedes_Ogando.ipynb\n",
      "02/12/2023  16:07           104.560 sentiment_classifier.pickle\n",
      "02/12/2023  15:13             9.887 TF.ipynb\n",
      "09/08/2021  02:52        10.325.088 twitter_training.csv\n",
      "09/08/2021  02:52           164.351 twitter_validation.csv\n",
      "               7 archivos     20.605.544 bytes\n",
      "               5 dirs  5.822.085.345.280 bytes libres\n"
     ]
    }
   ],
   "source": [
    "ls"
   ]
  },
  {
   "cell_type": "code",
   "execution_count": 2,
   "metadata": {
    "id": "mIVjRnRlJ5e1",
    "tags": []
   },
   "outputs": [],
   "source": [
    "import pandas as pd"
   ]
  },
  {
   "cell_type": "code",
   "execution_count": 3,
   "metadata": {
    "id": "7m66yrwo-Zex",
    "tags": []
   },
   "outputs": [],
   "source": [
    "df0 = pd.read_csv(\"twitter_training.csv\")"
   ]
  },
  {
   "cell_type": "code",
   "execution_count": 4,
   "metadata": {
    "colab": {
     "base_uri": "https://localhost:8080/",
     "height": 423
    },
    "id": "0zgBMhNu-xVO",
    "outputId": "0540f26b-5eea-4c3e-e7e6-874ffd03600c",
    "tags": []
   },
   "outputs": [
    {
     "data": {
      "text/html": [
       "<div>\n",
       "<style scoped>\n",
       "    .dataframe tbody tr th:only-of-type {\n",
       "        vertical-align: middle;\n",
       "    }\n",
       "\n",
       "    .dataframe tbody tr th {\n",
       "        vertical-align: top;\n",
       "    }\n",
       "\n",
       "    .dataframe thead th {\n",
       "        text-align: right;\n",
       "    }\n",
       "</style>\n",
       "<table border=\"1\" class=\"dataframe\">\n",
       "  <thead>\n",
       "    <tr style=\"text-align: right;\">\n",
       "      <th></th>\n",
       "      <th>2401</th>\n",
       "      <th>Borderlands</th>\n",
       "      <th>Positive</th>\n",
       "      <th>im getting on borderlands and i will murder you all ,</th>\n",
       "    </tr>\n",
       "  </thead>\n",
       "  <tbody>\n",
       "    <tr>\n",
       "      <th>0</th>\n",
       "      <td>2401</td>\n",
       "      <td>Borderlands</td>\n",
       "      <td>Positive</td>\n",
       "      <td>I am coming to the borders and I will kill you...</td>\n",
       "    </tr>\n",
       "    <tr>\n",
       "      <th>1</th>\n",
       "      <td>2401</td>\n",
       "      <td>Borderlands</td>\n",
       "      <td>Positive</td>\n",
       "      <td>im getting on borderlands and i will kill you ...</td>\n",
       "    </tr>\n",
       "    <tr>\n",
       "      <th>2</th>\n",
       "      <td>2401</td>\n",
       "      <td>Borderlands</td>\n",
       "      <td>Positive</td>\n",
       "      <td>im coming on borderlands and i will murder you...</td>\n",
       "    </tr>\n",
       "    <tr>\n",
       "      <th>3</th>\n",
       "      <td>2401</td>\n",
       "      <td>Borderlands</td>\n",
       "      <td>Positive</td>\n",
       "      <td>im getting on borderlands 2 and i will murder ...</td>\n",
       "    </tr>\n",
       "    <tr>\n",
       "      <th>4</th>\n",
       "      <td>2401</td>\n",
       "      <td>Borderlands</td>\n",
       "      <td>Positive</td>\n",
       "      <td>im getting into borderlands and i can murder y...</td>\n",
       "    </tr>\n",
       "    <tr>\n",
       "      <th>...</th>\n",
       "      <td>...</td>\n",
       "      <td>...</td>\n",
       "      <td>...</td>\n",
       "      <td>...</td>\n",
       "    </tr>\n",
       "    <tr>\n",
       "      <th>74676</th>\n",
       "      <td>9200</td>\n",
       "      <td>Nvidia</td>\n",
       "      <td>Positive</td>\n",
       "      <td>Just realized that the Windows partition of my...</td>\n",
       "    </tr>\n",
       "    <tr>\n",
       "      <th>74677</th>\n",
       "      <td>9200</td>\n",
       "      <td>Nvidia</td>\n",
       "      <td>Positive</td>\n",
       "      <td>Just realized that my Mac window partition is ...</td>\n",
       "    </tr>\n",
       "    <tr>\n",
       "      <th>74678</th>\n",
       "      <td>9200</td>\n",
       "      <td>Nvidia</td>\n",
       "      <td>Positive</td>\n",
       "      <td>Just realized the windows partition of my Mac ...</td>\n",
       "    </tr>\n",
       "    <tr>\n",
       "      <th>74679</th>\n",
       "      <td>9200</td>\n",
       "      <td>Nvidia</td>\n",
       "      <td>Positive</td>\n",
       "      <td>Just realized between the windows partition of...</td>\n",
       "    </tr>\n",
       "    <tr>\n",
       "      <th>74680</th>\n",
       "      <td>9200</td>\n",
       "      <td>Nvidia</td>\n",
       "      <td>Positive</td>\n",
       "      <td>Just like the windows partition of my Mac is l...</td>\n",
       "    </tr>\n",
       "  </tbody>\n",
       "</table>\n",
       "<p>74681 rows × 4 columns</p>\n",
       "</div>"
      ],
      "text/plain": [
       "       2401  Borderlands  Positive  \\\n",
       "0      2401  Borderlands  Positive   \n",
       "1      2401  Borderlands  Positive   \n",
       "2      2401  Borderlands  Positive   \n",
       "3      2401  Borderlands  Positive   \n",
       "4      2401  Borderlands  Positive   \n",
       "...     ...          ...       ...   \n",
       "74676  9200       Nvidia  Positive   \n",
       "74677  9200       Nvidia  Positive   \n",
       "74678  9200       Nvidia  Positive   \n",
       "74679  9200       Nvidia  Positive   \n",
       "74680  9200       Nvidia  Positive   \n",
       "\n",
       "      im getting on borderlands and i will murder you all ,  \n",
       "0      I am coming to the borders and I will kill you...     \n",
       "1      im getting on borderlands and i will kill you ...     \n",
       "2      im coming on borderlands and i will murder you...     \n",
       "3      im getting on borderlands 2 and i will murder ...     \n",
       "4      im getting into borderlands and i can murder y...     \n",
       "...                                                  ...     \n",
       "74676  Just realized that the Windows partition of my...     \n",
       "74677  Just realized that my Mac window partition is ...     \n",
       "74678  Just realized the windows partition of my Mac ...     \n",
       "74679  Just realized between the windows partition of...     \n",
       "74680  Just like the windows partition of my Mac is l...     \n",
       "\n",
       "[74681 rows x 4 columns]"
      ]
     },
     "execution_count": 4,
     "metadata": {},
     "output_type": "execute_result"
    }
   ],
   "source": [
    "df0"
   ]
  },
  {
   "cell_type": "code",
   "execution_count": 5,
   "metadata": {
    "tags": []
   },
   "outputs": [],
   "source": [
    "df0 = df0.dropna(subset=[\"im getting on borderlands and i will murder you all ,\"])\n"
   ]
  },
  {
   "cell_type": "code",
   "execution_count": 6,
   "metadata": {
    "colab": {
     "base_uri": "https://localhost:8080/"
    },
    "id": "VfLVyM0_NbCY",
    "outputId": "ee89053c-dde8-4db9-a5b1-b1a71fb19657",
    "tags": []
   },
   "outputs": [
    {
     "data": {
      "text/plain": [
       "2401                                                     0\n",
       "Borderlands                                              0\n",
       "Positive                                                 0\n",
       "im getting on borderlands and i will murder you all ,    0\n",
       "dtype: int64"
      ]
     },
     "execution_count": 6,
     "metadata": {},
     "output_type": "execute_result"
    }
   ],
   "source": [
    "df0.isnull().sum()"
   ]
  },
  {
   "cell_type": "code",
   "execution_count": 7,
   "metadata": {
    "id": "kK9LAONMYFYX",
    "tags": []
   },
   "outputs": [],
   "source": [
    "df=df0"
   ]
  },
  {
   "cell_type": "code",
   "execution_count": 8,
   "metadata": {
    "id": "paAr6X-b-xoL",
    "tags": []
   },
   "outputs": [],
   "source": [
    "df = df[[\"Positive\", \"im getting on borderlands and i will murder you all ,\"]]"
   ]
  },
  {
   "cell_type": "code",
   "execution_count": 9,
   "metadata": {
    "colab": {
     "base_uri": "https://localhost:8080/",
     "height": 423
    },
    "id": "pT7nUKKt-xqz",
    "outputId": "874386d6-51f7-47b1-d229-59168795b9be",
    "tags": []
   },
   "outputs": [
    {
     "data": {
      "text/html": [
       "<div>\n",
       "<style scoped>\n",
       "    .dataframe tbody tr th:only-of-type {\n",
       "        vertical-align: middle;\n",
       "    }\n",
       "\n",
       "    .dataframe tbody tr th {\n",
       "        vertical-align: top;\n",
       "    }\n",
       "\n",
       "    .dataframe thead th {\n",
       "        text-align: right;\n",
       "    }\n",
       "</style>\n",
       "<table border=\"1\" class=\"dataframe\">\n",
       "  <thead>\n",
       "    <tr style=\"text-align: right;\">\n",
       "      <th></th>\n",
       "      <th>Positive</th>\n",
       "      <th>im getting on borderlands and i will murder you all ,</th>\n",
       "    </tr>\n",
       "  </thead>\n",
       "  <tbody>\n",
       "    <tr>\n",
       "      <th>0</th>\n",
       "      <td>Positive</td>\n",
       "      <td>I am coming to the borders and I will kill you...</td>\n",
       "    </tr>\n",
       "    <tr>\n",
       "      <th>1</th>\n",
       "      <td>Positive</td>\n",
       "      <td>im getting on borderlands and i will kill you ...</td>\n",
       "    </tr>\n",
       "    <tr>\n",
       "      <th>2</th>\n",
       "      <td>Positive</td>\n",
       "      <td>im coming on borderlands and i will murder you...</td>\n",
       "    </tr>\n",
       "    <tr>\n",
       "      <th>3</th>\n",
       "      <td>Positive</td>\n",
       "      <td>im getting on borderlands 2 and i will murder ...</td>\n",
       "    </tr>\n",
       "    <tr>\n",
       "      <th>4</th>\n",
       "      <td>Positive</td>\n",
       "      <td>im getting into borderlands and i can murder y...</td>\n",
       "    </tr>\n",
       "    <tr>\n",
       "      <th>...</th>\n",
       "      <td>...</td>\n",
       "      <td>...</td>\n",
       "    </tr>\n",
       "    <tr>\n",
       "      <th>74676</th>\n",
       "      <td>Positive</td>\n",
       "      <td>Just realized that the Windows partition of my...</td>\n",
       "    </tr>\n",
       "    <tr>\n",
       "      <th>74677</th>\n",
       "      <td>Positive</td>\n",
       "      <td>Just realized that my Mac window partition is ...</td>\n",
       "    </tr>\n",
       "    <tr>\n",
       "      <th>74678</th>\n",
       "      <td>Positive</td>\n",
       "      <td>Just realized the windows partition of my Mac ...</td>\n",
       "    </tr>\n",
       "    <tr>\n",
       "      <th>74679</th>\n",
       "      <td>Positive</td>\n",
       "      <td>Just realized between the windows partition of...</td>\n",
       "    </tr>\n",
       "    <tr>\n",
       "      <th>74680</th>\n",
       "      <td>Positive</td>\n",
       "      <td>Just like the windows partition of my Mac is l...</td>\n",
       "    </tr>\n",
       "  </tbody>\n",
       "</table>\n",
       "<p>73995 rows × 2 columns</p>\n",
       "</div>"
      ],
      "text/plain": [
       "       Positive im getting on borderlands and i will murder you all ,\n",
       "0      Positive  I am coming to the borders and I will kill you...   \n",
       "1      Positive  im getting on borderlands and i will kill you ...   \n",
       "2      Positive  im coming on borderlands and i will murder you...   \n",
       "3      Positive  im getting on borderlands 2 and i will murder ...   \n",
       "4      Positive  im getting into borderlands and i can murder y...   \n",
       "...         ...                                                ...   \n",
       "74676  Positive  Just realized that the Windows partition of my...   \n",
       "74677  Positive  Just realized that my Mac window partition is ...   \n",
       "74678  Positive  Just realized the windows partition of my Mac ...   \n",
       "74679  Positive  Just realized between the windows partition of...   \n",
       "74680  Positive  Just like the windows partition of my Mac is l...   \n",
       "\n",
       "[73995 rows x 2 columns]"
      ]
     },
     "execution_count": 9,
     "metadata": {},
     "output_type": "execute_result"
    }
   ],
   "source": [
    "df"
   ]
  },
  {
   "cell_type": "code",
   "execution_count": 10,
   "metadata": {
    "id": "w2-dpDNl-xtV",
    "tags": []
   },
   "outputs": [],
   "source": [
    "df1=df[[\"Positive\"]]"
   ]
  },
  {
   "cell_type": "code",
   "execution_count": 11,
   "metadata": {
    "colab": {
     "base_uri": "https://localhost:8080/",
     "height": 423
    },
    "id": "En_GZdoa-xvr",
    "outputId": "16b24e13-9cb8-4060-d92d-8ece80b20d01",
    "tags": []
   },
   "outputs": [
    {
     "data": {
      "text/html": [
       "<div>\n",
       "<style scoped>\n",
       "    .dataframe tbody tr th:only-of-type {\n",
       "        vertical-align: middle;\n",
       "    }\n",
       "\n",
       "    .dataframe tbody tr th {\n",
       "        vertical-align: top;\n",
       "    }\n",
       "\n",
       "    .dataframe thead th {\n",
       "        text-align: right;\n",
       "    }\n",
       "</style>\n",
       "<table border=\"1\" class=\"dataframe\">\n",
       "  <thead>\n",
       "    <tr style=\"text-align: right;\">\n",
       "      <th></th>\n",
       "      <th>Positive</th>\n",
       "    </tr>\n",
       "  </thead>\n",
       "  <tbody>\n",
       "    <tr>\n",
       "      <th>0</th>\n",
       "      <td>Positive</td>\n",
       "    </tr>\n",
       "    <tr>\n",
       "      <th>1</th>\n",
       "      <td>Positive</td>\n",
       "    </tr>\n",
       "    <tr>\n",
       "      <th>2</th>\n",
       "      <td>Positive</td>\n",
       "    </tr>\n",
       "    <tr>\n",
       "      <th>3</th>\n",
       "      <td>Positive</td>\n",
       "    </tr>\n",
       "    <tr>\n",
       "      <th>4</th>\n",
       "      <td>Positive</td>\n",
       "    </tr>\n",
       "    <tr>\n",
       "      <th>...</th>\n",
       "      <td>...</td>\n",
       "    </tr>\n",
       "    <tr>\n",
       "      <th>74676</th>\n",
       "      <td>Positive</td>\n",
       "    </tr>\n",
       "    <tr>\n",
       "      <th>74677</th>\n",
       "      <td>Positive</td>\n",
       "    </tr>\n",
       "    <tr>\n",
       "      <th>74678</th>\n",
       "      <td>Positive</td>\n",
       "    </tr>\n",
       "    <tr>\n",
       "      <th>74679</th>\n",
       "      <td>Positive</td>\n",
       "    </tr>\n",
       "    <tr>\n",
       "      <th>74680</th>\n",
       "      <td>Positive</td>\n",
       "    </tr>\n",
       "  </tbody>\n",
       "</table>\n",
       "<p>73995 rows × 1 columns</p>\n",
       "</div>"
      ],
      "text/plain": [
       "       Positive\n",
       "0      Positive\n",
       "1      Positive\n",
       "2      Positive\n",
       "3      Positive\n",
       "4      Positive\n",
       "...         ...\n",
       "74676  Positive\n",
       "74677  Positive\n",
       "74678  Positive\n",
       "74679  Positive\n",
       "74680  Positive\n",
       "\n",
       "[73995 rows x 1 columns]"
      ]
     },
     "execution_count": 11,
     "metadata": {},
     "output_type": "execute_result"
    }
   ],
   "source": [
    "df1"
   ]
  },
  {
   "cell_type": "code",
   "execution_count": 12,
   "metadata": {
    "colab": {
     "base_uri": "https://localhost:8080/",
     "height": 299
    },
    "id": "MQ3OXxws-x0w",
    "outputId": "1433fbcc-491d-4e75-cc50-f4a2dddd5f2b",
    "tags": []
   },
   "outputs": [
    {
     "data": {
      "image/png": "[encoded data removed]",
      "text/plain": [
       "<Figure size 640x480 with 1 Axes>"
      ]
     },
     "metadata": {},
     "output_type": "display_data"
    }
   ],
   "source": [
    "import matplotlib.pyplot as plt\n",
    "\n",
    "df[\"Positive\"].value_counts().plot(kind=\"bar\")\n",
    "plt.title(\"Distribución de Positive\")\n",
    "plt.xlabel(\"Clase\")\n",
    "plt.ylabel(\"Frecuencia\")\n",
    "plt.show()"
   ]
  },
  {
   "cell_type": "code",
   "execution_count": 13,
   "metadata": {
    "id": "-VizygfV-x3Y",
    "tags": []
   },
   "outputs": [],
   "source": [
    "dft=df0[[\"Borderlands\"]]"
   ]
  },
  {
   "cell_type": "code",
   "execution_count": 14,
   "metadata": {
    "colab": {
     "base_uri": "https://localhost:8080/",
     "height": 423
    },
    "id": "zT2ruqj7-x52",
    "outputId": "234322b0-6508-41d5-9c66-9c24c1d6e463",
    "tags": []
   },
   "outputs": [
    {
     "data": {
      "text/html": [
       "<div>\n",
       "<style scoped>\n",
       "    .dataframe tbody tr th:only-of-type {\n",
       "        vertical-align: middle;\n",
       "    }\n",
       "\n",
       "    .dataframe tbody tr th {\n",
       "        vertical-align: top;\n",
       "    }\n",
       "\n",
       "    .dataframe thead th {\n",
       "        text-align: right;\n",
       "    }\n",
       "</style>\n",
       "<table border=\"1\" class=\"dataframe\">\n",
       "  <thead>\n",
       "    <tr style=\"text-align: right;\">\n",
       "      <th></th>\n",
       "      <th>Positive</th>\n",
       "      <th>im getting on borderlands and i will murder you all ,</th>\n",
       "    </tr>\n",
       "  </thead>\n",
       "  <tbody>\n",
       "    <tr>\n",
       "      <th>0</th>\n",
       "      <td>Positive</td>\n",
       "      <td>I am coming to the borders and I will kill you...</td>\n",
       "    </tr>\n",
       "    <tr>\n",
       "      <th>1</th>\n",
       "      <td>Positive</td>\n",
       "      <td>im getting on borderlands and i will kill you ...</td>\n",
       "    </tr>\n",
       "    <tr>\n",
       "      <th>2</th>\n",
       "      <td>Positive</td>\n",
       "      <td>im coming on borderlands and i will murder you...</td>\n",
       "    </tr>\n",
       "    <tr>\n",
       "      <th>3</th>\n",
       "      <td>Positive</td>\n",
       "      <td>im getting on borderlands 2 and i will murder ...</td>\n",
       "    </tr>\n",
       "    <tr>\n",
       "      <th>4</th>\n",
       "      <td>Positive</td>\n",
       "      <td>im getting into borderlands and i can murder y...</td>\n",
       "    </tr>\n",
       "    <tr>\n",
       "      <th>...</th>\n",
       "      <td>...</td>\n",
       "      <td>...</td>\n",
       "    </tr>\n",
       "    <tr>\n",
       "      <th>74676</th>\n",
       "      <td>Positive</td>\n",
       "      <td>Just realized that the Windows partition of my...</td>\n",
       "    </tr>\n",
       "    <tr>\n",
       "      <th>74677</th>\n",
       "      <td>Positive</td>\n",
       "      <td>Just realized that my Mac window partition is ...</td>\n",
       "    </tr>\n",
       "    <tr>\n",
       "      <th>74678</th>\n",
       "      <td>Positive</td>\n",
       "      <td>Just realized the windows partition of my Mac ...</td>\n",
       "    </tr>\n",
       "    <tr>\n",
       "      <th>74679</th>\n",
       "      <td>Positive</td>\n",
       "      <td>Just realized between the windows partition of...</td>\n",
       "    </tr>\n",
       "    <tr>\n",
       "      <th>74680</th>\n",
       "      <td>Positive</td>\n",
       "      <td>Just like the windows partition of my Mac is l...</td>\n",
       "    </tr>\n",
       "  </tbody>\n",
       "</table>\n",
       "<p>73995 rows × 2 columns</p>\n",
       "</div>"
      ],
      "text/plain": [
       "       Positive im getting on borderlands and i will murder you all ,\n",
       "0      Positive  I am coming to the borders and I will kill you...   \n",
       "1      Positive  im getting on borderlands and i will kill you ...   \n",
       "2      Positive  im coming on borderlands and i will murder you...   \n",
       "3      Positive  im getting on borderlands 2 and i will murder ...   \n",
       "4      Positive  im getting into borderlands and i can murder y...   \n",
       "...         ...                                                ...   \n",
       "74676  Positive  Just realized that the Windows partition of my...   \n",
       "74677  Positive  Just realized that my Mac window partition is ...   \n",
       "74678  Positive  Just realized the windows partition of my Mac ...   \n",
       "74679  Positive  Just realized between the windows partition of...   \n",
       "74680  Positive  Just like the windows partition of my Mac is l...   \n",
       "\n",
       "[73995 rows x 2 columns]"
      ]
     },
     "execution_count": 14,
     "metadata": {},
     "output_type": "execute_result"
    }
   ],
   "source": [
    "df"
   ]
  },
  {
   "cell_type": "code",
   "execution_count": 15,
   "metadata": {
    "colab": {
     "base_uri": "https://localhost:8080/",
     "height": 423
    },
    "id": "NJeRb-XILbZ1",
    "outputId": "2be8a4ac-7da2-46ea-de62-0ff89ded0aad",
    "tags": []
   },
   "outputs": [
    {
     "data": {
      "text/html": [
       "<div>\n",
       "<style scoped>\n",
       "    .dataframe tbody tr th:only-of-type {\n",
       "        vertical-align: middle;\n",
       "    }\n",
       "\n",
       "    .dataframe tbody tr th {\n",
       "        vertical-align: top;\n",
       "    }\n",
       "\n",
       "    .dataframe thead th {\n",
       "        text-align: right;\n",
       "    }\n",
       "</style>\n",
       "<table border=\"1\" class=\"dataframe\">\n",
       "  <thead>\n",
       "    <tr style=\"text-align: right;\">\n",
       "      <th></th>\n",
       "      <th>Positive</th>\n",
       "      <th>im getting on borderlands and i will murder you all ,</th>\n",
       "    </tr>\n",
       "  </thead>\n",
       "  <tbody>\n",
       "    <tr>\n",
       "      <th>0</th>\n",
       "      <td>Positive</td>\n",
       "      <td>I am coming to the borders and I will kill you...</td>\n",
       "    </tr>\n",
       "    <tr>\n",
       "      <th>1</th>\n",
       "      <td>Positive</td>\n",
       "      <td>im getting on borderlands and i will kill you ...</td>\n",
       "    </tr>\n",
       "    <tr>\n",
       "      <th>2</th>\n",
       "      <td>Positive</td>\n",
       "      <td>im coming on borderlands and i will murder you...</td>\n",
       "    </tr>\n",
       "    <tr>\n",
       "      <th>3</th>\n",
       "      <td>Positive</td>\n",
       "      <td>im getting on borderlands 2 and i will murder ...</td>\n",
       "    </tr>\n",
       "    <tr>\n",
       "      <th>4</th>\n",
       "      <td>Positive</td>\n",
       "      <td>im getting into borderlands and i can murder y...</td>\n",
       "    </tr>\n",
       "    <tr>\n",
       "      <th>...</th>\n",
       "      <td>...</td>\n",
       "      <td>...</td>\n",
       "    </tr>\n",
       "    <tr>\n",
       "      <th>74676</th>\n",
       "      <td>Positive</td>\n",
       "      <td>Just realized that the Windows partition of my...</td>\n",
       "    </tr>\n",
       "    <tr>\n",
       "      <th>74677</th>\n",
       "      <td>Positive</td>\n",
       "      <td>Just realized that my Mac window partition is ...</td>\n",
       "    </tr>\n",
       "    <tr>\n",
       "      <th>74678</th>\n",
       "      <td>Positive</td>\n",
       "      <td>Just realized the windows partition of my Mac ...</td>\n",
       "    </tr>\n",
       "    <tr>\n",
       "      <th>74679</th>\n",
       "      <td>Positive</td>\n",
       "      <td>Just realized between the windows partition of...</td>\n",
       "    </tr>\n",
       "    <tr>\n",
       "      <th>74680</th>\n",
       "      <td>Positive</td>\n",
       "      <td>Just like the windows partition of my Mac is l...</td>\n",
       "    </tr>\n",
       "  </tbody>\n",
       "</table>\n",
       "<p>73995 rows × 2 columns</p>\n",
       "</div>"
      ],
      "text/plain": [
       "       Positive im getting on borderlands and i will murder you all ,\n",
       "0      Positive  I am coming to the borders and I will kill you...   \n",
       "1      Positive  im getting on borderlands and i will kill you ...   \n",
       "2      Positive  im coming on borderlands and i will murder you...   \n",
       "3      Positive  im getting on borderlands 2 and i will murder ...   \n",
       "4      Positive  im getting into borderlands and i can murder y...   \n",
       "...         ...                                                ...   \n",
       "74676  Positive  Just realized that the Windows partition of my...   \n",
       "74677  Positive  Just realized that my Mac window partition is ...   \n",
       "74678  Positive  Just realized the windows partition of my Mac ...   \n",
       "74679  Positive  Just realized between the windows partition of...   \n",
       "74680  Positive  Just like the windows partition of my Mac is l...   \n",
       "\n",
       "[73995 rows x 2 columns]"
      ]
     },
     "execution_count": 15,
     "metadata": {},
     "output_type": "execute_result"
    }
   ],
   "source": [
    "df"
   ]
  },
  {
   "cell_type": "code",
   "execution_count": 16,
   "metadata": {
    "colab": {
     "base_uri": "https://localhost:8080/",
     "height": 370
    },
    "id": "3ZBlRkK9Lkdd",
    "outputId": "1374ed27-97b7-4ca2-9640-951754683506",
    "tags": []
   },
   "outputs": [
    {
     "data": {
      "text/plain": [
       "<Axes: xlabel='Positive'>"
      ]
     },
     "execution_count": 16,
     "metadata": {},
     "output_type": "execute_result"
    },
    {
     "data": {
      "image/png": "[encoded data removed]",
      "text/plain": [
       "<Figure size 640x480 with 1 Axes>"
      ]
     },
     "metadata": {},
     "output_type": "display_data"
    }
   ],
   "source": [
    "df[\"Positive\"].value_counts().plot.bar()"
   ]
  },
  {
   "cell_type": "code",
   "execution_count": 17,
   "metadata": {
    "tags": []
   },
   "outputs": [
    {
     "data": {
      "text/plain": [
       "12875"
      ]
     },
     "execution_count": 17,
     "metadata": {},
     "output_type": "execute_result"
    }
   ],
   "source": [
    "len(df[df[\"Positive\"]==\"Irrelevant\"])"
   ]
  },
  {
   "cell_type": "code",
   "execution_count": 18,
   "metadata": {
    "id": "uDqq6PgGLphR",
    "tags": []
   },
   "outputs": [],
   "source": [
    "Positive = df[df[\"Positive\"]==\"Positive\"].sample(18_000)\n",
    "Negative = df[df[\"Positive\"]==\"Negative\"].sample(18_000)\n",
    "Neutral = df[df[\"Positive\"]==\"Neutral\"].sample(18_000)\n",
    "Irrelevant = df[df[\"Positive\"]==\"Irrelevant\"].sample(12_000)"
   ]
  },
  {
   "cell_type": "code",
   "execution_count": null,
   "metadata": {
    "tags": []
   },
   "outputs": [],
   "source": []
  },
  {
   "cell_type": "code",
   "execution_count": 19,
   "metadata": {
    "id": "U4j6pZpgkqSa",
    "tags": []
   },
   "outputs": [],
   "source": [
    "df = pd.concat([Positive,Negative,Neutral,Irrelevant])#,Irrelevant\n",
    "df = df.sample(frac= 1).reset_index(drop=True)"
   ]
  },
  {
   "cell_type": "code",
   "execution_count": 20,
   "metadata": {
    "colab": {
     "base_uri": "https://localhost:8080/",
     "height": 370
    },
    "id": "yxuwO56CO_6I",
    "outputId": "5d4348aa-2c7e-4765-82fd-273ba60af975",
    "tags": []
   },
   "outputs": [
    {
     "data": {
      "text/plain": [
       "<Axes: xlabel='Positive'>"
      ]
     },
     "execution_count": 20,
     "metadata": {},
     "output_type": "execute_result"
    },
    {
     "data": {
      "image/png": "[encoded data removed]",
      "text/plain": [
       "<Figure size 640x480 with 1 Axes>"
      ]
     },
     "metadata": {},
     "output_type": "display_data"
    }
   ],
   "source": [
    "df[\"Positive\"].value_counts().plot.bar()"
   ]
  },
  {
   "cell_type": "code",
   "execution_count": 21,
   "metadata": {
    "colab": {
     "base_uri": "https://localhost:8080/",
     "height": 423
    },
    "id": "jPJBPzbxPX5h",
    "outputId": "96eb0430-35e4-464e-f865-b637fc1da7f5",
    "tags": []
   },
   "outputs": [
    {
     "data": {
      "text/html": [
       "<div>\n",
       "<style scoped>\n",
       "    .dataframe tbody tr th:only-of-type {\n",
       "        vertical-align: middle;\n",
       "    }\n",
       "\n",
       "    .dataframe tbody tr th {\n",
       "        vertical-align: top;\n",
       "    }\n",
       "\n",
       "    .dataframe thead th {\n",
       "        text-align: right;\n",
       "    }\n",
       "</style>\n",
       "<table border=\"1\" class=\"dataframe\">\n",
       "  <thead>\n",
       "    <tr style=\"text-align: right;\">\n",
       "      <th></th>\n",
       "      <th>Positive</th>\n",
       "      <th>im getting on borderlands and i will murder you all ,</th>\n",
       "    </tr>\n",
       "  </thead>\n",
       "  <tbody>\n",
       "    <tr>\n",
       "      <th>0</th>\n",
       "      <td>Neutral</td>\n",
       "      <td>be</td>\n",
       "    </tr>\n",
       "    <tr>\n",
       "      <th>1</th>\n",
       "      <td>Neutral</td>\n",
       "      <td>my mercy @AmbarKOrtiz was SO mad at me for mak...</td>\n",
       "    </tr>\n",
       "    <tr>\n",
       "      <th>2</th>\n",
       "      <td>Negative</td>\n",
       "      <td>Thanks @verizon , we’re all stuck at home with...</td>\n",
       "    </tr>\n",
       "    <tr>\n",
       "      <th>3</th>\n",
       "      <td>Positive</td>\n",
       "      <td>I like buying it. Amazon Pantry Snacks Next se...</td>\n",
       "    </tr>\n",
       "    <tr>\n",
       "      <th>4</th>\n",
       "      <td>Neutral</td>\n",
       "      <td>.</td>\n",
       "    </tr>\n",
       "    <tr>\n",
       "      <th>...</th>\n",
       "      <td>...</td>\n",
       "      <td>...</td>\n",
       "    </tr>\n",
       "    <tr>\n",
       "      <th>65995</th>\n",
       "      <td>Irrelevant</td>\n",
       "      <td>So freaky awesome, good luck to everyone!</td>\n",
       "    </tr>\n",
       "    <tr>\n",
       "      <th>65996</th>\n",
       "      <td>Negative</td>\n",
       "      <td>Xbox: “no good exclusives, huh?”</td>\n",
       "    </tr>\n",
       "    <tr>\n",
       "      <th>65997</th>\n",
       "      <td>Neutral</td>\n",
       "      <td>Why what Rockstar Entertainment won s ’ t rele...</td>\n",
       "    </tr>\n",
       "    <tr>\n",
       "      <th>65998</th>\n",
       "      <td>Neutral</td>\n",
       "      <td>nigga tried to fry me because I didn't know th...</td>\n",
       "    </tr>\n",
       "    <tr>\n",
       "      <th>65999</th>\n",
       "      <td>Positive</td>\n",
       "      <td>Thanks y'all! .</td>\n",
       "    </tr>\n",
       "  </tbody>\n",
       "</table>\n",
       "<p>66000 rows × 2 columns</p>\n",
       "</div>"
      ],
      "text/plain": [
       "         Positive im getting on borderlands and i will murder you all ,\n",
       "0         Neutral                                                 be   \n",
       "1         Neutral  my mercy @AmbarKOrtiz was SO mad at me for mak...   \n",
       "2        Negative  Thanks @verizon , we’re all stuck at home with...   \n",
       "3        Positive  I like buying it. Amazon Pantry Snacks Next se...   \n",
       "4         Neutral                                               .      \n",
       "...           ...                                                ...   \n",
       "65995  Irrelevant          So freaky awesome, good luck to everyone!   \n",
       "65996    Negative                   Xbox: “no good exclusives, huh?”   \n",
       "65997     Neutral  Why what Rockstar Entertainment won s ’ t rele...   \n",
       "65998     Neutral  nigga tried to fry me because I didn't know th...   \n",
       "65999    Positive                                   Thanks y'all! .    \n",
       "\n",
       "[66000 rows x 2 columns]"
      ]
     },
     "execution_count": 21,
     "metadata": {},
     "output_type": "execute_result"
    }
   ],
   "source": [
    "df"
   ]
  },
  {
   "cell_type": "code",
   "execution_count": 22,
   "metadata": {
    "colab": {
     "base_uri": "https://localhost:8080/"
    },
    "id": "7uTydZ9aQPaZ",
    "outputId": "3bb7a4a5-8b5f-4827-fca4-67cb514a8b32",
    "tags": []
   },
   "outputs": [
    {
     "name": "stderr",
     "output_type": "stream",
     "text": [
      "[nltk_data] Downloading collection 'all'\n",
      "[nltk_data]    | \n",
      "[nltk_data]    | Downloading package abc to\n",
      "[nltk_data]    |     C:\\Users\\ludwi\\AppData\\Roaming\\nltk_data...\n",
      "[nltk_data]    |   Package abc is already up-to-date!\n",
      "[nltk_data]    | Downloading package alpino to\n",
      "[nltk_data]    |     C:\\Users\\ludwi\\AppData\\Roaming\\nltk_data...\n",
      "[nltk_data]    |   Package alpino is already up-to-date!\n",
      "[nltk_data]    | Downloading package averaged_perceptron_tagger to\n",
      "[nltk_data]    |     C:\\Users\\ludwi\\AppData\\Roaming\\nltk_data...\n",
      "[nltk_data]    |   Package averaged_perceptron_tagger is already up-\n",
      "[nltk_data]    |       to-date!\n",
      "[nltk_data]    | Downloading package averaged_perceptron_tagger_ru to\n",
      "[nltk_data]    |     C:\\Users\\ludwi\\AppData\\Roaming\\nltk_data...\n",
      "[nltk_data]    |   Package averaged_perceptron_tagger_ru is already\n",
      "[nltk_data]    |       up-to-date!\n",
      "[nltk_data]    | Downloading package basque_grammars to\n",
      "[nltk_data]    |     C:\\Users\\ludwi\\AppData\\Roaming\\nltk_data...\n",
      "[nltk_data]    |   Package basque_grammars is already up-to-date!\n",
      "[nltk_data]    | Downloading package bcp47 to\n",
      "[nltk_data]    |     C:\\Users\\ludwi\\AppData\\Roaming\\nltk_data...\n",
      "[nltk_data]    |   Package bcp47 is already up-to-date!\n",
      "[nltk_data]    | Downloading package biocreative_ppi to\n",
      "[nltk_data]    |     C:\\Users\\ludwi\\AppData\\Roaming\\nltk_data...\n",
      "[nltk_data]    |   Package biocreative_ppi is already up-to-date!\n",
      "[nltk_data]    | Downloading package bllip_wsj_no_aux to\n",
      "[nltk_data]    |     C:\\Users\\ludwi\\AppData\\Roaming\\nltk_data...\n",
      "[nltk_data]    |   Package bllip_wsj_no_aux is already up-to-date!\n",
      "[nltk_data]    | Downloading package book_grammars to\n",
      "[nltk_data]    |     C:\\Users\\ludwi\\AppData\\Roaming\\nltk_data...\n",
      "[nltk_data]    |   Package book_grammars is already up-to-date!\n",
      "[nltk_data]    | Downloading package brown to\n",
      "[nltk_data]    |     C:\\Users\\ludwi\\AppData\\Roaming\\nltk_data...\n",
      "[nltk_data]    |   Package brown is already up-to-date!\n",
      "[nltk_data]    | Downloading package brown_tei to\n",
      "[nltk_data]    |     C:\\Users\\ludwi\\AppData\\Roaming\\nltk_data...\n",
      "[nltk_data]    |   Package brown_tei is already up-to-date!\n",
      "[nltk_data]    | Downloading package cess_cat to\n",
      "[nltk_data]    |     C:\\Users\\ludwi\\AppData\\Roaming\\nltk_data...\n",
      "[nltk_data]    |   Package cess_cat is already up-to-date!\n",
      "[nltk_data]    | Downloading package cess_esp to\n",
      "[nltk_data]    |     C:\\Users\\ludwi\\AppData\\Roaming\\nltk_data...\n",
      "[nltk_data]    |   Package cess_esp is already up-to-date!\n",
      "[nltk_data]    | Downloading package chat80 to\n",
      "[nltk_data]    |     C:\\Users\\ludwi\\AppData\\Roaming\\nltk_data...\n",
      "[nltk_data]    |   Package chat80 is already up-to-date!\n",
      "[nltk_data]    | Downloading package city_database to\n",
      "[nltk_data]    |     C:\\Users\\ludwi\\AppData\\Roaming\\nltk_data...\n",
      "[nltk_data]    |   Package city_database is already up-to-date!\n",
      "[nltk_data]    | Downloading package cmudict to\n",
      "[nltk_data]    |     C:\\Users\\ludwi\\AppData\\Roaming\\nltk_data...\n",
      "[nltk_data]    |   Package cmudict is already up-to-date!\n",
      "[nltk_data]    | Downloading package comparative_sentences to\n",
      "[nltk_data]    |     C:\\Users\\ludwi\\AppData\\Roaming\\nltk_data...\n",
      "[nltk_data]    |   Package comparative_sentences is already up-to-\n",
      "[nltk_data]    |       date!\n",
      "[nltk_data]    | Downloading package comtrans to\n",
      "[nltk_data]    |     C:\\Users\\ludwi\\AppData\\Roaming\\nltk_data...\n",
      "[nltk_data]    |   Package comtrans is already up-to-date!\n",
      "[nltk_data]    | Downloading package conll2000 to\n",
      "[nltk_data]    |     C:\\Users\\ludwi\\AppData\\Roaming\\nltk_data...\n",
      "[nltk_data]    |   Package conll2000 is already up-to-date!\n",
      "[nltk_data]    | Downloading package conll2002 to\n",
      "[nltk_data]    |     C:\\Users\\ludwi\\AppData\\Roaming\\nltk_data...\n",
      "[nltk_data]    |   Package conll2002 is already up-to-date!\n",
      "[nltk_data]    | Downloading package conll2007 to\n",
      "[nltk_data]    |     C:\\Users\\ludwi\\AppData\\Roaming\\nltk_data...\n",
      "[nltk_data]    |   Package conll2007 is already up-to-date!\n",
      "[nltk_data]    | Downloading package crubadan to\n",
      "[nltk_data]    |     C:\\Users\\ludwi\\AppData\\Roaming\\nltk_data...\n",
      "[nltk_data]    |   Package crubadan is already up-to-date!\n",
      "[nltk_data]    | Downloading package dependency_treebank to\n",
      "[nltk_data]    |     C:\\Users\\ludwi\\AppData\\Roaming\\nltk_data...\n",
      "[nltk_data]    |   Package dependency_treebank is already up-to-date!\n",
      "[nltk_data]    | Downloading package dolch to\n",
      "[nltk_data]    |     C:\\Users\\ludwi\\AppData\\Roaming\\nltk_data...\n",
      "[nltk_data]    |   Package dolch is already up-to-date!\n",
      "[nltk_data]    | Downloading package europarl_raw to\n",
      "[nltk_data]    |     C:\\Users\\ludwi\\AppData\\Roaming\\nltk_data...\n",
      "[nltk_data]    |   Package europarl_raw is already up-to-date!\n",
      "[nltk_data]    | Downloading package extended_omw to\n",
      "[nltk_data]    |     C:\\Users\\ludwi\\AppData\\Roaming\\nltk_data...\n",
      "[nltk_data]    |   Package extended_omw is already up-to-date!\n",
      "[nltk_data]    | Downloading package floresta to\n",
      "[nltk_data]    |     C:\\Users\\ludwi\\AppData\\Roaming\\nltk_data...\n",
      "[nltk_data]    |   Package floresta is already up-to-date!\n",
      "[nltk_data]    | Downloading package framenet_v15 to\n",
      "[nltk_data]    |     C:\\Users\\ludwi\\AppData\\Roaming\\nltk_data...\n",
      "[nltk_data]    |   Package framenet_v15 is already up-to-date!\n",
      "[nltk_data]    | Downloading package framenet_v17 to\n",
      "[nltk_data]    |     C:\\Users\\ludwi\\AppData\\Roaming\\nltk_data...\n",
      "[nltk_data]    |   Package framenet_v17 is already up-to-date!\n",
      "[nltk_data]    | Downloading package gazetteers to\n",
      "[nltk_data]    |     C:\\Users\\ludwi\\AppData\\Roaming\\nltk_data...\n",
      "[nltk_data]    |   Package gazetteers is already up-to-date!\n",
      "[nltk_data]    | Downloading package genesis to\n",
      "[nltk_data]    |     C:\\Users\\ludwi\\AppData\\Roaming\\nltk_data...\n",
      "[nltk_data]    |   Package genesis is already up-to-date!\n",
      "[nltk_data]    | Downloading package gutenberg to\n",
      "[nltk_data]    |     C:\\Users\\ludwi\\AppData\\Roaming\\nltk_data...\n",
      "[nltk_data]    |   Package gutenberg is already up-to-date!\n",
      "[nltk_data]    | Downloading package ieer to\n",
      "[nltk_data]    |     C:\\Users\\ludwi\\AppData\\Roaming\\nltk_data...\n",
      "[nltk_data]    |   Package ieer is already up-to-date!\n",
      "[nltk_data]    | Downloading package inaugural to\n",
      "[nltk_data]    |     C:\\Users\\ludwi\\AppData\\Roaming\\nltk_data...\n",
      "[nltk_data]    |   Package inaugural is already up-to-date!\n",
      "[nltk_data]    | Downloading package indian to\n",
      "[nltk_data]    |     C:\\Users\\ludwi\\AppData\\Roaming\\nltk_data...\n",
      "[nltk_data]    |   Package indian is already up-to-date!\n",
      "[nltk_data]    | Downloading package jeita to\n",
      "[nltk_data]    |     C:\\Users\\ludwi\\AppData\\Roaming\\nltk_data...\n",
      "[nltk_data]    |   Package jeita is already up-to-date!\n",
      "[nltk_data]    | Downloading package kimmo to\n",
      "[nltk_data]    |     C:\\Users\\ludwi\\AppData\\Roaming\\nltk_data...\n",
      "[nltk_data]    |   Package kimmo is already up-to-date!\n",
      "[nltk_data]    | Downloading package knbc to\n",
      "[nltk_data]    |     C:\\Users\\ludwi\\AppData\\Roaming\\nltk_data...\n",
      "[nltk_data]    |   Package knbc is already up-to-date!\n",
      "[nltk_data]    | Downloading package large_grammars to\n",
      "[nltk_data]    |     C:\\Users\\ludwi\\AppData\\Roaming\\nltk_data...\n",
      "[nltk_data]    |   Package large_grammars is already up-to-date!\n",
      "[nltk_data]    | Downloading package lin_thesaurus to\n",
      "[nltk_data]    |     C:\\Users\\ludwi\\AppData\\Roaming\\nltk_data...\n",
      "[nltk_data]    |   Package lin_thesaurus is already up-to-date!\n",
      "[nltk_data]    | Downloading package mac_morpho to\n",
      "[nltk_data]    |     C:\\Users\\ludwi\\AppData\\Roaming\\nltk_data...\n",
      "[nltk_data]    |   Package mac_morpho is already up-to-date!\n",
      "[nltk_data]    | Downloading package machado to\n",
      "[nltk_data]    |     C:\\Users\\ludwi\\AppData\\Roaming\\nltk_data...\n",
      "[nltk_data]    |   Package machado is already up-to-date!\n",
      "[nltk_data]    | Downloading package masc_tagged to\n",
      "[nltk_data]    |     C:\\Users\\ludwi\\AppData\\Roaming\\nltk_data...\n",
      "[nltk_data]    |   Package masc_tagged is already up-to-date!\n",
      "[nltk_data]    | Downloading package maxent_ne_chunker to\n",
      "[nltk_data]    |     C:\\Users\\ludwi\\AppData\\Roaming\\nltk_data...\n",
      "[nltk_data]    |   Package maxent_ne_chunker is already up-to-date!\n",
      "[nltk_data]    | Downloading package maxent_treebank_pos_tagger to\n",
      "[nltk_data]    |     C:\\Users\\ludwi\\AppData\\Roaming\\nltk_data...\n",
      "[nltk_data]    |   Package maxent_treebank_pos_tagger is already up-\n",
      "[nltk_data]    |       to-date!\n",
      "[nltk_data]    | Downloading package moses_sample to\n",
      "[nltk_data]    |     C:\\Users\\ludwi\\AppData\\Roaming\\nltk_data...\n",
      "[nltk_data]    |   Package moses_sample is already up-to-date!\n",
      "[nltk_data]    | Downloading package movie_reviews to\n",
      "[nltk_data]    |     C:\\Users\\ludwi\\AppData\\Roaming\\nltk_data...\n",
      "[nltk_data]    |   Package movie_reviews is already up-to-date!\n",
      "[nltk_data]    | Downloading package mte_teip5 to\n",
      "[nltk_data]    |     C:\\Users\\ludwi\\AppData\\Roaming\\nltk_data...\n",
      "[nltk_data]    |   Package mte_teip5 is already up-to-date!\n",
      "[nltk_data]    | Downloading package mwa_ppdb to\n",
      "[nltk_data]    |     C:\\Users\\ludwi\\AppData\\Roaming\\nltk_data...\n",
      "[nltk_data]    |   Package mwa_ppdb is already up-to-date!\n",
      "[nltk_data]    | Downloading package names to\n",
      "[nltk_data]    |     C:\\Users\\ludwi\\AppData\\Roaming\\nltk_data...\n",
      "[nltk_data]    |   Package names is already up-to-date!\n",
      "[nltk_data]    | Downloading package nombank.1.0 to\n",
      "[nltk_data]    |     C:\\Users\\ludwi\\AppData\\Roaming\\nltk_data...\n",
      "[nltk_data]    |   Package nombank.1.0 is already up-to-date!\n",
      "[nltk_data]    | Downloading package nonbreaking_prefixes to\n",
      "[nltk_data]    |     C:\\Users\\ludwi\\AppData\\Roaming\\nltk_data...\n",
      "[nltk_data]    |   Package nonbreaking_prefixes is already up-to-date!\n",
      "[nltk_data]    | Downloading package nps_chat to\n",
      "[nltk_data]    |     C:\\Users\\ludwi\\AppData\\Roaming\\nltk_data...\n",
      "[nltk_data]    |   Package nps_chat is already up-to-date!\n",
      "[nltk_data]    | Downloading package omw to\n",
      "[nltk_data]    |     C:\\Users\\ludwi\\AppData\\Roaming\\nltk_data...\n",
      "[nltk_data]    |   Package omw is already up-to-date!\n",
      "[nltk_data]    | Downloading package omw-1.4 to\n",
      "[nltk_data]    |     C:\\Users\\ludwi\\AppData\\Roaming\\nltk_data...\n",
      "[nltk_data]    |   Package omw-1.4 is already up-to-date!\n",
      "[nltk_data]    | Downloading package opinion_lexicon to\n",
      "[nltk_data]    |     C:\\Users\\ludwi\\AppData\\Roaming\\nltk_data...\n",
      "[nltk_data]    |   Package opinion_lexicon is already up-to-date!\n",
      "[nltk_data]    | Downloading package panlex_swadesh to\n",
      "[nltk_data]    |     C:\\Users\\ludwi\\AppData\\Roaming\\nltk_data...\n",
      "[nltk_data]    |   Package panlex_swadesh is already up-to-date!\n",
      "[nltk_data]    | Downloading package paradigms to\n",
      "[nltk_data]    |     C:\\Users\\ludwi\\AppData\\Roaming\\nltk_data...\n",
      "[nltk_data]    |   Package paradigms is already up-to-date!\n",
      "[nltk_data]    | Downloading package pe08 to\n",
      "[nltk_data]    |     C:\\Users\\ludwi\\AppData\\Roaming\\nltk_data...\n",
      "[nltk_data]    |   Package pe08 is already up-to-date!\n",
      "[nltk_data]    | Downloading package perluniprops to\n",
      "[nltk_data]    |     C:\\Users\\ludwi\\AppData\\Roaming\\nltk_data...\n",
      "[nltk_data]    |   Package perluniprops is already up-to-date!\n",
      "[nltk_data]    | Downloading package pil to\n",
      "[nltk_data]    |     C:\\Users\\ludwi\\AppData\\Roaming\\nltk_data...\n",
      "[nltk_data]    |   Package pil is already up-to-date!\n",
      "[nltk_data]    | Downloading package pl196x to\n",
      "[nltk_data]    |     C:\\Users\\ludwi\\AppData\\Roaming\\nltk_data...\n",
      "[nltk_data]    |   Package pl196x is already up-to-date!\n",
      "[nltk_data]    | Downloading package porter_test to\n",
      "[nltk_data]    |     C:\\Users\\ludwi\\AppData\\Roaming\\nltk_data...\n",
      "[nltk_data]    |   Package porter_test is already up-to-date!\n",
      "[nltk_data]    | Downloading package ppattach to\n",
      "[nltk_data]    |     C:\\Users\\ludwi\\AppData\\Roaming\\nltk_data...\n",
      "[nltk_data]    |   Package ppattach is already up-to-date!\n",
      "[nltk_data]    | Downloading package problem_reports to\n",
      "[nltk_data]    |     C:\\Users\\ludwi\\AppData\\Roaming\\nltk_data...\n",
      "[nltk_data]    |   Package problem_reports is already up-to-date!\n",
      "[nltk_data]    | Downloading package product_reviews_1 to\n",
      "[nltk_data]    |     C:\\Users\\ludwi\\AppData\\Roaming\\nltk_data...\n",
      "[nltk_data]    |   Package product_reviews_1 is already up-to-date!\n",
      "[nltk_data]    | Downloading package product_reviews_2 to\n",
      "[nltk_data]    |     C:\\Users\\ludwi\\AppData\\Roaming\\nltk_data...\n",
      "[nltk_data]    |   Package product_reviews_2 is already up-to-date!\n",
      "[nltk_data]    | Downloading package propbank to\n",
      "[nltk_data]    |     C:\\Users\\ludwi\\AppData\\Roaming\\nltk_data...\n",
      "[nltk_data]    |   Package propbank is already up-to-date!\n",
      "[nltk_data]    | Downloading package pros_cons to\n",
      "[nltk_data]    |     C:\\Users\\ludwi\\AppData\\Roaming\\nltk_data...\n",
      "[nltk_data]    |   Package pros_cons is already up-to-date!\n",
      "[nltk_data]    | Downloading package ptb to\n",
      "[nltk_data]    |     C:\\Users\\ludwi\\AppData\\Roaming\\nltk_data...\n",
      "[nltk_data]    |   Package ptb is already up-to-date!\n",
      "[nltk_data]    | Downloading package punkt to\n",
      "[nltk_data]    |     C:\\Users\\ludwi\\AppData\\Roaming\\nltk_data...\n",
      "[nltk_data]    |   Package punkt is already up-to-date!\n",
      "[nltk_data]    | Downloading package qc to\n",
      "[nltk_data]    |     C:\\Users\\ludwi\\AppData\\Roaming\\nltk_data...\n",
      "[nltk_data]    |   Package qc is already up-to-date!\n",
      "[nltk_data]    | Downloading package reuters to\n",
      "[nltk_data]    |     C:\\Users\\ludwi\\AppData\\Roaming\\nltk_data...\n",
      "[nltk_data]    |   Package reuters is already up-to-date!\n",
      "[nltk_data]    | Downloading package rslp to\n",
      "[nltk_data]    |     C:\\Users\\ludwi\\AppData\\Roaming\\nltk_data...\n",
      "[nltk_data]    |   Package rslp is already up-to-date!\n",
      "[nltk_data]    | Downloading package rte to\n",
      "[nltk_data]    |     C:\\Users\\ludwi\\AppData\\Roaming\\nltk_data...\n",
      "[nltk_data]    |   Package rte is already up-to-date!\n",
      "[nltk_data]    | Downloading package sample_grammars to\n",
      "[nltk_data]    |     C:\\Users\\ludwi\\AppData\\Roaming\\nltk_data...\n",
      "[nltk_data]    |   Package sample_grammars is already up-to-date!\n",
      "[nltk_data]    | Downloading package semcor to\n",
      "[nltk_data]    |     C:\\Users\\ludwi\\AppData\\Roaming\\nltk_data...\n",
      "[nltk_data]    |   Package semcor is already up-to-date!\n",
      "[nltk_data]    | Downloading package senseval to\n",
      "[nltk_data]    |     C:\\Users\\ludwi\\AppData\\Roaming\\nltk_data...\n",
      "[nltk_data]    |   Package senseval is already up-to-date!\n",
      "[nltk_data]    | Downloading package sentence_polarity to\n",
      "[nltk_data]    |     C:\\Users\\ludwi\\AppData\\Roaming\\nltk_data...\n",
      "[nltk_data]    |   Package sentence_polarity is already up-to-date!\n",
      "[nltk_data]    | Downloading package sentiwordnet to\n",
      "[nltk_data]    |     C:\\Users\\ludwi\\AppData\\Roaming\\nltk_data...\n",
      "[nltk_data]    |   Package sentiwordnet is already up-to-date!\n",
      "[nltk_data]    | Downloading package shakespeare to\n",
      "[nltk_data]    |     C:\\Users\\ludwi\\AppData\\Roaming\\nltk_data...\n",
      "[nltk_data]    |   Package shakespeare is already up-to-date!\n",
      "[nltk_data]    | Downloading package sinica_treebank to\n",
      "[nltk_data]    |     C:\\Users\\ludwi\\AppData\\Roaming\\nltk_data...\n",
      "[nltk_data]    |   Package sinica_treebank is already up-to-date!\n",
      "[nltk_data]    | Downloading package smultron to\n",
      "[nltk_data]    |     C:\\Users\\ludwi\\AppData\\Roaming\\nltk_data...\n",
      "[nltk_data]    |   Package smultron is already up-to-date!\n",
      "[nltk_data]    | Downloading package snowball_data to\n",
      "[nltk_data]    |     C:\\Users\\ludwi\\AppData\\Roaming\\nltk_data...\n",
      "[nltk_data]    |   Package snowball_data is already up-to-date!\n",
      "[nltk_data]    | Downloading package spanish_grammars to\n",
      "[nltk_data]    |     C:\\Users\\ludwi\\AppData\\Roaming\\nltk_data...\n",
      "[nltk_data]    |   Package spanish_grammars is already up-to-date!\n",
      "[nltk_data]    | Downloading package state_union to\n",
      "[nltk_data]    |     C:\\Users\\ludwi\\AppData\\Roaming\\nltk_data...\n",
      "[nltk_data]    |   Package state_union is already up-to-date!\n",
      "[nltk_data]    | Downloading package stopwords to\n",
      "[nltk_data]    |     C:\\Users\\ludwi\\AppData\\Roaming\\nltk_data...\n",
      "[nltk_data]    |   Package stopwords is already up-to-date!\n",
      "[nltk_data]    | Downloading package subjectivity to\n",
      "[nltk_data]    |     C:\\Users\\ludwi\\AppData\\Roaming\\nltk_data...\n",
      "[nltk_data]    |   Package subjectivity is already up-to-date!\n",
      "[nltk_data]    | Downloading package swadesh to\n",
      "[nltk_data]    |     C:\\Users\\ludwi\\AppData\\Roaming\\nltk_data...\n",
      "[nltk_data]    |   Package swadesh is already up-to-date!\n",
      "[nltk_data]    | Downloading package switchboard to\n",
      "[nltk_data]    |     C:\\Users\\ludwi\\AppData\\Roaming\\nltk_data...\n",
      "[nltk_data]    |   Package switchboard is already up-to-date!\n",
      "[nltk_data]    | Downloading package tagsets to\n",
      "[nltk_data]    |     C:\\Users\\ludwi\\AppData\\Roaming\\nltk_data...\n",
      "[nltk_data]    |   Package tagsets is already up-to-date!\n",
      "[nltk_data]    | Downloading package timit to\n",
      "[nltk_data]    |     C:\\Users\\ludwi\\AppData\\Roaming\\nltk_data...\n",
      "[nltk_data]    |   Package timit is already up-to-date!\n",
      "[nltk_data]    | Downloading package toolbox to\n",
      "[nltk_data]    |     C:\\Users\\ludwi\\AppData\\Roaming\\nltk_data...\n",
      "[nltk_data]    |   Package toolbox is already up-to-date!\n",
      "[nltk_data]    | Downloading package treebank to\n",
      "[nltk_data]    |     C:\\Users\\ludwi\\AppData\\Roaming\\nltk_data...\n",
      "[nltk_data]    |   Package treebank is already up-to-date!\n",
      "[nltk_data]    | Downloading package twitter_samples to\n",
      "[nltk_data]    |     C:\\Users\\ludwi\\AppData\\Roaming\\nltk_data...\n",
      "[nltk_data]    |   Package twitter_samples is already up-to-date!\n",
      "[nltk_data]    | Downloading package udhr to\n",
      "[nltk_data]    |     C:\\Users\\ludwi\\AppData\\Roaming\\nltk_data...\n",
      "[nltk_data]    |   Package udhr is already up-to-date!\n",
      "[nltk_data]    | Downloading package udhr2 to\n",
      "[nltk_data]    |     C:\\Users\\ludwi\\AppData\\Roaming\\nltk_data...\n",
      "[nltk_data]    |   Package udhr2 is already up-to-date!\n",
      "[nltk_data]    | Downloading package unicode_samples to\n",
      "[nltk_data]    |     C:\\Users\\ludwi\\AppData\\Roaming\\nltk_data...\n",
      "[nltk_data]    |   Package unicode_samples is already up-to-date!\n",
      "[nltk_data]    | Downloading package universal_tagset to\n",
      "[nltk_data]    |     C:\\Users\\ludwi\\AppData\\Roaming\\nltk_data...\n",
      "[nltk_data]    |   Package universal_tagset is already up-to-date!\n",
      "[nltk_data]    | Downloading package universal_treebanks_v20 to\n",
      "[nltk_data]    |     C:\\Users\\ludwi\\AppData\\Roaming\\nltk_data...\n",
      "[nltk_data]    |   Package universal_treebanks_v20 is already up-to-\n",
      "[nltk_data]    |       date!\n",
      "[nltk_data]    | Downloading package vader_lexicon to\n",
      "[nltk_data]    |     C:\\Users\\ludwi\\AppData\\Roaming\\nltk_data...\n",
      "[nltk_data]    |   Package vader_lexicon is already up-to-date!\n",
      "[nltk_data]    | Downloading package verbnet to\n",
      "[nltk_data]    |     C:\\Users\\ludwi\\AppData\\Roaming\\nltk_data...\n",
      "[nltk_data]    |   Package verbnet is already up-to-date!\n",
      "[nltk_data]    | Downloading package verbnet3 to\n",
      "[nltk_data]    |     C:\\Users\\ludwi\\AppData\\Roaming\\nltk_data...\n",
      "[nltk_data]    |   Package verbnet3 is already up-to-date!\n",
      "[nltk_data]    | Downloading package webtext to\n",
      "[nltk_data]    |     C:\\Users\\ludwi\\AppData\\Roaming\\nltk_data...\n",
      "[nltk_data]    |   Package webtext is already up-to-date!\n",
      "[nltk_data]    | Downloading package wmt15_eval to\n",
      "[nltk_data]    |     C:\\Users\\ludwi\\AppData\\Roaming\\nltk_data...\n",
      "[nltk_data]    |   Package wmt15_eval is already up-to-date!\n",
      "[nltk_data]    | Downloading package word2vec_sample to\n",
      "[nltk_data]    |     C:\\Users\\ludwi\\AppData\\Roaming\\nltk_data...\n",
      "[nltk_data]    |   Package word2vec_sample is already up-to-date!\n",
      "[nltk_data]    | Downloading package wordnet to\n",
      "[nltk_data]    |     C:\\Users\\ludwi\\AppData\\Roaming\\nltk_data...\n",
      "[nltk_data]    |   Package wordnet is already up-to-date!\n",
      "[nltk_data]    | Downloading package wordnet2021 to\n",
      "[nltk_data]    |     C:\\Users\\ludwi\\AppData\\Roaming\\nltk_data...\n",
      "[nltk_data]    |   Package wordnet2021 is already up-to-date!\n",
      "[nltk_data]    | Downloading package wordnet2022 to\n",
      "[nltk_data]    |     C:\\Users\\ludwi\\AppData\\Roaming\\nltk_data...\n",
      "[nltk_data]    |   Package wordnet2022 is already up-to-date!\n",
      "[nltk_data]    | Downloading package wordnet31 to\n",
      "[nltk_data]    |     C:\\Users\\ludwi\\AppData\\Roaming\\nltk_data...\n",
      "[nltk_data]    |   Package wordnet31 is already up-to-date!\n",
      "[nltk_data]    | Downloading package wordnet_ic to\n",
      "[nltk_data]    |     C:\\Users\\ludwi\\AppData\\Roaming\\nltk_data...\n",
      "[nltk_data]    |   Package wordnet_ic is already up-to-date!\n",
      "[nltk_data]    | Downloading package words to\n",
      "[nltk_data]    |     C:\\Users\\ludwi\\AppData\\Roaming\\nltk_data...\n",
      "[nltk_data]    |   Package words is already up-to-date!\n",
      "[nltk_data]    | Downloading package ycoe to\n",
      "[nltk_data]    |     C:\\Users\\ludwi\\AppData\\Roaming\\nltk_data...\n",
      "[nltk_data]    |   Package ycoe is already up-to-date!\n",
      "[nltk_data]    | \n",
      "[nltk_data]  Done downloading collection all\n"
     ]
    },
    {
     "data": {
      "text/plain": [
       "True"
      ]
     },
     "execution_count": 22,
     "metadata": {},
     "output_type": "execute_result"
    }
   ],
   "source": [
    "import nltk\n",
    "from nltk import PorterStemmer\n",
    "from nltk.stem.wordnet import WordNetLemmatizer\n",
    "nltk.download([\"all\"])"
   ]
  },
  {
   "cell_type": "code",
   "execution_count": 23,
   "metadata": {
    "id": "tonOS_TsQesT",
    "tags": []
   },
   "outputs": [],
   "source": [
    "stopwords = nltk.corpus.stopwords.words(\"english\")\n",
    "names = nltk.corpus.names.words()"
   ]
  },
  {
   "cell_type": "code",
   "execution_count": 24,
   "metadata": {
    "colab": {
     "base_uri": "https://localhost:8080/"
    },
    "id": "5kYiKVSwQff1",
    "outputId": "fcf5a578-0c41-47da-ad3e-7b4464206964",
    "tags": []
   },
   "outputs": [
    {
     "name": "stdout",
     "output_type": "stream",
     "text": [
      "['Abagael', 'Abagail', 'Abbe', 'Abbey', 'Abbi', 'Abbie', 'Abby', 'Abigael', 'Abigail', 'Abigale', 'Abra', 'Acacia', 'Ada', 'Adah', 'Adaline', 'Adara', 'Addie', 'Addis', 'Adel', 'Adela', 'Adelaide', 'Adele', 'Adelice', 'Adelina', 'Adelind', 'Adeline', 'Adella', 'Adelle', 'Adena', 'Adey', 'Adi', 'Adiana', 'Adina', 'Adora', 'Adore', 'Adoree', 'Adorne', 'Adrea', 'Adria', 'Adriaens', 'Adrian', 'Adriana', 'Adriane', 'Adrianna', 'Adrianne', 'Adrien', 'Adriena', 'Adrienne', 'Aeriel', 'Aeriela', 'Aeriell', 'Ag', 'Agace', 'Agata', 'Agatha', 'Agathe', 'Aggi', 'Aggie', 'Aggy', 'Agna', 'Agnella', 'Agnes', 'Agnese', 'Agnesse', 'Agneta', 'Agnola', 'Agretha', 'Aida', 'Aidan', 'Aigneis', 'Aila', 'Aile', 'Ailee', 'Aileen', 'Ailene', 'Ailey', 'Aili', 'Ailina', 'Ailyn', 'Aime', 'Aimee', 'Aimil', 'Aina', 'Aindrea', 'Ainslee', 'Ainsley', 'Ainslie', 'Ajay', 'Alaine', 'Alameda', 'Alana', 'Alanah', 'Alane', 'Alanna', 'Alayne', 'Alberta', 'Albertina', 'Albertine', 'Albina', 'Alecia', 'Aleda', 'Aleece', 'Aleecia', 'Aleen', 'Alejandra', 'Alejandrina', 'Alena', 'Alene', 'Alessandra', 'Aleta', 'Alethea', 'Alex', 'Alexa', 'Alexandra', 'Alexandrina', 'Alexi', 'Alexia', 'Alexina', 'Alexine', 'Alexis', 'Alfie', 'Alfreda', 'Ali', 'Alia', 'Alica', 'Alice', 'Alicea', 'Alicia', 'Alida', 'Alidia', 'Alina', 'Aline', 'Alis', 'Alisa', 'Alisha', 'Alison', 'Alissa', 'Alisun', 'Alix', 'Aliza', 'Alla', 'Alleen', 'Allegra', 'Allene', 'Alli', 'Allianora', 'Allie', 'Allina', 'Allis', 'Allison', 'Allissa', 'Allsun', 'Ally', 'Allyce', 'Allyn', 'Allys', 'Allyson', 'Alma', 'Almeda', 'Almeria', 'Almeta', 'Almira', 'Almire', 'Aloise', 'Aloisia', 'Aloysia', 'Alpa', 'Alta', 'Althea', 'Alvera', 'Alvina', 'Alvinia', 'Alvira', 'Alyce', 'Alyda', 'Alys', 'Alysa', 'Alyse', 'Alysia', 'Alyson', 'Alyss', 'Alyssa', 'Amabel', 'Amabelle', 'Amalea', 'Amalee', 'Amaleta', 'Amalia', 'Amalie', 'Amalita', 'Amalle', 'Amanda', 'Amandi', 'Amandie', 'Amandy', 'Amara', 'Amargo', 'Amata', 'Amber', 'Amberly', 'Ambrosia', 'Ambur', 'Ame', 'Amelia', 'Amelie', 'Amelina', 'Ameline', 'Amelita', 'Ami', 'Amie', 'Amity', 'Ammamaria', 'Amy', 'Ana', 'Anabel', 'Anabella', 'Anabelle', 'Anais', 'Analiese', 'Analise', 'Anallese', 'Anallise', 'Anastasia', 'Anastasie', 'Anastassia', 'Anatola', 'Andee', 'Andi', 'Andie', 'Andra', 'Andrea', 'Andreana', 'Andree', 'Andrei', 'Andria', 'Andriana', 'Andriette', 'Andromache', 'Andromeda', 'Andy', 'Anestassia', 'Anet', 'Anett', 'Anetta', 'Anette', 'Ange', 'Angel', 'Angela', 'Angele', 'Angelia', 'Angelica', 'Angelika', 'Angelina', 'Angeline', 'Angelique', 'Angelita', 'Angelle', 'Angie', 'Angil', 'Angy', 'Ania', 'Anica', 'Anissa', 'Anita', 'Anitra', 'Anja', 'Anjanette', 'Anjela', 'Ann', 'Ann-Mari', 'Ann-Marie', 'Anna', 'Anna-Diana', 'Anna-Diane', 'Anna-Maria', 'Annabal', 'Annabel', 'Annabela', 'Annabell', 'Annabella', 'Annabelle', 'Annadiana', 'Annadiane', 'Annalee', 'Annalena', 'Annaliese', 'Annalisa', 'Annalise', 'Annalyse', 'Annamari', 'Annamaria', 'Annamarie', 'Anne', 'Anne-Corinne', 'Anne-Mar', 'Anne-Marie', 'Annecorinne', 'Anneliese', 'Annelise', 'Annemarie', 'Annetta', 'Annette', 'Anni', 'Annice', 'Annie', 'Annissa', 'Annmaria', 'Annmarie', 'Annnora', 'Annora', 'Anny', 'Anselma', 'Ansley', 'Anstice', 'Anthe', 'Anthea', 'Anthia', 'Antoinette', 'Antonella', 'Antonetta', 'Antonia', 'Antonie', 'Antonietta', 'Antonina', 'Anya', 'Aphrodite', 'Appolonia', 'April', 'Aprilette', 'Ara', 'Arabel', 'Arabela', 'Arabele', 'Arabella', 'Arabelle', 'Arda', 'Ardath', 'Ardeen', 'Ardelia', 'Ardelis', 'Ardella', 'Ardelle', 'Arden', 'Ardene', 'Ardenia', 'Ardine', 'Ardis', 'Ardith', 'Ardra', 'Ardyce', 'Ardys', 'Ardyth', 'Aretha', 'Ariadne', 'Ariana', 'Arianne', 'Aridatha', 'Ariel', 'Ariela', 'Ariella', 'Arielle', 'Arlana', 'Arlee', 'Arleen', 'Arlen', 'Arlena', 'Arlene', 'Arleta', 'Arlette', 'Arleyne', 'Arlie', 'Arliene', 'Arlina', 'Arlinda', 'Arline', 'Arly', 'Arlyn', 'Arlyne', 'Aryn', 'Ashely', 'Ashlee', 'Ashleigh', 'Ashlen', 'Ashley', 'Ashli', 'Ashlie', 'Ashly', 'Asia', 'Astra', 'Astrid', 'Astrix', 'Atalanta', 'Athena', 'Athene', 'Atlanta', 'Atlante', 'Auberta', 'Aubine', 'Aubree', 'Aubrette', 'Aubrey', 'Aubrie', 'Aubry', 'Audi', 'Audie', 'Audra', 'Audre', 'Audrey', 'Audrie', 'Audry', 'Audrye', 'Audy', 'Augusta', 'Auguste', 'Augustina', 'Augustine', 'Aura', 'Aurea', 'Aurel', 'Aurelea', 'Aurelia', 'Aurelie', 'Auria', 'Aurie', 'Aurilia', 'Aurlie', 'Auroora', 'Aurora', 'Aurore', 'Austin', 'Austina', 'Austine', 'Ava', 'Aveline', 'Averil', 'Averyl', 'Avie', 'Avis', 'Aviva', 'Avivah', 'Avril', 'Avrit', 'Ayn', 'Bab', 'Babara', 'Babette', 'Babita', 'Babs', 'Bambi', 'Bambie', 'Bamby', 'Barb', 'Barbabra', 'Barbara', 'Barbara-Anne', 'Barbaraanne', 'Barbe', 'Barbee', 'Barbette', 'Barbey', 'Barbi', 'Barbie', 'Barbra', 'Barby', 'Bari', 'Barrie', 'Barry', 'Basia', 'Bathsheba', 'Batsheva', 'Bea', 'Beatrice', 'Beatrisa', 'Beatrix', 'Beatriz', 'Beau', 'Bebe', 'Becca', 'Becka', 'Becki', 'Beckie', 'Becky', 'Bee', 'Beilul', 'Beitris', 'Bekki', 'Bel', 'Belia', 'Belicia', 'Belinda', 'Belita', 'Bell', 'Bella', 'Bellamy', 'Bellanca', 'Belle', 'Bellina', 'Belva', 'Belvia', 'Bendite', 'Benedetta', 'Benedicta', 'Benedikta', 'Benetta', 'Benita', 'Benni', 'Bennie', 'Benny', 'Benoite', 'Berenice', 'Beret', 'Berget', 'Berna', 'Bernadene', 'Bernadette', 'Bernadina', 'Bernadine', 'Bernardina', 'Bernardine', 'Bernelle', 'Bernete', 'Bernetta', 'Bernette', 'Berni', 'Bernice', 'Bernie', 'Bernita', 'Berny', 'Berri', 'Berrie', 'Berry', 'Bert', 'Berta', 'Berte', 'Bertha', 'Berthe', 'Berti', 'Bertie', 'Bertina', 'Bertine', 'Berty', 'Beryl', 'Beryle', 'Bess', 'Bessie', 'Bessy', 'Beth', 'Bethanne', 'Bethany', 'Bethena', 'Bethina', 'Betsey', 'Betsy', 'Betta', 'Bette', 'Bette-Ann', 'Betteann', 'Betteanne', 'Betti', 'Bettie', 'Bettina', 'Bettine', 'Betty', 'Bettye', 'Beulah', 'Bev', 'Beverie', 'Beverlee', 'Beverlie', 'Beverly', 'Bevvy', 'Bianca', 'Bianka', 'Biddy', 'Bidget', 'Bill', 'Billi', 'Billie', 'Billy', 'Binni', 'Binnie', 'Binny', 'Bird', 'Birdie', 'Birgit', 'Birgitta', 'Blair', 'Blaire', 'Blake', 'Blakelee', 'Blakeley', 'Blanca', 'Blanch', 'Blancha', 'Blanche', 'Blinni', 'Blinnie', 'Blinny', 'Bliss', 'Blisse', 'Blithe', 'Blondell', 'Blondelle', 'Blondie', 'Blondy', 'Blythe', 'Bo', 'Bobbette', 'Bobbi', 'Bobbie', 'Bobby', 'Bobette', 'Bobina', 'Bobine', 'Bobinette', 'Bonita', 'Bonnee', 'Bonni', 'Bonnie', 'Bonny', 'Brana', 'Brandais', 'Brande', 'Brandea', 'Brandi', 'Brandice', 'Brandie', 'Brandise', 'Brandy', 'Brea', 'Breanne', 'Brear', 'Bree', 'Breena', 'Bren', 'Brena', 'Brenda', 'Brenn', 'Brenna', 'Brett', 'Bria', 'Briana', 'Brianna', 'Brianne', 'Bride', 'Bridget', 'Bridgett', 'Bridgette', 'Bridie', 'Brier', 'Brietta', 'Brigid', 'Brigida', 'Brigit', 'Brigitta', 'Brigitte', 'Brina', 'Briney', 'Briny', 'Brit', 'Brita', 'Britaney', 'Britani', 'Briteny', 'Britney', 'Britni', 'Britt', 'Britta', 'Brittan', 'Brittany', 'Britte', 'Brittney', 'Brook', 'Brooke', 'Brooks', 'Brunella', 'Brunhilda', 'Brunhilde', 'Bryana', 'Bryn', 'Bryna', 'Brynn', 'Brynna', 'Brynne', 'Buffy', 'Bunni', 'Bunnie', 'Bunny', 'Burta', 'Cabrina', 'Cacilia', 'Cacilie', 'Caitlin', 'Caitrin', 'Cal', 'Calida', 'Calla', 'Calley', 'Calli', 'Callida', 'Callie', 'Cally', 'Calypso', 'Cam', 'Camala', 'Camel', 'Camella', 'Camellia', 'Cameo', 'Cami', 'Camila', 'Camile', 'Camilla', 'Camille', 'Cammi', 'Cammie', 'Cammy', 'Canada', 'Candace', 'Candi', 'Candice', 'Candida', 'Candide', 'Candie', 'Candis', 'Candra', 'Candy', 'Cappella', 'Caprice', 'Cara', 'Caralie', 'Caren', 'Carena', 'Caresa', 'Caressa', 'Caresse', 'Carey', 'Cari', 'Caria', 'Carie', 'Caril', 'Carilyn', 'Carin', 'Carina', 'Carine', 'Cariotta', 'Carissa', 'Carita', 'Caritta', 'Carla', 'Carlee', 'Carleen', 'Carlen', 'Carlena', 'Carlene', 'Carley', 'Carli', 'Carlie', 'Carlin', 'Carlina', 'Carline', 'Carlisle', 'Carlita', 'Carlota', 'Carlotta', 'Carly', 'Carlye', 'Carlyn', 'Carlynn', 'Carlynne', 'Carma', 'Carmel', 'Carmela', 'Carmelia', 'Carmelina', 'Carmelita', 'Carmella', 'Carmelle', 'Carmen', 'Carmina', 'Carmine', 'Carmita', 'Carmon', 'Caro', 'Carol', 'Carol-Jean', 'Carola', 'Carolan', 'Carolann', 'Carole', 'Carolee', 'Caroleen', 'Carolie', 'Carolin', 'Carolina', 'Caroline', 'Caroljean', 'Carolyn', 'Carolyne', 'Carolynn', 'Caron', 'Carree', 'Carri', 'Carrie', 'Carrissa', 'Carrol', 'Carroll', 'Carry', 'Cary', 'Caryl', 'Caryn', 'Casandra', 'Casey', 'Casi', 'Casia', 'Casie', 'Cass', 'Cassandra', 'Cassandre', 'Cassandry', 'Cassaundra', 'Cassey', 'Cassi', 'Cassie', 'Cassondra', 'Cassy', 'Cat', 'Catarina', 'Cate', 'Caterina', 'Catha', 'Catharina', 'Catharine', 'Cathe', 'Cathee', 'Catherin', 'Catherina', 'Catherine', 'Cathi', 'Cathie', 'Cathleen', 'Cathlene', 'Cathrin', 'Cathrine', 'Cathryn', 'Cathy', 'Cathyleen', 'Cati', 'Catie', 'Catina', 'Catlaina', 'Catlee', 'Catlin', 'Catrina', 'Catriona', 'Caty', 'Cayla', 'Cecelia', 'Cecil', 'Cecile', 'Ceciley', 'Cecilia', 'Cecilla', 'Cecily', 'Ceil', 'Cele', 'Celene', 'Celesta', 'Celeste', 'Celestia', 'Celestina', 'Celestine', 'Celestyn', 'Celestyna', 'Celia', 'Celie', 'Celina', 'Celinda', 'Celine', 'Celinka', 'Celisse', 'Celle', 'Cesya', 'Chad', 'Chanda', 'Chandal', 'Chandra', 'Channa', 'Chantal', 'Chantalle', 'Charil', 'Charin', 'Charis', 'Charissa', 'Charisse', 'Charita', 'Charity', 'Charla', 'Charlean', 'Charleen', 'Charlena', 'Charlene', 'Charline', 'Charlot', 'Charlott', 'Charlotta', 'Charlotte', 'Charmain', 'Charmaine', 'Charmane', 'Charmian', 'Charmine', 'Charmion', 'Charo', 'Charyl', 'Chastity', 'Chelsae', 'Chelsea', 'Chelsey', 'Chelsie', 'Chelsy', 'Cher', 'Chere', 'Cherey', 'Cheri', 'Cherianne', 'Cherice', 'Cherida', 'Cherie', 'Cherilyn', 'Cherilynn', 'Cherin', 'Cherise', 'Cherish', 'Cherlyn', 'Cherri', 'Cherrita', 'Cherry', 'Chery', 'Cherye', 'Cheryl', 'Cheslie', 'Chiarra', 'Chickie', 'Chicky', 'Chiquita', 'Chloe', 'Chloette', 'Chloris', 'Chris', 'Chriss', 'Chrissa', 'Chrissie', 'Chrissy', 'Christa', 'Christabel', 'Christabella', 'Christabelle', 'Christal', 'Christalle', 'Christan', 'Christean', 'Christel', 'Christen', 'Christi', 'Christian', 'Christiana', 'Christiane', 'Christie', 'Christin', 'Christina', 'Christine', 'Christy', 'Christyna', 'Chrysa', 'Chrysler', 'Chrystal', 'Chryste', 'Chrystel', 'Ciara', 'Cicely', 'Cicily', 'Ciel', 'Cilka', 'Cinda', 'Cindee', 'Cindelyn', 'Cinderella', 'Cindi', 'Cindie', 'Cindra', 'Cindy', 'Cinnamon', 'Cissie', 'Cissy', 'Clair', 'Claire', 'Clara', 'Clarabelle', 'Clare', 'Claresta', 'Clareta', 'Claretta', 'Clarette', 'Clarey', 'Clari', 'Claribel', 'Clarice', 'Clarie', 'Clarinda', 'Clarine', 'Clarisa', 'Clarissa', 'Clarisse', 'Clarita', 'Clary', 'Claude', 'Claudelle', 'Claudetta', 'Claudette', 'Claudia', 'Claudie', 'Claudina', 'Claudine', 'Clea', 'Clem', 'Clemence', 'Clementia', 'Clementina', 'Clementine', 'Clemmie', 'Clemmy', 'Cleo', 'Cleopatra', 'Clerissa', 'Cleva', 'Clio', 'Clo', 'Cloe', 'Cloris', 'Clotilda', 'Clovis', 'Codee', 'Codi', 'Codie', 'Cody', 'Coleen', 'Colene', 'Coletta', 'Colette', 'Colleen', 'Collete', 'Collette', 'Collie', 'Colline', 'Colly', 'Con', 'Concettina', 'Conchita', 'Concordia', 'Conney', 'Conni', 'Connie', 'Conny', 'Consolata', 'Constance', 'Constancia', 'Constancy', 'Constanta', 'Constantia', 'Constantina', 'Constantine', 'Consuela', 'Consuelo', 'Cookie', 'Cora', 'Corabel', 'Corabella', 'Corabelle', 'Coral', 'Coralie', 'Coraline', 'Coralyn', 'Cordelia', 'Cordelie', 'Cordey', 'Cordie', 'Cordula', 'Cordy', 'Coreen', 'Corella', 'Corena', 'Corenda', 'Corene', 'Coretta', 'Corette', 'Corey', 'Cori', 'Corie', 'Corilla', 'Corina', 'Corine', 'Corinna', 'Corinne', 'Coriss', 'Corissa', 'Corliss', 'Corly', 'Cornela', 'Cornelia', 'Cornelle', 'Cornie', 'Corny', 'Correna', 'Correy', 'Corri', 'Corrianne', 'Corrie', 'Corrina', 'Corrine', 'Corrinne', 'Corry', 'Cortney', 'Cory', 'Cosetta', 'Cosette', 'Courtenay', 'Courtney', 'Cresa', 'Cris', 'Crissie', 'Crissy', 'Crista', 'Cristabel', 'Cristal', 'Cristen', 'Cristi', 'Cristie', 'Cristin', 'Cristina', 'Cristine', 'Cristionna', 'Cristy', 'Crysta', 'Crystal', 'Crystie', 'Cyb', 'Cybal', 'Cybel', 'Cybelle', 'Cybil', 'Cybill', 'Cyndi', 'Cyndy', 'Cynthea', 'Cynthia', 'Cynthie', 'Cynthy', 'Dacey', 'Dacia', 'Dacie', 'Dacy', 'Dael', 'Daffi', 'Daffie', 'Daffy', 'Dafna', 'Dagmar', 'Dahlia', 'Daile', 'Daisey', 'Daisi', 'Daisie', 'Daisy', 'Dale', 'Dalenna', 'Dalia', 'Dalila', 'Dallas', 'Daloris', 'Damara', 'Damaris', 'Damita', 'Dana', 'Danell', 'Danella', 'Danelle', 'Danette', 'Dani', 'Dania', 'Danica', 'Danice', 'Daniel', 'Daniela', 'Daniele', 'Daniella', 'Danielle', 'Danika', 'Danila', 'Danit', 'Danita', 'Danna', 'Danni', 'Dannie', 'Danny', 'Dannye', 'Danya', 'Danyelle', 'Danyette', 'Daphene', 'Daphna', 'Daphne', 'Dara', 'Darb', 'Darbie', 'Darby', 'Darcee', 'Darcey', 'Darci', 'Darcie', 'Darcy', 'Darda', 'Dareen', 'Darell', 'Darelle', 'Dari', 'Daria', 'Darice', 'Darla', 'Darleen', 'Darlene', 'Darline', 'Darryl', 'Darsey', 'Darsie', 'Darya', 'Daryl', 'Daryn', 'Dasha', 'Dasi', 'Dasie', 'Dasya', 'Datha', 'Daune', 'Daveen', 'Daveta', 'Davida', 'Davina', 'Davine', 'Davita', 'Dawn', 'Dawna', 'Dayle', 'Dayna', 'Dea', 'Deana', 'Deane', 'Deanna', 'Deanne', 'Deb', 'Debbi', 'Debbie', 'Debbra', 'Debby', 'Debee', 'Debera', 'Debi', 'Debor', 'Debora', 'Deborah', 'Debra', 'Dede', 'Dedie', 'Dedra', 'Dee', 'Dee Dee', 'Deeann', 'Deeanne', 'Deedee', 'Deena', 'Deerdre', 'Dehlia', 'Deidre', 'Deina', 'Deirdre', 'Del', 'Dela', 'Delaney', 'Delcina', 'Delcine', 'Delia', 'Delila', 'Delilah', 'Delinda', 'Dell', 'Della', 'Delly', 'Delora', 'Delores', 'Deloria', 'Deloris', 'Delphina', 'Delphine', 'Delphinia', 'Demeter', 'Demetra', 'Demetria', 'Demetris', 'Dena', 'Deni', 'Denice', 'Denise', 'Denna', 'Denni', 'Dennie', 'Denny', 'Deny', 'Denys', 'Denyse', 'Deonne', 'Desaree', 'Desdemona', 'Desirae', 'Desiree', 'Desiri', 'Deva', 'Devan', 'Devi', 'Devin', 'Devina', 'Devinne', 'Devon', 'Devondra', 'Devonna', 'Devonne', 'Devora', 'Dew', 'Di', 'Diahann', 'Diamond', 'Dian', 'Diana', 'Diandra', 'Diane', 'Diane-Marie', 'Dianemarie', 'Diann', 'Dianna', 'Dianne', 'Diannne', 'Didi', 'Dido', 'Diena', 'Dierdre', 'Dina', 'Dinah', 'Dinnie', 'Dinny', 'Dion', 'Dione', 'Dionis', 'Dionne', 'Dita', 'Dix', 'Dixie', 'Dode', 'Dodi', 'Dodie', 'Dody', 'Doe', 'Doll', 'Dolley', 'Dolli', 'Dollie', 'Dolly', 'Dolora', 'Dolores', 'Dolorita', 'Doloritas', 'Dominica', 'Dominique', 'Dona', 'Donella', 'Donelle', 'Donetta', 'Donia', 'Donica', 'Donielle', 'Donna', 'Donnajean', 'Donnamarie', 'Donni', 'Donnie', 'Donny', 'Dora', 'Doralia', 'Doralin', 'Doralyn', 'Doralynn', 'Doralynne', 'Dorcas', 'Dore', 'Doreen', 'Dorelia', 'Dorella', 'Dorelle', 'Dorena', 'Dorene', 'Doretta', 'Dorette', 'Dorey', 'Dori', 'Doria', 'Dorian', 'Dorice', 'Dorie', 'Dorine', 'Doris', 'Dorisa', 'Dorise', 'Dorit', 'Dorita', 'Doro', 'Dorolice', 'Dorolisa', 'Dorotea', 'Doroteya', 'Dorothea', 'Dorothee', 'Dorothy', 'Dorree', 'Dorri', 'Dorrie', 'Dorris', 'Dorry', 'Dorthea', 'Dorthy', 'Dory', 'Dosi', 'Dot', 'Doti', 'Dotti', 'Dottie', 'Dotty', 'Dove', 'Drea', 'Drew', 'Dulce', 'Dulcea', 'Dulci', 'Dulcia', 'Dulciana', 'Dulcie', 'Dulcine', 'Dulcinea', 'Dulcy', 'Dulsea', 'Dusty', 'Dyan', 'Dyana', 'Dyane', 'Dyann', 'Dyanna', 'Dyanne', 'Dyna', 'Dynah', \"E'Lane\", 'Eada', 'Eadie', 'Eadith', 'Ealasaid', 'Eartha', 'Easter', 'Eba', 'Ebba', 'Ebonee', 'Ebony', 'Eda', 'Eddi', 'Eddie', 'Eddy', 'Ede', 'Edee', 'Edeline', 'Eden', 'Edi', 'Edie', 'Edin', 'Edita', 'Edith', 'Editha', 'Edithe', 'Ediva', 'Edna', 'Edwina', 'Edy', 'Edyth', 'Edythe', 'Effie', 'Eileen', 'Eilis', 'Eimile', 'Eirena', 'Ekaterina', 'Elaina', 'Elaine', 'Elana', 'Elane', 'Elayne', 'Elberta', 'Elbertina', 'Elbertine', 'Eleanor', 'Eleanora', 'Eleanore', 'Electra', 'Elena', 'Elene', 'Eleni', 'Elenore', 'Eleonora', 'Eleonore', 'Elfie', 'Elfreda', 'Elfrida', 'Elfrieda', 'Elga', 'Elianora', 'Elianore', 'Elicia', 'Elie', 'Elinor', 'Elinore', 'Elisa', 'Elisabet', 'Elisabeth', 'Elisabetta', 'Elise', 'Elisha', 'Elissa', 'Elita', 'Eliza', 'Elizabet', 'Elizabeth', 'Elka', 'Elke', 'Ella', 'Elladine', 'Elle', 'Ellen', 'Ellene', 'Ellette', 'Elli', 'Ellie', 'Ellissa', 'Elly', 'Ellyn', 'Ellynn', 'Elmira', 'Elna', 'Elnora', 'Elnore', 'Eloisa', 'Eloise', 'Elonore', 'Elora', 'Elsa', 'Elsbeth', 'Else', 'Elsey', 'Elsi', 'Elsie', 'Elsinore', 'Elspeth', 'Elsy', 'Elva', 'Elvera', 'Elvina', 'Elvira', 'Elwina', 'Elwira', 'Elyn', 'Elyse', 'Elysee', 'Elysha', 'Elysia', 'Elyssa', 'Em', 'Ema', 'Emalee', 'Emalia', 'Emanuela', 'Emelda', 'Emelia', 'Emelina', 'Emeline', 'Emelita', 'Emelyne', 'Emera', 'Emilee', 'Emili', 'Emilia', 'Emilie', 'Emiline', 'Emily', 'Emlyn', 'Emlynn', 'Emlynne', 'Emma', 'Emmalee', 'Emmaline', 'Emmalyn', 'Emmalynn', 'Emmalynne', 'Emmeline', 'Emmey', 'Emmi', 'Emmie', 'Emmy', 'Emmye', 'Emogene', 'Emyle', 'Emylee', 'Endora', 'Engracia', 'Enid', 'Enrica', 'Enrichetta', 'Enrika', 'Enriqueta', 'Enya', 'Eolanda', 'Eolande', 'Eran', 'Erda', 'Erena', 'Erica', 'Ericha', 'Ericka', 'Erika', 'Erin', 'Erina', 'Erinn', 'Erinna', 'Erma', 'Ermengarde', 'Ermentrude', 'Ermina', 'Erminia', 'Erminie', 'Erna', 'Ernaline', 'Ernesta', 'Ernestine', 'Ertha', 'Eryn', 'Esma', 'Esmaria', 'Esme', 'Esmeralda', 'Esmerelda', 'Essa', 'Essie', 'Essy', 'Esta', 'Estel', 'Estele', 'Estell', 'Estella', 'Estelle', 'Ester', 'Esther', 'Estrella', 'Estrellita', 'Ethel', 'Ethelda', 'Ethelin', 'Ethelind', 'Etheline', 'Ethelyn', 'Ethyl', 'Etta', 'Etti', 'Ettie', 'Etty', 'Eudora', 'Eugenia', 'Eugenie', 'Eugine', 'Eula', 'Eulalie', 'Eunice', 'Euphemia', 'Eustacia', 'Eva', 'Evaleen', 'Evangelia', 'Evangelin', 'Evangelina', 'Evangeline', 'Evania', 'Evanne', 'Eve', 'Eveleen', 'Evelina', 'Eveline', 'Evelyn', 'Evette', 'Evey', 'Evie', 'Evita', 'Evonne', 'Evvie', 'Evvy', 'Evy', 'Eyde', 'Eydie', 'Fabrianne', 'Fabrice', 'Fae', 'Faina', 'Faith', 'Fallon', 'Fan', 'Fanchette', 'Fanchon', 'Fancie', 'Fancy', 'Fanechka', 'Fania', 'Fanni', 'Fannie', 'Fanny', 'Fanya', 'Fara', 'Farah', 'Farand', 'Farica', 'Farra', 'Farrah', 'Farrand', 'Fatima', 'Faun', 'Faunie', 'Faustina', 'Faustine', 'Fawn', 'Fawna', 'Fawne', 'Fawnia', 'Fay', 'Faydra', 'Faye', 'Fayette', 'Fayina', 'Fayre', 'Fayth', 'Faythe', 'Federica', 'Fedora', 'Felecia', 'Felicdad', 'Felice', 'Felicia', 'Felicity', 'Felicle', 'Felipa', 'Felisha', 'Felita', 'Feliza', 'Fenelia', 'Feodora', 'Ferdinanda', 'Ferdinande', 'Fern', 'Fernanda', 'Fernande', 'Fernandina', 'Ferne', 'Fey', 'Fiann', 'Fianna', 'Fidela', 'Fidelia', 'Fidelity', 'Fifi', 'Fifine', 'Filia', 'Filide', 'Filippa', 'Fina', 'Fiona', 'Fionna', 'Fionnula', 'Fiorenze', 'Fleur', 'Fleurette', 'Flo', 'Flor', 'Flora', 'Florance', 'Flore', 'Florella', 'Florence', 'Florencia', 'Florentia', 'Florenza', 'Florette', 'Flori', 'Floria', 'Florice', 'Florida', 'Florie', 'Florina', 'Florinda', 'Floris', 'Florri', 'Florrie', 'Florry', 'Flory', 'Flossi', 'Flossie', 'Flossy', 'Flower', 'Fortuna', 'Fortune', 'Fran', 'France', 'Francene', 'Frances', 'Francesca', 'Francesmary', 'Francine', 'Francis', 'Francisca', 'Franciska', 'Francoise', 'Francyne', 'Frank', 'Frankie', 'Franky', 'Franni', 'Frannie', 'Franny', 'Frayda', 'Fred', 'Freda', 'Freddi', 'Freddie', 'Freddy', 'Fredelia', 'Frederica', 'Fredericka', 'Fredi', 'Fredia', 'Fredra', 'Fredrika', 'Freida', 'Frieda', 'Friederike', 'Fulvia', 'Gabbey', 'Gabbi', 'Gabbie', 'Gabey', 'Gabi', 'Gabie', 'Gabriel', 'Gabriela', 'Gabriell', 'Gabriella', 'Gabrielle', 'Gabriellia', 'Gabrila', 'Gaby', 'Gae', 'Gael', 'Gail', 'Gale', 'Gale ', 'Galina', 'Garland', 'Garnet', 'Garnette', 'Gates', 'Gavra', 'Gavrielle', 'Gay', 'Gayla', 'Gayle', 'Gayleen', 'Gaylene', 'Gaynor', 'Geeta', 'Gelya', 'Gen', 'Gena', 'Gene', 'Geneva', 'Genevieve', 'Genevra', 'Genia', 'Genna', 'Genni', 'Gennie', 'Gennifer', 'Genny', 'Genovera', 'Genvieve', 'George', 'Georgeanna', 'Georgeanne', 'Georgena', 'Georgeta', 'Georgetta', 'Georgette', 'Georgia', 'Georgiamay', 'Georgiana', 'Georgianna', 'Georgianne', 'Georgie', 'Georgina', 'Georgine', 'Gera', 'Geralda', 'Geraldina', 'Geraldine', 'Gerda', 'Gerhardine', 'Geri', 'Gerianna', 'Gerianne', 'Gerladina', 'Germain', 'Germaine', 'Germana', 'Gerri', 'Gerrie', 'Gerrilee', 'Gerry', 'Gert', 'Gerta', 'Gerti', 'Gertie', 'Gertrud', 'Gertruda', 'Gertrude', 'Gertrudis', 'Gerty', 'Giacinta', 'Giana', 'Gianina', 'Gianna', 'Gigi', 'Gilberta', 'Gilberte', 'Gilbertina', 'Gilbertine', 'Gilda', 'Gill', 'Gillan', 'Gilli', 'Gillian', 'Gillie', 'Gilligan', 'Gilly', 'Gina', 'Ginelle', 'Ginevra', 'Ginger', 'Ginni', 'Ginnie', 'Ginnifer', 'Ginny', 'Giorgia', 'Giovanna', 'Gipsy', 'Giralda', 'Gisela', 'Gisele', 'Gisella', 'Giselle', 'Gita', 'Gizela', 'Glad', 'Gladi', 'Gladis', 'Gladys', 'Gleda', 'Glen', 'Glenda', 'Glenine', 'Glenn', 'Glenna', 'Glennie', 'Glennis', 'Glori', 'Gloria', 'Gloriana', 'Gloriane', 'Glorianna', 'Glory', 'Glyn', 'Glynda', 'Glynis', 'Glynnis', 'Godiva', 'Golda', 'Goldarina', 'Goldi', 'Goldia', 'Goldie', 'Goldina', 'Goldy', 'Grace', 'Gracia', 'Gracie', 'Grata', 'Gratia', 'Gratiana', 'Gray', 'Grayce', 'Grazia', 'Gredel', 'Greer', 'Greta', 'Gretal', 'Gretchen', 'Grete', 'Gretel', 'Grethel', 'Gretna', 'Gretta', 'Grier', 'Griselda', 'Grissel', 'Guendolen', 'Guenevere', 'Guenna', 'Guglielma', 'Gui', 'Guillema', 'Guillemette', 'Guinevere', 'Guinna', 'Gunilla', 'Gunvor', 'Gus', 'Gusella', 'Gussi', 'Gussie', 'Gussy', 'Gusta', 'Gusti', 'Gustie', 'Gusty', 'Gwen', 'Gwendolen', 'Gwendolin', 'Gwendolyn', 'Gweneth', 'Gwenette', 'Gwenn', 'Gwenneth', 'Gwenni', 'Gwennie', 'Gwenny', 'Gwenora', 'Gwenore', 'Gwyn', 'Gwyneth', 'Gwynne', 'Gypsy', 'Hadria', 'Hailee', 'Haily', 'Haleigh', 'Halette', 'Haley', 'Hali', 'Halie', 'Halimeda', 'Halley', 'Halli', 'Hallie', 'Hally', 'Hana', 'Hanna', 'Hannah', 'Hanni', 'Hannibal', 'Hannie', 'Hannis', 'Hanny', 'Happy', 'Harlene', 'Harley', 'Harli', 'Harlie', 'Harmonia', 'Harmonie', 'Harmony', 'Harri', 'Harrie', 'Harriet', 'Harriett', 'Harrietta', 'Harriette', 'Harriot', 'Harriott', 'Hatti', 'Hattie', 'Hatty', 'Havivah', 'Hayley', 'Hazel', 'Heath', 'Heather', 'Heda', 'Hedda', 'Heddi', 'Heddie', 'Hedi', 'Hedvig', 'Hedwig', 'Hedy', 'Heida', 'Heide', 'Heidi', 'Heidie', 'Helaina', 'Helaine', 'Helen', 'Helen-Elizabeth', 'Helena', 'Helene', 'Helga', 'Helge', 'Helise', 'Hellene', 'Helli', 'Heloise', 'Helsa', 'Helyn', 'Hendrika', 'Henka', 'Henrie', 'Henrieta', 'Henrietta', 'Henriette', 'Henryetta', 'Hephzibah', 'Hermia', 'Hermina', 'Hermine', 'Herminia', 'Hermione', 'Herta', 'Hertha', 'Hester', 'Hesther', 'Hestia', 'Hetti', 'Hettie', 'Hetty', 'Hilarie', 'Hilary', 'Hilda', 'Hildagard', 'Hildagarde', 'Hilde', 'Hildegaard', 'Hildegarde', 'Hildy', 'Hillary', 'Hilliary', 'Hinda', 'Holley', 'Holli', 'Hollie', 'Holly', 'Holly-Anne', 'Hollyanne', 'Honey', 'Honor', 'Honoria', 'Hope', 'Horatia', 'Hortense', 'Hortensia', 'Hulda', 'Hyacinth', 'Hyacintha', 'Hyacinthe', 'Hyacinthia', 'Hyacinthie', 'Hynda', 'Ianthe', 'Ibbie', 'Ibby', 'Ida', 'Idalia', 'Idalina', 'Idaline', 'Idell', 'Idelle', 'Idette', 'Ike', 'Ikey', 'Ilana', 'Ileana', 'Ileane', 'Ilene', 'Ilise', 'Ilka', 'Illa', 'Ilona', 'Ilsa', 'Ilse', 'Ilysa', 'Ilyse', 'Ilyssa', 'Imelda', 'Imogen', 'Imogene', 'Imojean', 'Ina', 'Inci', 'Indira', 'Ines', 'Inesita', 'Inessa', 'Inez', 'Inga', 'Ingaberg', 'Ingaborg', 'Inge', 'Ingeberg', 'Ingeborg', 'Inger', 'Ingrid', 'Ingunna', 'Inna', 'Ioana', 'Iolande', 'Iolanthe', 'Iona', 'Iormina', 'Ira', 'Irena', 'Irene', 'Irina', 'Iris', 'Irita', 'Irma', 'Isa', 'Isabeau', 'Isabel', 'Isabelita', 'Isabella', 'Isabelle', 'Isador', 'Isadora', 'Isadore', 'Isahella', 'Iseabal', 'Isidora', 'Isis', 'Isobel', 'Issi', 'Issie', 'Issy', 'Ivett', 'Ivette', 'Ivie', 'Ivonne', 'Ivory', 'Ivy', 'Izabel', 'Izzi', 'Jacenta', 'Jacinda', 'Jacinta', 'Jacintha', 'Jacinthe', 'Jackelyn', 'Jacki', 'Jackie', 'Jacklin', 'Jacklyn', 'Jackquelin', 'Jackqueline', 'Jacky', 'Jaclin', 'Jaclyn', 'Jacquelin', 'Jacqueline', 'Jacquelyn', 'Jacquelynn', 'Jacquenetta', 'Jacquenette', 'Jacquetta', 'Jacquette', 'Jacqui', 'Jacquie', 'Jacynth', 'Jada', 'Jade', 'Jaime', 'Jaimie', 'Jaine', 'Jaleh', 'Jami', 'Jamie', 'Jamima', 'Jammie', 'Jan', 'Jana', 'Janaya', 'Janaye', 'Jandy', 'Jane', 'Janean', 'Janeczka', 'Janeen', 'Janel', 'Janela', 'Janella', 'Janelle', 'Janene', 'Janenna', 'Janessa', 'Janet', 'Janeta', 'Janetta', 'Janette', 'Janeva', 'Janey', 'Jania', 'Janice', 'Janie', 'Janifer', 'Janina', 'Janine', 'Janis', 'Janith', 'Janka', 'Janna', 'Jannel', 'Jannelle', 'Janot', 'Jany', 'Jaquelin', 'Jaquelyn', 'Jaquenetta', 'Jaquenette', 'Jaquith', 'Jasmin', 'Jasmina', 'Jasmine', 'Jayme', 'Jaymee', 'Jayne', 'Jaynell', 'Jazmin', 'Jean', 'Jeana', 'Jeane', 'Jeanelle', 'Jeanette', 'Jeanie', 'Jeanine', 'Jeanna', 'Jeanne', 'Jeannette', 'Jeannie', 'Jeannine', 'Jehanna', 'Jelene', 'Jemie', 'Jemima', 'Jemimah', 'Jemmie', 'Jemmy', 'Jen', 'Jena', 'Jenda', 'Jenelle', 'Jenette', 'Jeni', 'Jenica', 'Jeniece', 'Jenifer', 'Jeniffer', 'Jenilee', 'Jenine', 'Jenn', 'Jenna', 'Jennee', 'Jennette', 'Jenni', 'Jennica', 'Jennie', 'Jennifer', 'Jennilee', 'Jennine', 'Jenny', 'Jeraldine', 'Jeralee', 'Jere', 'Jeri', 'Jermaine', 'Jerrie', 'Jerrilee', 'Jerrilyn', 'Jerrine', 'Jerry', 'Jerrylee', 'Jess', 'Jessa', 'Jessalin', 'Jessalyn', 'Jessamine', 'Jessamyn', 'Jesse', 'Jesselyn', 'Jessi', 'Jessica', 'Jessie', 'Jessika', 'Jessy', 'Jewel', 'Jewell', 'Jewelle', 'Jill', 'Jillana', 'Jillane', 'Jillayne', 'Jilleen', 'Jillene', 'Jilli', 'Jillian', 'Jillie', 'Jilly', 'Jinny', 'Jo', 'Jo Ann', 'Jo-Ann', 'JoAnn', 'Jo-Anne', 'JoAnne', 'Joan', 'Joana', 'Joane', 'Joanie', 'Joann', 'Joanna', 'Joanne', 'Joannes', 'Jobey', 'Jobi', 'Jobie', 'Jobina', 'Joby', 'Jobye', 'Jobyna', 'Jocelin', 'Joceline', 'Jocelyn', 'Jocelyne', 'Jodee', 'Jodi', 'Jodie', 'Jody', 'Joela', 'Joelie', 'Joell', 'Joella', 'Joelle', 'Joellen', 'Joelly', 'Joellyn', 'Joelynn', 'Joete', 'Joey', 'Johanna', 'Johannah', 'Johnette', 'Johnna', 'Joice', 'Jojo', 'Jolee', 'Joleen', 'Jolene', 'Joletta', 'Joli', 'Jolie', 'Joline', 'Joly', 'Jolyn', 'Jolynn', 'Jonell', 'Joni', 'Jonie', 'Jonis', 'Jordain', 'Jordan', 'Jordana', 'Jordanna', 'Jorey', 'Jori', 'Jorie', 'Jorrie', 'Jorry', 'Joscelin', 'Josee', 'Josefa', 'Josefina', 'Joselyn', 'Josepha', 'Josephina', 'Josephine', 'Josey', 'Josi', 'Josie', 'Joslyn', 'Josselyn', 'Josy', 'Jourdan', 'Joy', 'Joya', 'Joyan', 'Joyann', 'Joyce', 'Joycelin', 'Joye', 'Joyous', 'Juana', 'Juanita', 'Jude', 'Judi', 'Judie', 'Judith', 'Juditha', 'Judy', 'Judye', 'Julee', 'Juli', 'Julia', 'Juliana', 'Juliane', 'Juliann', 'Julianna', 'Julianne', 'Julie', 'Julienne', 'Juliet', 'Julieta', 'Julietta', 'Juliette', 'Julina', 'Juline', 'Julissa', 'Julita', 'June', 'Junette', 'Junia', 'Junie', 'Junina', 'Justin', 'Justina', 'Justine', 'Jyoti', 'Kaari', 'Kacey', 'Kacie', 'Kacy', 'Kai', 'Kaia', 'Kaila', 'Kaile', 'Kailey', 'Kaitlin', 'Kaitlyn', 'Kaitlynn', 'Kaja', 'Kakalina', 'Kala', 'Kaleena', 'Kali', 'Kalie', 'Kalila', 'Kalina', 'Kalinda', 'Kalindi', 'Kalli', 'Kally', 'Kameko', 'Kamila', 'Kamilah', 'Kamillah', 'Kandace', 'Kandy', 'Kania', 'Kanya', 'Kara', 'Kara-Lynn', 'Karalee', 'Karalynn', 'Kare', 'Karee', 'Karel', 'Karen', 'Karena', 'Kari', 'Karia', 'Karie', 'Karil', 'Karilynn', 'Karin', 'Karina', 'Karine', 'Kariotta', 'Karisa', 'Karissa', 'Karita', 'Karla', 'Karlee', 'Karleen', 'Karlen', 'Karlene', 'Karlie', 'Karlotta', 'Karlotte', 'Karly', 'Karlyn', 'Karmen', 'Karna', 'Karol', 'Karola', 'Karole', 'Karolina', 'Karoline', 'Karoly', 'Karon', 'Karrah', 'Karrie', 'Karry', 'Kary', 'Karyl', 'Karylin', 'Karyn', 'Kasey', 'Kass', 'Kassandra', 'Kassey', 'Kassi', 'Kassia', 'Kassie', 'Kaster', 'Kat', 'Kata', 'Katalin', 'Kate', 'Katee', 'Katerina', 'Katerine', 'Katey', 'Kath', 'Katha', 'Katharina', 'Katharine', 'Katharyn', 'Kathe', 'Katheleen', 'Katherina', 'Katherine', 'Katheryn', 'Kathi', 'Kathie', 'Kathleen', 'Kathlene', 'Kathlin', 'Kathrine', 'Kathryn', 'Kathryne', 'Kathy', 'Kathye', 'Kati', 'Katie', 'Katina', 'Katine', 'Katinka', 'Katleen', 'Katlin', 'Katrina', 'Katrine', 'Katrinka', 'Katti', 'Kattie', 'Katuscha', 'Katusha', 'Katy', 'Katya', 'Kay', 'Kaycee', 'Kaye', 'Kayla', 'Kayle', 'Kaylee', 'Kayley', 'Kaylil', 'Kaylyn', 'Kee', 'Keeley', 'Keelia', 'Keely', 'Kelcey', 'Kelci', 'Kelcie', 'Kelcy', 'Kelila', 'Kellen', 'Kelley', 'Kelli', 'Kellia', 'Kellie', 'Kellina', 'Kellsie', 'Kelly', 'Kellyann', 'Kelsey', 'Kelsi', 'Kelsy', 'Kendra', 'Kendre', 'Kenna', 'Keren', 'Keri', 'Keriann', 'Kerianne', 'Kerri', 'Kerrie', 'Kerrill', 'Kerrin', 'Kerry', 'Kerstin', 'Kesley', 'Keslie', 'Kessia', 'Kessiah', 'Ketti', 'Kettie', 'Ketty', 'Kevina', 'Kevyn', 'Ki', 'Kia', 'Kiah', 'Kial', 'Kiele', 'Kiersten', 'Kikelia', 'Kiley', 'Kim', 'Kimberlee', 'Kimberley', 'Kimberli', 'Kimberly', 'Kimberlyn', 'Kimbra', 'Kimmi', 'Kimmie', 'Kimmy', 'Kinna', 'Kip', 'Kipp', 'Kippie', 'Kippy', 'Kira', 'Kirbee', 'Kirbie', 'Kirby', 'Kiri', 'Kirsten', 'Kirsteni', 'Kirsti', 'Kirstie', 'Kirstin', 'Kirstyn', 'Kissee', 'Kissiah', 'Kissie', 'Kit', 'Kitti', 'Kittie', 'Kitty', 'Kizzee', 'Kizzie', 'Klara', 'Klarika', 'Klarrisa', 'Konstance', 'Konstanze', 'Koo', 'Kora', 'Koral', 'Koralle', 'Kordula', 'Kore', 'Korella', 'Koren', 'Koressa', 'Kori', 'Korie', 'Korney', 'Korrie', 'Korry', 'Kourtney', 'Kris', 'Krissie', 'Krissy', 'Krista', 'Kristal', 'Kristan', 'Kriste', 'Kristel', 'Kristen', 'Kristi', 'Kristien', 'Kristin', 'Kristina', 'Kristine', 'Kristy', 'Kristyn', 'Krysta', 'Krystal', 'Krystalle', 'Krystle', 'Krystyna', 'Kyla', 'Kyle', 'Kylen', 'Kylie', 'Kylila', 'Kylynn', 'Kym', 'Kynthia', 'Kyrstin', 'La', 'Lacee', 'Lacey', 'Lacie', 'Lacy', 'Ladonna', 'Laetitia', 'Laila', 'Laina', 'Lainey', 'Lamb', 'Lana', 'Lane', 'Lanette', 'Laney', 'Lani', 'Lanie', 'Lanita', 'Lanna', 'Lanni', 'Lanny', 'Lara', 'Laraine', 'Lari', 'Larina', 'Larine', 'Larisa', 'Larissa', 'Lark', 'Laryssa', 'Latashia', 'Latia', 'Latisha', 'Latrena', 'Latrina', 'Laura', 'Lauraine', 'Laural', 'Lauralee', 'Laure', 'Lauree', 'Laureen', 'Laurel', 'Laurella', 'Lauren', 'Laurena', 'Laurene', 'Lauretta', 'Laurette', 'Lauri', 'Laurianne', 'Laurice', 'Laurie', 'Lauryn', 'Lavena', 'Laverna', 'Laverne', 'Lavina', 'Lavinia', 'Lavinie', 'Layla', 'Layne', 'Layney', 'Lea', 'Leah', 'Leandra', 'Leann', 'Leanna', 'Leanne', 'Leanor', 'Leanora', 'Lebbie', 'Leda', 'Lee', 'LeeAnn', 'Leeann', 'Leeanne', 'Leela', 'Leelah', 'Leena', 'Leesa', 'Leese', 'Legra', 'Leia', 'Leiah', 'Leigh', 'Leigha', 'Leila', 'Leilah', 'Leisha', 'Lela', 'Lelah', 'Leland', 'Lelia', 'Lena', 'Lenee', 'Lenette', 'Lenka', 'Lenna', 'Lenora', 'Lenore', 'Leodora', 'Leoine', 'Leola', 'Leoline', 'Leona', 'Leonanie', 'Leone', 'Leonelle', 'Leonie', 'Leonora', 'Leonore', 'Leontine', 'Leontyne', 'Leora', 'Leorah', 'Leshia', 'Lesley', 'Lesli', 'Leslie', 'Lesly', 'Lesya', 'Leta', 'Lethia', 'Leticia', 'Letisha', 'Letitia', 'Letta', 'Letti', 'Lettie', 'Letty', 'Leyla', 'Lezlie', 'Lia', 'Lian', 'Liana', 'Liane', 'Lianna', 'Lianne', 'Lib', 'Libbey', 'Libbi', 'Libbie', 'Libby', 'Licha', 'Lida', 'Lidia', 'Lil', 'Lila', 'Lilah', 'Lilas', 'Lilia', 'Lilian', 'Liliane', 'Lilias', 'Lilith', 'Lilla', 'Lilli', 'Lillian', 'Lillis', 'Lilllie', 'Lilly', 'Lily', 'Lilyan', 'Lin', 'Lina', 'Lind', 'Linda', 'Lindi', 'Lindie', 'Lindsay', 'Lindsey', 'Lindsy', 'Lindy', 'Linea', 'Linell', 'Linet', 'Linette', 'Linn', 'Linnea', 'Linnell', 'Linnet', 'Linnie', 'Linzy', 'Liora', 'Liorah', 'Lira', 'Lisa', 'Lisabeth', 'Lisandra', 'Lisbeth', 'Lise', 'Lisetta', 'Lisette', 'Lisha', 'Lishe', 'Lissa', 'Lissi', 'Lissie', 'Lissy', 'Lita', 'Liuka', 'Livia', 'Liz', 'Liza', 'Lizabeth', 'Lizbeth', 'Lizette', 'Lizzie', 'Lizzy', 'Loella', 'Lois', 'Loise', 'Lola', 'Lolande', 'Loleta', 'Lolita', 'Lolly', 'Lona', 'Lonee', 'Loni', 'Lonna', 'Lonni', 'Lonnie', 'Lora', 'Lorain', 'Loraine', 'Loralee', 'Loralie', 'Loralyn', 'Loree', 'Loreen', 'Lorelei', 'Lorelle', 'Loren', 'Lorena', 'Lorene', 'Lorenza', 'Loretta', 'Lorettalorna', 'Lorette', 'Lori', 'Loria', 'Lorianna', 'Lorianne', 'Lorie', 'Lorilee', 'Lorilyn', 'Lorinda', 'Lorine', 'Lorita', 'Lorna', 'Lorne', 'Lorraine', 'Lorrayne', 'Lorri', 'Lorrie', 'Lorrin', 'Lorry', 'Lory', 'Lotta', 'Lotte', 'Lotti', 'Lottie', 'Lotty', 'Lou', 'Louella', 'Louisa', 'Louise', 'Louisette', 'Love', 'Luana', 'Luanna', 'Luce', 'Luci', 'Lucia', 'Luciana', 'Lucie', 'Lucienne', 'Lucila', 'Lucilia', 'Lucille', 'Lucina', 'Lucinda', 'Lucine', 'Lucita', 'Lucky', 'Lucretia', 'Lucy', 'Luella', 'Luelle', 'Luisa', 'Luise', 'Lula', 'Lulita', 'Lulu', 'Luna', 'Lura', 'Lurette', 'Lurleen', 'Lurlene', 'Lurline', 'Lusa', 'Lust', 'Lyda', 'Lydia', 'Lydie', 'Lyn', 'Lynda', 'Lynde', 'Lyndel', 'Lyndell', 'Lyndsay', 'Lyndsey', 'Lyndsie', 'Lyndy', 'Lynea', 'Lynelle', 'Lynett', 'Lynette', 'Lynn', 'Lynna', 'Lynne', 'Lynnea', 'Lynnell', 'Lynnelle', 'Lynnet', 'Lynnett', 'Lynnette', 'Lynsey', 'Lysandra', 'Lyssa', 'Mab', 'Mabel', 'Mabelle', 'Mable', 'Mada', 'Madalena', 'Madalyn', 'Maddalena', 'Maddi', 'Maddie', 'Maddy', 'Madel', 'Madelaine', 'Madeleine', 'Madelena', 'Madelene', 'Madelin', 'Madelina', 'Madeline', 'Madella', 'Madelle', 'Madelon', 'Madelyn', 'Madge', 'Madlen', 'Madlin', 'Madona', 'Madonna', 'Mady', 'Mae', 'Maegan', 'Mag', 'Magda', 'Magdaia', 'Magdalen', 'Magdalena', 'Magdalene', 'Maggee', 'Maggi', 'Maggie', 'Maggy', 'Magna', 'Mahala', 'Mahalia', 'Maia', 'Maible', 'Maiga', 'Mair', 'Maire', 'Mairead', 'Maisey', 'Maisie', 'Mala', 'Malanie', 'Malcah', 'Malena', 'Malia', 'Malina', 'Malinda', 'Malinde', 'Malissa', 'Malissia', 'Malka', 'Malkah', 'Mallissa', 'Mallorie', 'Mallory', 'Malorie', 'Malory', 'Malva', 'Malvina', 'Malynda', 'Mame', 'Mamie', 'Manda', 'Mandi', 'Mandie', 'Mandy', 'Manon', 'Manya', 'Mara', 'Marabel', 'Marcela', 'Marcelia', 'Marcella', 'Marcelle', 'Marcellina', 'Marcelline', 'Marchelle', 'Marci', 'Marcia', 'Marcie', 'Marcile', 'Marcille', 'Marcy', 'Mareah', 'Maren', 'Marena', 'Maressa', 'Marga', 'Margalit', 'Margalo', 'Margaret', 'Margareta', 'Margarete', 'Margaretha', 'Margarethe', 'Margaretta', 'Margarette', 'Margarita', 'Margaux', 'Marge', 'Margeaux', 'Margery', 'Marget', 'Margette', 'Margi', 'Margie', 'Margit', 'Marglerite', 'Margo', 'Margot', 'Margret', 'Marguerite', 'Margurite', 'Margy', 'Mari', 'Maria', 'Mariam', 'Marian', 'Mariana', 'Mariann', 'Marianna', 'Marianne', 'Maribel', 'Maribelle', 'Maribeth', 'Marice', 'Maridel', 'Marie', 'Marie-Ann', 'Marie-Jeanne', 'Marieann', 'Mariejeanne', 'Mariel', 'Mariele', 'Marielle', 'Mariellen', 'Marietta', 'Mariette', 'Marigold', 'Marijo', 'Marika', 'Marilee', 'Marilin', 'Marillin', 'Marilyn', 'Marin', 'Marina', 'Marinna', 'Marion', 'Mariquilla', 'Maris', 'Marisa', 'Mariska', 'Marissa', 'Marit', 'Marita', 'Maritsa', 'Mariya', 'Marj', 'Marja', 'Marje', 'Marji', 'Marjie', 'Marjorie', 'Marjory', 'Marjy', 'Marketa', 'Marla', 'Marlane', 'Marleah', 'Marlee', 'Marleen', 'Marlena', 'Marlene', 'Marley', 'Marlie', 'Marline', 'Marlo', 'Marlyn', 'Marna', 'Marne', 'Marney', 'Marni', 'Marnia', 'Marnie', 'Marquita', 'Marrilee', 'Marris', 'Marrissa', 'Marry', 'Marsha', 'Marsiella', 'Marta', 'Martelle', 'Martguerita', 'Martha', 'Marthe', 'Marthena', 'Marti', 'Martica', 'Martie', 'Martina', 'Martita', 'Marty', 'Martynne', 'Mary', 'Marya', 'Maryangelyn', 'Maryann', 'Maryanna', 'Maryanne', 'Marybelle', 'Marybeth', 'Maryellen', 'Maryjane', 'Maryjo', 'Maryl', 'Marylee', 'Marylin', 'Marylinda', 'Marylou', 'Marylynne', 'Maryrose', 'Marys', 'Marysa', 'Masha', 'Matelda', 'Mathilda', 'Mathilde', 'Matilda', 'Matilde', 'Matti', 'Mattie', 'Matty', 'Maud', 'Maude', 'Maudie', 'Maura', 'Maure', 'Maureen', 'Maureene', 'Maurene', 'Maurine', 'Maurise', 'Maurita', 'Mavis', 'Mavra', 'Max', 'Maxi', 'Maxie', 'Maxine', 'Maxy', 'May', 'Maya', 'Maybelle', 'Mayda', 'Maye', 'Mead', 'Meade', 'Meagan', 'Meaghan', 'Meara', 'Mechelle', 'Meg', 'Megan', 'Megen', 'Meggan', 'Meggi', 'Meggie', 'Meggy', 'Meghan', 'Meghann', 'Mehetabel', 'Mei', 'Meira', 'Mel', 'Mela', 'Melamie', 'Melania', 'Melanie', 'Melantha', 'Melany', 'Melba', 'Melesa', 'Melessa', 'Melicent', 'Melina', 'Melinda', 'Melinde', 'Melisa', 'Melisande', 'Melisandra', 'Melisenda', 'Melisent', 'Melissa', 'Melisse', 'Melita', 'Melitta', 'Mella', 'Melli', 'Mellicent', 'Mellie', 'Mellisa', 'Mellisent', 'Mellissa', 'Melloney', 'Melly', 'Melodee', 'Melodie', 'Melody', 'Melonie', 'Melony', 'Melosa', 'Melva', 'Mercedes', 'Merci', 'Mercie', 'Mercy', 'Meredith', 'Meredithe', 'Meridel', 'Meridith', 'Meriel', 'Merilee', 'Merilyn', 'Meris', 'Merissa', 'Merl', 'Merla', 'Merle', 'Merlina', 'Merline', 'Merna', 'Merola', 'Merralee', 'Merridie', 'Merrie', 'Merrielle', 'Merrile', 'Merrilee', 'Merrili', 'Merrill', 'Merrily', 'Merry', 'Mersey', 'Meryl', 'Meta', 'Mia', 'Micaela', 'Michaela', 'Michaelina', 'Michaeline', 'Michaella', 'Michal', 'Michel', 'Michele', 'Michelina', 'Micheline', 'Michell', 'Michelle', 'Micki', 'Mickie', 'Micky', 'Midge', 'Mignon', 'Mignonne', 'Miguela', 'Miguelita', 'Mikako', 'Mildred', 'Mildrid', 'Milena', 'Milicent', 'Milissent', 'Milka', 'Milli', 'Millicent', 'Millie', 'Millisent', 'Milly', 'Milzie', 'Mimi', 'Min', 'Mina', 'Minda', 'Mindy', 'Minerva', 'Minetta', 'Minette', 'Minna', 'Minni', 'Minnie', 'Minny', 'Minta', 'Miquela', 'Mira', 'Mirabel', 'Mirabella', 'Mirabelle', 'Miran', 'Miranda', 'Mireielle', 'Mireille', 'Mirella', 'Mirelle', 'Miriam', 'Mirilla', 'Mirna', 'Misha', 'Missie', 'Missy', 'Misti', 'Misty', 'Mitra', 'Mitzi', 'Mmarianne', 'Modesta', 'Modestia', 'Modestine', 'Modesty', 'Moina', 'Moira', 'Moll', 'Mollee', 'Molli', 'Mollie', 'Molly', 'Mommy', 'Mona', 'Monah', 'Monica', 'Monika', 'Monique', 'Mora', 'Moreen', 'Morena', 'Morgan', 'Morgana', 'Morganica', 'Morganne', 'Morgen', 'Moria', 'Morissa', 'Morlee', 'Morna', 'Moselle', 'Moya', 'Moyna', 'Moyra', 'Mozelle', 'Muffin', 'Mufi', 'Mufinella', 'Muire', 'Mureil', 'Murial', 'Muriel', 'Murielle', 'Myna', 'Myra', 'Myrah', 'Myranda', 'Myriam', 'Myrilla', 'Myrle', 'Myrlene', 'Myrna', 'Myrta', 'Myrtia', 'Myrtice', 'Myrtie', 'Myrtle', 'Nada', 'Nadean', 'Nadeen', 'Nadia', 'Nadine', 'Nadiya', 'Nady', 'Nadya', 'Nalani', 'Nan', 'Nana', 'Nananne', 'Nance', 'Nancee', 'Nancey', 'Nanci', 'Nancie', 'Nancy', 'Nanete', 'Nanette', 'Nani', 'Nanice', 'Nanine', 'Nannette', 'Nanni', 'Nannie', 'Nanny', 'Nanon', 'Naoma', 'Naomi', 'Nara', 'Nari', 'Nariko', 'Nat', 'Nata', 'Natala', 'Natalee', 'Natalia', 'Natalie', 'Natalina', 'Nataline', 'Natalya', 'Natasha', 'Natassia', 'Nathalia', 'Nathalie', 'Natka', 'Natty', 'Neala', 'Neda', 'Nedda', 'Nedi', 'Neely', 'Neila', 'Neile', 'Neilla', 'Neille', 'Nela', 'Nelia', 'Nelie', 'Nell', 'Nelle', 'Nelli', 'Nellie', 'Nelly', 'Nena', 'Nerissa', 'Nerita', 'Nert', 'Nerta', 'Nerte', 'Nerti', 'Nertie', 'Nerty', 'Nessa', 'Nessi', 'Nessie', 'Nessy', 'Nesta', 'Netta', 'Netti', 'Nettie', 'Nettle', 'Netty', 'Nevsa', 'Neysa', 'Nichol', 'Nichole', 'Nicholle', 'Nicki', 'Nickie', 'Nicky', 'Nicol', 'Nicola', 'Nicole', 'Nicolea', 'Nicolette', 'Nicoli', 'Nicolina', 'Nicoline', 'Nicolle', 'Nidia', 'Nike', 'Niki', 'Nikki', 'Nikkie', 'Nikoletta', 'Nikolia', 'Nil', 'Nina', 'Ninetta', 'Ninette', 'Ninnetta', 'Ninnette', 'Ninon', 'Nisa', 'Nissa', 'Nisse', 'Nissie', 'Nissy', 'Nita', 'Nitin', 'Nixie', 'Noami', 'Noel', 'Noelani', 'Noell', 'Noella', 'Noelle', 'Noellyn', 'Noelyn', 'Noemi', 'Nola', 'Nolana', 'Nolie', 'Nollie', 'Nomi', 'Nona', 'Nonah', 'Noni', 'Nonie', 'Nonna', 'Nonnah', 'Nora', 'Norah', 'Norean', 'Noreen', 'Norene', 'Norina', 'Norine', 'Norma', 'Norri', 'Norrie', 'Norry', 'Nova', 'Novelia', 'Nydia', 'Nyssa', 'Octavia', 'Odele', 'Odelia', 'Odelinda', 'Odella', 'Odelle', 'Odessa', 'Odetta', 'Odette', 'Odilia', 'Odille', 'Ofelia', 'Ofella', 'Ofilia', 'Ola', 'Olenka', 'Olga', 'Olia', 'Olimpia', 'Olive', 'Olivette', 'Olivia', 'Olivie', 'Oliy', 'Ollie', 'Olly', 'Olva', 'Olwen', 'Olympe', 'Olympia', 'Olympie', 'Ondrea', 'Oneida', 'Onida', 'Onlea', 'Oona', 'Opal', 'Opalina', 'Opaline', 'Ophelia', 'Ophelie', 'Oprah', 'Ora', 'Oralee', 'Oralia', 'Oralie', 'Oralla', 'Oralle', 'Orel', 'Orelee', 'Orelia', 'Orelie', 'Orella', 'Orelle', 'Oreste', 'Oriana', 'Orly', 'Orsa', 'Orsola', 'Ortensia', 'Otha', 'Othelia', 'Othella', 'Othilia', 'Othilie', 'Ottilie', 'Pacifica', 'Page', 'Paige', 'Paloma', 'Pam', 'Pamela', 'Pamelina', 'Pamella', 'Pammi', 'Pammie', 'Pammy', 'Pandora', 'Pansie', 'Pansy', 'Paola', 'Paolina', 'Parwane', 'Pat', 'Patience', 'Patrica', 'Patrice', 'Patricia', 'Patrizia', 'Patsy', 'Patti', 'Pattie', 'Patty', 'Paula', 'Paula-Grace', 'Paule', 'Pauletta', 'Paulette', 'Pauli', 'Paulie', 'Paulina', 'Pauline', 'Paulita', 'Pauly', 'Pavia', 'Pavla', 'Pearl', 'Pearla', 'Pearle', 'Pearline', 'Peg', 'Pegeen', 'Peggi', 'Peggie', 'Peggy', 'Pen', 'Penelopa', 'Penelope', 'Penni', 'Pennie', 'Penny', 'Pepi', 'Pepita', 'Peri', 'Peria', 'Perl', 'Perla', 'Perle', 'Perri', 'Perrine', 'Perry', 'Persis', 'Pet', 'Peta', 'Petra', 'Petrina', 'Petronella', 'Petronia', 'Petronilla', 'Petronille', 'Petunia', 'Phaedra', 'Phaidra', 'Phebe', 'Phedra', 'Phelia', 'Phil', 'Philipa', 'Philippa', 'Philippe', 'Philippine', 'Philis', 'Phillida', 'Phillie', 'Phillis', 'Philly', 'Philomena', 'Phoebe', 'Phylis', 'Phyllida', 'Phyllis', 'Phyllys', 'Phylys', 'Pia', 'Pier', 'Pierette', 'Pierrette', 'Pietra', 'Piper', 'Pippa', 'Pippy', 'Polly', 'Pollyanna', 'Pooh', 'Poppy', 'Portia', 'Pris', 'Prisca', 'Priscella', 'Priscilla', 'Prissie', 'Pru', 'Prudence', 'Prudi', 'Prudy', 'Prue', 'Prunella', 'Queada', 'Queenie', 'Quentin', 'Querida', 'Quinn', 'Quinta', 'Quintana', 'Quintilla', 'Quintina', 'Rachael', 'Rachel', 'Rachele', 'Rachelle', 'Rae', 'Raf', 'Rafa', 'Rafaela', 'Rafaelia', 'Rafaelita', 'Ragnhild', 'Rahal', 'Rahel', 'Raina', 'Raine', 'Rakel', 'Ralina', 'Ramona', 'Ramonda', 'Rana', 'Randa', 'Randee', 'Randene', 'Randi', 'Randie', 'Randy', 'Ranee', 'Rani', 'Rania', 'Ranice', 'Ranique', 'Ranna', 'Raphaela', 'Raquel', 'Raquela', 'Rasia', 'Rasla', 'Raven', 'Ray', 'Raychel', 'Raye', 'Rayna', 'Raynell', 'Rayshell', 'Rea', 'Reba', 'Rebbecca', 'Rebe', 'Rebeca', 'Rebecca', 'Rebecka', 'Rebeka', 'Rebekah', 'Rebekkah', 'Ree', 'Reeba', 'Reena', 'Reeta', 'Reeva', 'Regan', 'Reggi', 'Reggie', 'Regina', 'Regine', 'Reiko', 'Reina', 'Reine', 'Remy', 'Rena', 'Renae', 'Renata', 'Renate', 'Rene', 'Renee', 'Renel', 'Renell', 'Renelle', 'Renie', 'Rennie', 'Reta', 'Retha', 'Revkah', 'Rey', 'Reyna', 'Rhea', 'Rheba', 'Rheta', 'Rhetta', 'Rhiamon', 'Rhianna', 'Rhianon', 'Rhoda', 'Rhodia', 'Rhodie', 'Rhody', 'Rhona', 'Rhonda', 'Riane', 'Riannon', 'Rianon', 'Rica', 'Ricca', 'Rici', 'Ricki', 'Rickie', 'Ricky', 'Riki', 'Rikki', 'Rina', 'Risa', 'Rissa', 'Rita', 'Riva', 'Rivalee', 'Rivi', 'Rivkah', 'Rivy', 'Roana', 'Roanna', 'Roanne', 'Robbi', 'Robbie', 'Robbin', 'Robby', 'Robbyn', 'Robena', 'Robenia', 'Roberta', 'Robin', 'Robina', 'Robinet', 'Robinett', 'Robinetta', 'Robinette', 'Robinia', 'Roby', 'Robyn', 'Roch', 'Rochell', 'Rochella', 'Rochelle', 'Rochette', 'Roda', 'Rodi', 'Rodie', 'Rodina', 'Romola', 'Romona', 'Romonda', 'Romy', 'Rona', 'Ronalda', 'Ronda', 'Ronica', 'Ronna', 'Ronni', 'Ronnica', 'Ronnie', 'Ronny', 'Roobbie', 'Rora', 'Rori', 'Rorie', 'Rory', 'Ros', 'Rosa', 'Rosabel', 'Rosabella', 'Rosabelle', 'Rosaleen', 'Rosalia', 'Rosalie', 'Rosalind', 'Rosalinda', 'Rosalinde', 'Rosaline', 'Rosalyn', 'Rosalynd', 'Rosamond', 'Rosamund', 'Rosana', 'Rosanna', 'Rosanne', 'Rosario', 'Rose', 'Roseann', 'Roseanna', 'Roseanne', 'Roselia', 'Roselin', 'Roseline', 'Rosella', 'Roselle', 'Roselyn', 'Rosemaria', 'Rosemarie', 'Rosemary', 'Rosemonde', 'Rosene', 'Rosetta', 'Rosette', 'Roshelle', 'Rosie', 'Rosina', 'Rosita', 'Roslyn', 'Rosmunda', 'Rosy', 'Row', 'Rowe', 'Rowena', 'Roxana', 'Roxane', 'Roxanna', 'Roxanne', 'Roxi', 'Roxie', 'Roxine', 'Roxy', 'Roz', 'Rozalie', 'Rozalin', 'Rozamond', 'Rozanna', 'Rozanne', 'Roze', 'Rozele', 'Rozella', 'Rozelle', 'Rozina', 'Rubetta', 'Rubi', 'Rubia', 'Rubie', 'Rubina', 'Ruby', 'Ruella', 'Ruperta', 'Ruth', 'Ruthann', 'Ruthanne', 'Ruthe', 'Ruthi', 'Ruthie', 'Ruthy', 'Ryann', 'Rycca', 'Saba', 'Sabina', 'Sabine', 'Sabra', 'Sabrina', 'Sacha', 'Sada', 'Sadella', 'Sadie', 'Sal', 'Sallee', 'Salli', 'Sallie', 'Sally', 'Sallyann', 'Sallyanne', 'Salome', 'Sam', 'Samantha', 'Samara', 'Samaria', 'Sammy', 'Samuela', 'Samuella', 'Sande', 'Sandi', 'Sandie', 'Sandra', 'Sandy', 'Sandye', 'Sapphira', 'Sapphire', 'Sara', 'Sara-Ann', 'Saraann', 'Sarah', 'Sarajane', 'Saree', 'Sarena', 'Sarene', 'Sarette', 'Sari', 'Sarina', 'Sarine', 'Sarita', 'Sascha', 'Sasha', 'Sashenka', 'Saudra', 'Saundra', 'Savina', 'Sayre', 'Scarlet', 'Scarlett', 'Scotty', 'Sean', 'Seana', 'Secunda', 'Seka', 'Sela', 'Selena', 'Selene', 'Selestina', 'Selia', 'Selie', 'Selina', 'Selinda', 'Seline', 'Sella', 'Selle', 'Selma', 'Sena', 'Sephira', 'Serena', 'Serene', 'Shaina', 'Shaine', 'Shalna', 'Shalne', 'Shamit', 'Shana', 'Shanda', 'Shandee', 'Shandie', 'Shandra', 'Shandy', 'Shane', 'Shani', 'Shanie', 'Shanna', 'Shannah', 'Shannen', 'Shannon', 'Shanon', 'Shanta', 'Shantee', 'Shara', 'Sharai', 'Shari', 'Sharia', 'Sharie', 'Sharity', 'Sharl', 'Sharla', 'Sharleen', 'Sharlene', 'Sharline', 'Sharna', 'Sharon', 'Sharona', 'Sharra', 'Sharron', 'Sharyl', 'Shaun', 'Shauna', 'Shawn', 'Shawna', 'Shawnee', 'Shay', 'Shayla', 'Shaylah', 'Shaylyn', 'Shaylynn', 'Shayna', 'Shayne', 'Shea', 'Sheba', 'Sheela', 'Sheelagh', 'Sheelah', 'Sheena', 'Sheeree', 'Sheila', 'Sheila-Kathryn', 'Sheilah', 'Sheilakathryn', 'Shel', 'Shela', 'Shelagh', 'Shelba', 'Shelbi', 'Shelby', 'Shelia', 'Shell', 'Shelley', 'Shelli', 'Shellie', 'Shelly', 'Shena', 'Sher', 'Sheree', 'Sheri', 'Sherie', 'Sheril', 'Sherill', 'Sherilyn', 'Sherline', 'Sherri', 'Sherrie', 'Sherry', 'Sherye', 'Sheryl', 'Shilpa', 'Shina', 'Shir', 'Shira', 'Shirah', 'Shirl', 'Shirlee', 'Shirleen', 'Shirlene', 'Shirley', 'Shirline', 'Shoshana', 'Shoshanna', 'Shoshie', 'Siana', 'Sianna', 'Sib', 'Sibbie', 'Sibby', 'Sibeal', 'Sibel', 'Sibella', 'Sibelle', 'Sibilla', 'Sibley', 'Sibyl', 'Sibylla', 'Sibylle', 'Sidoney', 'Sidonia', 'Sidonnie', 'Sigrid', 'Sile', 'Sileas', 'Silva', 'Silvana', 'Silvia', 'Silvie', 'Simona', 'Simone', 'Simonette', 'Simonne', 'Sindee', 'Sinead', 'Siobhan', 'Sioux', 'Siouxie', 'Sisely', 'Sisile', 'Sissie', 'Sissy', 'Sofia', 'Sofie', 'Solange', 'Sondra', 'Sonia', 'Sonja', 'Sonni', 'Sonnie', 'Sonnnie', 'Sonny', 'Sonya', 'Sophey', 'Sophi', 'Sophia', 'Sophie', 'Sophronia', 'Sorcha', 'Sosanna', 'Stace', 'Stacee', 'Stacey', 'Staci', 'Stacia', 'Stacie', 'Stacy', 'Stafani', 'Star', 'Starla', 'Starlene', 'Starlin', 'Starr', 'Stefa', 'Stefania', 'Stefanie', 'Steffane', 'Steffi', 'Steffie', 'Stella', 'Stepha', 'Stephana', 'Stephani', 'Stephanie', 'Stephannie', 'Stephenie', 'Stephi', 'Stephie', 'Stephine', 'Stesha', 'Stevana', 'Stevena', 'Stoddard', 'Storey', 'Storm', 'Stormi', 'Stormie', 'Stormy', 'Sue', 'Sue-elle', 'Suellen', 'Sukey', 'Suki', 'Sula', 'Sunny', 'Sunshine', 'Susan', 'Susana', 'Susanetta', 'Susann', 'Susanna', 'Susannah', 'Susanne', 'Susette', 'Susi', 'Susie', 'Sussi', 'Susy', 'Suzan', 'Suzann', 'Suzanna', 'Suzanne', 'Suzetta', 'Suzette', 'Suzi', 'Suzie', 'Suzy', 'Suzzy', 'Sybil', 'Sybila', 'Sybilla', 'Sybille', 'Sybyl', 'Sydel', 'Sydelle', 'Sydney', 'Sylvia', 'Sylvie', 'Tabatha', 'Tabbatha', 'Tabbi', 'Tabbie', 'Tabbitha', 'Tabby', 'Tabina', 'Tabitha', 'Taffy', 'Talia', 'Tallia', 'Tallie', 'Tally', 'Talya', 'Talyah', 'Tamar', 'Tamara', 'Tamarah', 'Tamarra', 'Tamera', 'Tami', 'Tamiko', 'Tamma', 'Tammara', 'Tammi', 'Tammie', 'Tammy', 'Tamra', 'Tana', 'Tandi', 'Tandie', 'Tandy', 'Tani', 'Tania', 'Tansy', 'Tanya', 'Tara', 'Tarah', 'Tarra', 'Tarrah', 'Taryn', 'Tasha', 'Tasia', 'Tate', 'Tatiana', 'Tatiania', 'Tatum', 'Tawnya', 'Tawsha', 'Teane', 'Ted', 'Tedda', 'Teddi', 'Teddie', 'Teddy', 'Tedi', 'Tedra', 'Teena', 'Tella', 'Teodora', 'Tera', 'Teresa', 'TeresaAnne', 'Terese', 'Teresina', 'Teresita', 'Teressa', 'Teri', 'Teriann', 'Terina', 'Terra', 'Terri', 'Terri-Jo', 'Terrianne', 'Terrie', 'Terry', 'Terrye', 'Tersina', 'Teryl', 'Terza', 'Tess', 'Tessa', 'Tessi', 'Tessie', 'Tessy', 'Thalia', 'Thea', 'Theada', 'Theadora', 'Theda', 'Thekla', 'Thelma', 'Theo', 'Theodora', 'Theodosia', 'Theresa', 'Theresa-Marie', 'Therese', 'Theresina', 'Theresita', 'Theressa', 'Therine', 'Thia', 'Thomasa', 'Thomasin', 'Thomasina', 'Thomasine', 'Tia', 'Tiana', 'Tiena', 'Tierney', 'Tiertza', 'Tiff', 'Tiffani', 'Tiffanie', 'Tiffany', 'Tiffi', 'Tiffie', 'Tiffy', 'Tilda', 'Tildi', 'Tildie', 'Tildy', 'Tillie', 'Tilly', 'Tim', 'Timi', 'Timmi', 'Timmie', 'Timmy', 'Timothea', 'Tina', 'Tine', 'Tiphani', 'Tiphanie', 'Tiphany', 'Tish', 'Tisha', 'Tobe', 'Tobey', 'Tobi', 'Tobie', 'Toby', 'Tobye', 'Toinette', 'Toma', 'Tomasina', 'Tomasine', 'Tomi', 'Tomiko', 'Tommi', 'Tommie', 'Tommy', 'Toni', 'Tonia', 'Tonie', 'Tony', 'Tonya', 'Tootsie', 'Torey', 'Tori', 'Torie', 'Torrie', 'Tory', 'Tova', 'Tove', 'Trace', 'Tracee', 'Tracey', 'Traci', 'Tracie', 'Tracy', 'Trenna', 'Tresa', 'Trescha', 'Tressa', 'Tricia', 'Trina', 'Trish', 'Trisha', 'Trista', 'Trix', 'Trixi', 'Trixie', 'Trixy', 'Truda', 'Trude', 'Trudey', 'Trudi', 'Trudie', 'Trudy', 'Trula', 'Tuesday', 'Twila', 'Twyla', 'Tybi', 'Tybie', 'Tyne', 'Ula', 'Ulla', 'Ulrica', 'Ulrika', 'Ulrike', 'Umeko', 'Una', 'Ursa', 'Ursala', 'Ursola', 'Ursula', 'Ursulina', 'Ursuline', 'Uta', 'Val', 'Valaree', 'Valaria', 'Vale', 'Valeda', 'Valencia', 'Valene', 'Valenka', 'Valentia', 'Valentina', 'Valentine', 'Valera', 'Valeria', 'Valerie', 'Valery', 'Valerye', 'Valida', 'Valina', 'Valli', 'Vallie', 'Vally', 'Valma', 'Valry', 'Van', 'Vanda', 'Vanessa', 'Vania', 'Vanna', 'Vanni', 'Vannie', 'Vanny', 'Vanya', 'Veda', 'Velma', 'Velvet', 'Vena', 'Venita', 'Ventura', 'Venus', 'Vera', 'Veradis', 'Vere', 'Verena', 'Verene', 'Veriee', 'Verile', 'Verina', 'Verine', 'Verla', 'Verna', 'Vernice', 'Veronica', 'Veronika', 'Veronike', 'Veronique', 'Vi', 'Vicki', 'Vickie', 'Vicky', 'Victoria', 'Vida', 'Viki', 'Vikki', 'Vikkie', 'Vikky', 'Vilhelmina', 'Vilma', 'Vin', 'Vina', 'Vinita', 'Vinni', 'Vinnie', 'Vinny', 'Viola', 'Violante', 'Viole', 'Violet', 'Violetta', 'Violette', 'Virgie', 'Virgina', 'Virginia', 'Virginie', 'Vita', 'Vitia', 'Vitoria', 'Vittoria', 'Viv', 'Viva', 'Vivi', 'Vivia', 'Vivian', 'Viviana', 'Vivianna', 'Vivianne', 'Vivie', 'Vivien', 'Viviene', 'Vivienne', 'Viviyan', 'Vivyan', 'Vivyanne', 'Vonni', 'Vonnie', 'Vonny', 'Wallie', 'Wallis', 'Wally', 'Waly', 'Wanda', 'Wandie', 'Wandis', 'Waneta', 'Wenda', 'Wendeline', 'Wendi', 'Wendie', 'Wendy', 'Wenona', 'Wenonah', 'Whitney', 'Wileen', 'Wilhelmina', 'Wilhelmine', 'Wilie', 'Willa', 'Willabella', 'Willamina', 'Willetta', 'Willette', 'Willi', 'Willie', 'Willow', 'Willy', 'Willyt', 'Wilma', 'Wilmette', 'Wilona', 'Wilone', 'Wilow', 'Windy', 'Wini', 'Winifred', 'Winna', 'Winnah', 'Winne', 'Winni', 'Winnie', 'Winnifred', 'Winny', 'Winona', 'Winonah', 'Wren', 'Wrennie', 'Wylma', 'Wynn', 'Wynne', 'Wynnie', 'Wynny', 'Xaviera', 'Xena', 'Xenia', 'Xylia', 'Xylina', 'Yalonda', 'Yehudit', 'Yelena', 'Yetta', 'Yettie', 'Yetty', 'Yevette', 'Yoko', 'Yolanda', 'Yolande', 'Yolane', 'Yolanthe', 'Yonina', 'Yoshi', 'Yoshiko', 'Yovonnda', 'Yvette', 'Yvonne', 'Zabrina', 'Zahara', 'Zandra', 'Zaneta', 'Zara', 'Zarah', 'Zaria', 'Zarla', 'Zea', 'Zelda', 'Zelma', 'Zena', 'Zenia', 'Zia', 'Zilvia', 'Zita', 'Zitella', 'Zoe', 'Zola', 'Zonda', 'Zondra', 'Zonnya', 'Zora', 'Zorah', 'Zorana', 'Zorina', 'Zorine', 'Zsa Zsa', 'Zsazsa', 'Zulema', 'Zuzana', 'Aamir', 'Aaron', 'Abbey', 'Abbie', 'Abbot', 'Abbott', 'Abby', 'Abdel', 'Abdul', 'Abdulkarim', 'Abdullah', 'Abe', 'Abel', 'Abelard', 'Abner', 'Abraham', 'Abram', 'Ace', 'Adair', 'Adam', 'Adams', 'Addie', 'Adger', 'Aditya', 'Adlai', 'Adnan', 'Adolf', 'Adolfo', 'Adolph', 'Adolphe', 'Adolpho', 'Adolphus', 'Adrian', 'Adrick', 'Adrien', 'Agamemnon', 'Aguinaldo', 'Aguste', 'Agustin', 'Aharon', 'Ahmad', 'Ahmed', 'Ahmet', 'Ajai', 'Ajay', 'Al', 'Alaa', 'Alain', 'Alan', 'Alasdair', 'Alastair', 'Albatros', 'Albert', 'Alberto', 'Albrecht', 'Alden', 'Aldis', 'Aldo', 'Aldric', 'Aldrich', 'Aldus', 'Aldwin', 'Alec', 'Aleck', 'Alejandro', 'Aleks', 'Aleksandrs', 'Alessandro', 'Alex', 'Alexander', 'Alexei', 'Alexis', 'Alf', 'Alfie', 'Alfonse', 'Alfonso', 'Alfonzo', 'Alford', 'Alfred', 'Alfredo', 'Algernon', 'Ali', 'Alic', 'Alister', 'Alix', 'Allah', 'Allan', 'Allen', 'Alley', 'Allie', 'Allin', 'Allyn', 'Alonso', 'Alonzo', 'Aloysius', 'Alphonse', 'Alphonso', 'Alston', 'Alton', 'Alvin', 'Alwin', 'Amadeus', 'Ambros', 'Ambrose', 'Ambrosi', 'Ambrosio', 'Ambrosius', 'Amery', 'Amory', 'Amos', 'Anatol', 'Anatole', 'Anatollo', 'Anatoly', 'Anders', 'Andie', 'Andonis', 'Andre', 'Andrea', 'Andreas', 'Andrej', 'Andres', 'Andrew', 'Andrey', 'Andri', 'Andros', 'Andrus', 'Andrzej', 'Andy', 'Angel', 'Angelico', 'Angelo', 'Angie', 'Angus', 'Ansel', 'Ansell', 'Anselm', 'Anson', 'Anthony', 'Antin', 'Antoine', 'Anton', 'Antone', 'Antoni', 'Antonin', 'Antonino', 'Antonio', 'Antonius', 'Antony', 'Anurag', 'Apollo', 'Apostolos', 'Aram', 'Archibald', 'Archibold', 'Archie', 'Archon', 'Archy', 'Arel', 'Ari', 'Arie', 'Ariel', 'Aristotle', 'Arlo', 'Armand', 'Armando', 'Armond', 'Armstrong', 'Arne', 'Arnie', 'Arnold', 'Arnoldo', 'Aron', 'Arron', 'Art', 'Arther', 'Arthur', 'Artie', 'Artur', 'Arturo', 'Arvie', 'Arvin', 'Arvind', 'Arvy', 'Ash', 'Ashby', 'Ashish', 'Ashley', 'Ashton', 'Aub', 'Aube', 'Aubert', 'Aubrey', 'Augie', 'August', 'Augustin', 'Augustine', 'Augusto', 'Augustus', 'Austen', 'Austin', 'Ave', 'Averell', 'Averil', 'Averill', 'Avery', 'Avi', 'Avraham', 'Avram', 'Avrom', 'Axel', 'Aylmer', 'Aziz', 'Bailey', 'Bailie', 'Baillie', 'Baily', 'Baird', 'Baldwin', 'Bancroft', 'Barbabas', 'Barclay', 'Bard', 'Barde', 'Barn', 'Barnabas', 'Barnabe', 'Barnaby', 'Barnard', 'Barnebas', 'Barnett', 'Barney', 'Barnie', 'Barny', 'Baron', 'Barr', 'Barret', 'Barrett', 'Barri', 'Barrie', 'Barris', 'Barron', 'Barry', 'Bart', 'Bartel', 'Barth', 'Barthel', 'Bartholemy', 'Bartholomeo', 'Bartholomeus', 'Bartholomew', 'Bartie', 'Bartlet', 'Bartlett', 'Bartolemo', 'Bartolomei', 'Bartolomeo', 'Barton', 'Barty', 'Bary', 'Basil', 'Batholomew', 'Baxter', 'Bay', 'Bayard', 'Beale', 'Bealle', 'Bear', 'Bearnard', 'Beau', 'Beaufort', 'Beauregard', 'Beck', 'Bela', 'Ben', 'Benedict', 'Bengt', 'Benito', 'Benjamen', 'Benjamin', 'Benji', 'Benjie', 'Benjy', 'Benn', 'Bennet', 'Bennett', 'Bennie', 'Benny', 'Benson', 'Bentley', 'Benton', 'Beowulf', 'Berchtold', 'Berk', 'Berke', 'Berkeley', 'Berkie', 'Berkley', 'Bernard', 'Bernardo', 'Bernd', 'Bernhard', 'Bernie', 'Bert', 'Bertie', 'Bertram', 'Bertrand', 'Bharat', 'Biff', 'Bill', 'Billie', 'Billy', 'Bing', 'Binky', 'Bishop', 'Bjorn', 'Bjorne', 'Blaine', 'Blair', 'Blake', 'Blare', 'Blayne', 'Bo', 'Bob', 'Bobbie', 'Bobby', 'Bogart', 'Bogdan', 'Boniface', 'Boris', 'Boyce', 'Boyd', 'Brad', 'Braden', 'Bradford', 'Bradley', 'Bradly', 'Brady', 'Brandon', 'Brandy', 'Brant', 'Brendan', 'Brent', 'Bret', 'Brett', 'Brewer', 'Brewster', 'Brian', 'Brice', 'Briggs', 'Brinkley', 'Britt', 'Brock', 'Broddie', 'Broddy', 'Broderic', 'Broderick', 'Brodie', 'Brody', 'Bronson', 'Brook', 'Brooke', 'Brooks', 'Bruce', 'Bruno', 'Bryan', 'Bryant', 'Bryce', 'Bryn', 'Bryon', 'Bubba', 'Buck', 'Bucky', 'Bud', 'Buddy', 'Burgess', 'Burke', 'Burl', 'Burnaby', 'Burt', 'Burton', 'Buster', 'Butch', 'Butler', 'Byram', 'Byron', 'Caesar', 'Cain', 'Cal', 'Caldwell', 'Caleb', 'Calhoun', 'Calvin', 'Cam', 'Cameron', 'Cammy', 'Carey', 'Carl', 'Carleigh', 'Carlie', 'Carlin', 'Carlo', 'Carlos', 'Carlton', 'Carlyle', 'Carmine', 'Carroll', 'Carson', 'Carsten', 'Carter', 'Cary', 'Caryl', 'Case', 'Casey', 'Caspar', 'Casper', 'Cass', 'Cat', 'Cecil', 'Cesar', 'Chad', 'Chadd', 'Chaddie', 'Chaddy', 'Chadwick', 'Chaim', 'Chalmers', 'Chan', 'Chance', 'Chancey', 'Chanderjit', 'Chandler', 'Chane', 'Chariot', 'Charles', 'Charleton', 'Charley', 'Charlie', 'Charlton', 'Chas', 'Chase', 'Chaunce', 'Chauncey', 'Che', 'Chelton', 'Chen', 'Chester', 'Cheston', 'Chet', 'Chev', 'Chevalier', 'Chevy', 'Chip', 'Chris', 'Chrissy', 'Christ', 'Christian', 'Christiano', 'Christie', 'Christof', 'Christofer', 'Christoph', 'Christophe', 'Christopher', 'Christorpher', 'Christos', 'Christy', 'Chrisy', 'Chuck', 'Churchill', 'Clair', 'Claire', 'Clancy', 'Clarance', 'Clare', 'Clarence', 'Clark', 'Clarke', 'Claude', 'Claudio', 'Claudius', 'Claus', 'Clay', 'Clayborn', 'Clayborne', 'Claybourne', 'Clayton', 'Cleland', 'Clem', 'Clemens', 'Clement', 'Clemente', 'Clemmie', 'Cletus', 'Cleveland', 'Cliff', 'Clifford', 'Clifton', 'Clint', 'Clinten', 'Clinton', 'Clive', 'Clyde', 'Cob', 'Cobb', 'Cobbie', 'Cobby', 'Cody', 'Colbert', 'Cole', 'Coleman', 'Colin', 'Collin', 'Collins', 'Conan', 'Connie', 'Connolly', 'Connor', 'Conrad', 'Conroy', 'Constantin', 'Constantine', 'Constantinos', 'Conway', 'Cooper', 'Corbin', 'Corby', 'Corey', 'Corky', 'Cornelius', 'Cornellis', 'Corrie', 'Cortese', 'Corwin', 'Cory', 'Cosmo', 'Costa', 'Courtney', 'Craig', 'Crawford', 'Creighton', 'Cris', 'Cristopher', 'Curt', 'Curtice', 'Curtis', 'Cy', 'Cyril', 'Cyrill', 'Cyrille', 'Cyrillus', 'Cyrus', 'Dabney', 'Daffy', 'Dale', 'Dallas', 'Dalton', 'Damian', 'Damien', 'Damon', 'Dan', 'Dana', 'Dane', 'Dani', 'Danie', 'Daniel', 'Dannie', 'Danny', 'Dante', 'Darby', 'Darcy', 'Daren', 'Darian', 'Darien', 'Darin', 'Dario', 'Darius', 'Darrel', 'Darrell', 'Darren', 'Darrick', 'Darrin', 'Darryl', 'Darth', 'Darwin', 'Daryl', 'Daryle', 'Dave', 'Davey', 'David', 'Davidde', 'Davide', 'Davidson', 'Davie', 'Davin', 'Davis', 'Davon', 'Davoud', 'Davy', 'Dawson', 'Dean', 'Deane', 'Del', 'Delbert', 'Dell', 'Delmar', 'Demetre', 'Demetri', 'Demetris', 'Demetrius', 'Demosthenis', 'Denis', 'Dennie', 'Dennis', 'Denny', 'Derby', 'Derek', 'Derick', 'Derk', 'Derrek', 'Derrick', 'Derrin', 'Derrol', 'Derron', 'Deryl', 'Desmond', 'Desmund', 'Devin', 'Devon', 'Dewey', 'Dewitt', 'Dexter', 'Dick', 'Dickey', 'Dickie', 'Diego', 'Dieter', 'Dietrich', 'Dillon', 'Dimitri', 'Dimitrios', 'Dimitris', 'Dimitrou', 'Dimitry', 'Dino', 'Dion', 'Dionis', 'Dionysus', 'Dirk', 'Dmitri', 'Dom', 'Domenic', 'Domenico', 'Dominic', 'Dominick', 'Dominique', 'Don', 'Donal', 'Donald', 'Donn', 'Donnie', 'Donny', 'Donovan', 'Dorian', 'Dory', 'Doug', 'Douggie', 'Dougie', 'Douglas', 'Douglass', 'Douglis', 'Dov', 'Doyle', 'Drake', 'Drew', 'Dru', 'Dryke', 'Duane', 'Dudley', 'Duffie', 'Duffy', 'Dugan', 'Duke', 'Dunc', 'Duncan', 'Dunstan', 'Durand', 'Durant', 'Durante', 'Durward', 'Dustin', 'Dwain', 'Dwaine', 'Dwane', 'Dwayne', 'Dwight', 'Dylan', 'Dyson', 'Earl', 'Earle', 'Easton', 'Eben', 'Ebeneser', 'Ebenezer', 'Eberhard', 'Ed', 'Eddie', 'Eddy', 'Edgar', 'Edgardo', 'Edie', 'Edmond', 'Edmund', 'Edouard', 'Edsel', 'Eduard', 'Eduardo', 'Edward', 'Edwin', 'Efram', 'Egbert', 'Ehud', 'Elbert', 'Elden', 'Eldon', 'Eli', 'Elias', 'Elihu', 'Elijah', 'Eliot', 'Eliott', 'Elisha', 'Elliot', 'Elliott', 'Ellis', 'Ellsworth', 'Ellwood', 'Elmer', 'Elmore', 'Elnar', 'Elric', 'Elroy', 'Elton', 'Elvin', 'Elvis', 'Elwin', 'Elwood', 'Elwyn', 'Ely', 'Emanuel', 'Emerson', 'Emery', 'Emil', 'Emile', 'Emilio', 'Emmanuel', 'Emmery', 'Emmet', 'Emmett', 'Emmit', 'Emmott', 'Emmy', 'Emory', 'Ender', 'Engelbart', 'Engelbert', 'Englebart', 'Englebert', 'Enoch', 'Enrico', 'Enrique', 'Ephraim', 'Ephram', 'Ephrayim', 'Ephrem', 'Er', 'Erasmus', 'Erastus', 'Erek', 'Erhard', 'Erhart', 'Eric', 'Erich', 'Erick', 'Erik', 'Erin', 'Erl', 'Ernest', 'Ernesto', 'Ernie', 'Ernst', 'Erny', 'Errol', 'Ervin', 'Erwin', 'Esau', 'Esme', 'Esteban', 'Ethan', 'Ethelbert', 'Ethelred', 'Etienne', 'Euclid', 'Eugen', 'Eugene', 'Eustace', 'Ev', 'Evan', 'Evelyn', 'Everard', 'Everett', 'Ewan', 'Ewart', 'Ez', 'Ezechiel', 'Ezekiel', 'Ezra', 'Fabian', 'Fabio', 'Fairfax', 'Farley', 'Fazeel', 'Federico', 'Felice', 'Felicio', 'Felipe', 'Felix', 'Ferd', 'Ferdie', 'Ferdinand', 'Ferdy', 'Fergus', 'Ferguson', 'Ferinand', 'Fernando', 'Fidel', 'Filbert', 'Filip', 'Filipe', 'Filmore', 'Finley', 'Finn', 'Fitz', 'Fitzgerald', 'Flem', 'Fleming', 'Flemming', 'Fletch', 'Fletcher', 'Flin', 'Flinn', 'Flint', 'Flipper', 'Florian', 'Floyd', 'Flynn', 'Fons', 'Fonsie', 'Fonz', 'Fonzie', 'Forbes', 'Ford', 'Forest', 'Forester', 'Forrest', 'Forrester', 'Forster', 'Foster', 'Fowler', 'Fox', 'Fran', 'Francesco', 'Francis', 'Francisco', 'Francois', 'Frank', 'Frankie', 'Franklin', 'Franklyn', 'Franky', 'Frans', 'Franz', 'Fraser', 'Frazier', 'Fred', 'Freddie', 'Freddy', 'Frederic', 'Frederich', 'Frederick', 'Frederico', 'Frederik', 'Fredric', 'Fredrick', 'Freeman', 'Freemon', 'Fremont', 'French', 'Friedric', 'Friedrich', 'Friedrick', 'Fritz', 'Fulton', 'Fyodor', 'Gabe', 'Gabriel', 'Gabriele', 'Gabriell', 'Gabriello', 'Gail', 'Gale', 'Galen', 'Gallagher', 'Gamaliel', 'Garcia', 'Garcon', 'Gardener', 'Gardiner', 'Gardner', 'Garey', 'Garfield', 'Garfinkel', 'Garold', 'Garp', 'Garret', 'Garrett', 'Garrot', 'Garrott', 'Garry', 'Garth', 'Garv', 'Garvey', 'Garvin', 'Garvy', 'Garwin', 'Garwood', 'Gary', 'Gaspar', 'Gasper', 'Gaston', 'Gav', 'Gaven', 'Gavin', 'Gavriel', 'Gay', 'Gayle', 'Gearard', 'Gene', 'Geo', 'Geof', 'Geoff', 'Geoffrey', 'Geoffry', 'Georg', 'George', 'Georges', 'Georgia', 'Georgie', 'Georgy', 'Gerald', 'Geraldo', 'Gerard', 'Gere', 'Gerhard', 'Gerhardt', 'Geri', 'Germaine', 'Gerold', 'Gerome', 'Gerrard', 'Gerri', 'Gerrit', 'Gerry', 'Gershom', 'Gershon', 'Giacomo', 'Gian', 'Giancarlo', 'Giavani', 'Gibb', 'Gideon', 'Giff', 'Giffard', 'Giffer', 'Giffie', 'Gifford', 'Giffy', 'Gil', 'Gilbert', 'Gilberto', 'Gilburt', 'Giles', 'Gill', 'Gilles', 'Ginger', 'Gino', 'Giordano', 'Giorgi', 'Giorgio', 'Giovanne', 'Giovanni', 'Giraldo', 'Giraud', 'Giuseppe', 'Glen', 'Glenn', 'Glynn', 'Godard', 'Godart', 'Goddard', 'Goddart', 'Godfree', 'Godfrey', 'Godfry', 'Godwin', 'Gomer', 'Gonzales', 'Gonzalo', 'Goober', 'Goose', 'Gordan', 'Gordie', 'Gordon', 'Grace', 'Grady', 'Graehme', 'Graeme', 'Graham', 'Graig', 'Grant', 'Granville', 'Greg', 'Gregg', 'Greggory', 'Gregor', 'Gregorio', 'Gregory', 'Gretchen', 'Griff', 'Griffin', 'Griffith', 'Griswold', 'Grove', 'Grover', 'Guido', 'Guillaume', 'Guillermo', 'Gunner', 'Gunter', 'Gunther', 'Gus', 'Gustaf', 'Gustav', 'Gustave', 'Gustavo', 'Gustavus', 'Guthrey', 'Guthrie', 'Guthry', 'Guy', 'Hadleigh', 'Hadley', 'Hadrian', 'Hagan', 'Hagen', 'Hailey', 'Hakeem', 'Hakim', 'Hal', 'Hale', 'Haleigh', 'Haley', 'Hall', 'Hallam', 'Halvard', 'Ham', 'Hamel', 'Hamid', 'Hamil', 'Hamilton', 'Hamish', 'Hamlen', 'Hamlet', 'Hamlin', 'Hammad', 'Hamnet', 'Han', 'Hanan', 'Hanford', 'Hank', 'Hannibal', 'Hans', 'Hans-Peter', 'Hansel', 'Hanson', 'Harald', 'Harcourt', 'Hari', 'Harlan', 'Harland', 'Harley', 'Harlin', 'Harman', 'Harmon', 'Harold', 'Harris', 'Harrison', 'Harrold', 'Harry', 'Hart', 'Hartley', 'Hartwell', 'Harv', 'Harvard', 'Harvey', 'Harvie', 'Harwell', 'Hasheem', 'Hashim', 'Haskel', 'Haskell', 'Hassan', 'Hastings', 'Hasty', 'Haven', 'Hayden', 'Haydon', 'Hayes', 'Hayward', 'Haywood', 'Hazel', 'Heath', 'Heathcliff', 'Hebert', 'Hector', 'Heinrich', 'Heinz', 'Helmuth', 'Henderson', 'Hendrick', 'Hendrik', 'Henri', 'Henrie', 'Henrik', 'Henrique', 'Henry', 'Herb', 'Herbert', 'Herbie', 'Herby', 'Hercule', 'Hercules', 'Herculie', 'Herman', 'Hermann', 'Hermon', 'Hermy', 'Hernando', 'Herold', 'Herrick', 'Herrmann', 'Hersch', 'Herschel', 'Hersh', 'Hershel', 'Herve', 'Hervey', 'Hew', 'Hewe', 'Hewet', 'Hewett', 'Hewie', 'Hewitt', 'Heywood', 'Hezekiah', 'Higgins', 'Hilary', 'Hilbert', 'Hill', 'Hillard', 'Hillary', 'Hillel', 'Hillery', 'Hilliard', 'Hilton', 'Hiralal', 'Hiram', 'Hiro', 'Hirsch', 'Hobart', 'Hodge', 'Hogan', 'Hollis', 'Holly', 'Homer', 'Horace', 'Horacio', 'Horatio', 'Horatius', 'Horst', 'Howard', 'Howie', 'Hoyt', 'Hubert', 'Hudson', 'Huey', 'Hugh', 'Hugo', 'Humbert', 'Humphrey', 'Hunt', 'Hunter', 'Huntington', 'Huntlee', 'Huntley', 'Hurley', 'Husain', 'Husein', 'Hussein', 'Hy', 'Hyatt', 'Hyman', 'Hymie', 'Iago', 'Iain', 'Ian', 'Ibrahim', 'Ichabod', 'Iggie', 'Iggy', 'Ignace', 'Ignacio', 'Ignacius', 'Ignatius', 'Ignaz', 'Ignazio', 'Igor', 'Ike', 'Ikey', 'Immanuel', 'Ingamar', 'Ingelbert', 'Ingemar', 'Inglebert', 'Ingmar', 'Ingram', 'Inigo', 'Ira', 'Irvin', 'Irvine', 'Irving', 'Irwin', 'Isa', 'Isaac', 'Isaak', 'Isador', 'Isadore', 'Isaiah', 'Ishmael', 'Isidore', 'Ismail', 'Israel', 'Istvan', 'Ivan', 'Ivor', 'Izaak', 'Izak', 'Izzy', 'Jabez', 'Jack', 'Jackie', 'Jackson', 'Jacob', 'Jacques', 'Jae', 'Jaime', 'Jake', 'Jakob', 'James', 'Jameson', 'Jamey', 'Jamie', 'Jan', 'Janos', 'Janus', 'Jared', 'Jarrett', 'Jarvis', 'Jason', 'Jasper', 'Javier', 'Jay', 'Jean', 'Jean-Christophe', 'Jean-Francois', 'Jean-Lou', 'Jean-Luc', 'Jean-Marc', 'Jean-Paul', 'Jean-Pierre', 'Jeb', 'Jed', 'Jedediah', 'Jef', 'Jeff', 'Jefferey', 'Jefferson', 'Jeffery', 'Jeffie', 'Jeffrey', 'Jeffry', 'Jefry', 'Jehu', 'Jennings', 'Jens', 'Jephthah', 'Jerald', 'Jeramie', 'Jere', 'Jereme', 'Jeremiah', 'Jeremias', 'Jeremie', 'Jeremy', 'Jermain', 'Jermaine', 'Jermayne', 'Jerold', 'Jerome', 'Jeromy', 'Jerri', 'Jerrie', 'Jerrold', 'Jerrome', 'Jerry', 'Jervis', 'Jerzy', 'Jess', 'Jesse', 'Jessee', 'Jessey', 'Jessie', 'Jesus', 'Jeth', 'Jethro', 'Jim', 'Jimbo', 'Jimmie', 'Jimmy', 'Jo', 'Joab', 'Joachim', 'Joao', 'Joaquin', 'Job', 'Jock', 'Jodi', 'Jodie', 'Jody', 'Joe', 'Joel', 'Joey', 'Johan', 'Johann', 'Johannes', 'John', 'John-David', 'John-Patrick', 'Johnathan', 'Johnathon', 'Johnnie', 'Johnny', 'Johny', 'Jon', 'Jonah', 'Jonas', 'Jonathan', 'Jonathon', 'Jonny', 'Jordan', 'Jordon', 'Jordy', 'Jorge', 'Jory', 'Jose', 'Josef', 'Joseph', 'Josephus', 'Josh', 'Joshua', 'Joshuah', 'Josiah', 'Jotham', 'Juan', 'Juanita', 'Jud', 'Judah', 'Judas', 'Judd', 'Jude', 'Judith', 'Judson', 'Judy', 'Juergen', 'Jule', 'Jules', 'Julian', 'Julie', 'Julio', 'Julius', 'Justin', 'Justis', 'Kaiser', 'Kaleb', 'Kalil', 'Kalle', 'Kalman', 'Kalvin', 'Kam', 'Kane', 'Kareem', 'Karel', 'Karim', 'Karl', 'Karsten', 'Kaspar', 'Keefe', 'Keenan', 'Keene', 'Keil', 'Keith', 'Kellen', 'Kelley', 'Kelly', 'Kelsey', 'Kelvin', 'Kelwin', 'Ken', 'Kendal', 'Kendall', 'Kendrick', 'Kenn', 'Kennedy', 'Kenneth', 'Kenny', 'Kent', 'Kenton', 'Kenyon', 'Kermie', 'Kermit', 'Kerry', 'Kevan', 'Kevin', 'Kim', 'Kimball', 'Kimmo', 'Kin', 'Kincaid', 'King', 'Kingsley', 'Kingsly', 'Kingston', 'Kip', 'Kirby', 'Kirk', 'Kit', 'Klaus', 'Klee', 'Knox', 'Konrad', 'Konstantin', 'Kory', 'Kostas', 'Kraig', 'Kris', 'Krishna', 'Kristian', 'Kristopher', 'Kristos', 'Kurt', 'Kurtis', 'Kyle', 'Laird', 'Lamar', 'Lambert', 'Lamont', 'Lance', 'Lancelot', 'Lane', 'Langston', 'Lanny', 'Larry', 'Lars', 'Laurance', 'Lauren', 'Laurence', 'Laurens', 'Laurent', 'Laurie', 'Lawerence', 'Lawrence', 'Lawson', 'Lawton', 'Lay', 'Layton', 'Lazar', 'Lazare', 'Lazaro', 'Lazarus', 'Lazlo', 'Lee', 'Lefty', 'Leif', 'Leigh', 'Leighton', 'Leland', 'Lem', 'Lemar', 'Lemmie', 'Lemmy', 'Lemuel', 'Len', 'Lenard', 'Lennie', 'Lenny', 'Leo', 'Leon', 'Leonard', 'Leonardo', 'Leonerd', 'Leonhard', 'Leonid', 'Leonidas', 'Leopold', 'Leroy', 'Les', 'Lesley', 'Leslie', 'Lester', 'Lev', 'Levi', 'Levin', 'Levon', 'Levy', 'Lew', 'Lewis', 'Lex', 'Liam', 'Lin', 'Lincoln', 'Lind', 'Lindsay', 'Lindsey', 'Lindy', 'Linoel', 'Linus', 'Lion', 'Lionel', 'Lionello', 'Llewellyn', 'Lloyd', 'Locke', 'Lockwood', 'Logan', 'Lon', 'Lonnie', 'Lonny', 'Loren', 'Lorenzo', 'Lorne', 'Lorrie', 'Lothar', 'Lou', 'Louie', 'Louis', 'Lovell', 'Lowell', 'Lucas', 'Luce', 'Lucian', 'Luciano', 'Lucien', 'Lucio', 'Lucius', 'Ludvig', 'Ludwig', 'Luigi', 'Luis', 'Lukas', 'Luke', 'Luther', 'Lyle', 'Lyn', 'Lyndon', 'Lynn', 'Mac', 'Mace', 'Mack', 'Mackenzie', 'Maddie', 'Maddy', 'Madison', 'Magnum', 'Magnus', 'Mahesh', 'Mahmoud', 'Mahmud', 'Maison', 'Major', 'Malcolm', 'Manfred', 'Manish', 'Manny', 'Manuel', 'Marc', 'Marcel', 'Marcello', 'Marcellus', 'Marcelo', 'Marchall', 'Marcio', 'Marco', 'Marcos', 'Marcus', 'Marietta', 'Marilu', 'Mario', 'Marion', 'Marius', 'Mark', 'Marko', 'Markos', 'Markus', 'Marlin', 'Marlo', 'Marlon', 'Marlow', 'Marlowe', 'Marmaduke', 'Marsh', 'Marshal', 'Marshall', 'Mart', 'Martainn', 'Marten', 'Martie', 'Martin', 'Martino', 'Marty', 'Martyn', 'Marv', 'Marve', 'Marven', 'Marvin', 'Marwin', 'Mason', 'Mateo', 'Mathew', 'Mathias', 'Matias', 'Matt', 'Matteo', 'Matthaeus', 'Mattheus', 'Matthew', 'Matthias', 'Matthieu', 'Matthiew', 'Matthus', 'Mattias', 'Mattie', 'Matty', 'Maurice', 'Mauricio', 'Maurie', 'Maurise', 'Maurits', 'Mauritz', 'Maury', 'Max', 'Maxfield', 'Maxie', 'Maxim', 'Maximilian', 'Maximilien', 'Maxwell', 'Mayer', 'Maynard', 'Maynord', 'Mayor', 'Mead', 'Meade', 'Meier', 'Meir', 'Mel', 'Melvin', 'Melvyn', 'Menard', 'Mendel', 'Mendie', 'Meredeth', 'Meredith', 'Merell', 'Merill', 'Merle', 'Merlin', 'Merrel', 'Merrick', 'Merril', 'Merrill', 'Merry', 'Merv', 'Mervin', 'Merwin', 'Meryl', 'Meyer', 'Mic', 'Micah', 'Michael', 'Michail', 'Michal', 'Michale', 'Micheal', 'Micheil', 'Michel', 'Michele', 'Mick', 'Mickey', 'Mickie', 'Micky', 'Miguel', 'Mika', 'Mikael', 'Mike', 'Mikel', 'Mikey', 'Mikhail', 'Miles', 'Millicent', 'Milo', 'Milt', 'Milton', 'Mischa', 'Mitch', 'Mitchael', 'Mitchel', 'Mitchell', 'Moe', 'Mohamad', 'Mohamed', 'Mohammad', 'Mohammed', 'Mohan', 'Moise', 'Moises', 'Moishe', 'Monroe', 'Montague', 'Monte', 'Montgomery', 'Monty', 'Moore', 'Mordecai', 'Morgan', 'Morlee', 'Morley', 'Morly', 'Morrie', 'Morris', 'Morry', 'Morse', 'Mort', 'Morten', 'Mortie', 'Mortimer', 'Morton', 'Morty', 'Mose', 'Moses', 'Moshe', 'Moss', 'Muffin', 'Mugsy', 'Muhammad', 'Munmro', 'Munroe', 'Murdoch', 'Murdock', 'Murphy', 'Murray', 'Mustafa', 'Myke', 'Myles', 'Mylo', 'Myron', 'Nahum', 'Napoleon', 'Nat', 'Natale', 'Nate', 'Nathan', 'Nathanael', 'Nathanial', 'Nathaniel', 'Nathanil', 'Neal', 'Neale', 'Neall', 'Nealon', 'Nealson', 'Nealy', 'Ned', 'Neddie', 'Neddy', 'Neel', 'Neil', 'Nels', 'Nelsen', 'Nelson', 'Nero', 'Neron', 'Nester', 'Nestor', 'Nev', 'Nevil', 'Nevile', 'Neville', 'Nevin', 'Nevins', 'Newton', 'Niall', 'Niccolo', 'Nicholas', 'Nichole', 'Nichols', 'Nick', 'Nickey', 'Nickie', 'Nickolas', 'Nicky', 'Nico', 'Nicolas', 'Niels', 'Nigel', 'Niki', 'Nikita', 'Nikki', 'Nikolai', 'Nikos', 'Niles', 'Nils', 'Nilson', 'Niven', 'Noach', 'Noah', 'Noam', 'Noble', 'Noe', 'Noel', 'Nolan', 'Noland', 'Norbert', 'Norm', 'Norman', 'Normand', 'Normie', 'Norris', 'Northrop', 'Northrup', 'Norton', 'Norwood', 'Nunzio', 'Obadiah', 'Obadias', 'Oberon', 'Obie', 'Octavius', 'Odell', 'Odie', 'Odin', 'Odysseus', 'Olaf', 'Olag', 'Ole', 'Oleg', 'Olin', 'Oliver', 'Olivier', 'Olle', 'Ollie', 'Omar', 'Oral', 'Oran', 'Orazio', 'Orbadiah', 'Oren', 'Orin', 'Orion', 'Orlando', 'Orren', 'Orrin', 'Orson', 'Orton', 'Orville', 'Osbert', 'Osborn', 'Osborne', 'Osbourn', 'Osbourne', 'Oscar', 'Osgood', 'Osmond', 'Osmund', 'Ossie', 'Oswald', 'Oswell', 'Otes', 'Othello', 'Otho', 'Otis', 'Otto', 'Owen', 'Ozzie', 'Ozzy', 'Pablo', 'Pace', 'Paco', 'Paddie', 'Paddy', 'Padraig', 'Page', 'Paige', 'Pail', 'Palmer', 'Paolo', 'Park', 'Parke', 'Parker', 'Parnell', 'Parrnell', 'Parry', 'Parsifal', 'Partha', 'Pascal', 'Pascale', 'Pasquale', 'Pat', 'Pate', 'Patel', 'Paten', 'Patin', 'Paton', 'Patric', 'Patrice', 'Patricio', 'Patrick', 'Patrik', 'Patsy', 'Pattie', 'Patty', 'Paul', 'Paulo', 'Pavel', 'Pearce', 'Pedro', 'Peirce', 'Pembroke', 'Pen', 'Penn', 'Pennie', 'Penny', 'Penrod', 'Pepe', 'Pepillo', 'Pepito', 'Perceval', 'Percival', 'Percy', 'Perry', 'Pete', 'Peter', 'Petey', 'Petr', 'Peyter', 'Peyton', 'Phil', 'Philbert', 'Philip', 'Phillip', 'Phillipe', 'Phillipp', 'Phineas', 'Phip', 'Pierce', 'Pierre', 'Pierson', 'Piet', 'Pieter', 'Pietro', 'Piggy', 'Pincas', 'Pinchas', 'Pincus', 'Piotr', 'Pip', 'Plato', 'Pooh', 'Porter', 'Poul', 'Powell', 'Praneetf', 'Prasad', 'Prasun', 'Prent', 'Prentice', 'Prentiss', 'Prescott', 'Preston', 'Price', 'Prince', 'Pryce', 'Puff', 'Purcell', 'Putnam', 'Pyotr', 'Quent', 'Quentin', 'Quiggly', 'Quigly', 'Quigman', 'Quill', 'Quillan', 'Quincey', 'Quincy', 'Quinlan', 'Quinn', 'Quint', 'Quintin', 'Quinton', 'Quintus', 'Rab', 'Rabbi', 'Rabi', 'Rad', 'Radcliffe', 'Rafael', 'Rafe', 'Ragnar', 'Rahul', 'Raimund', 'Rainer', 'Raj', 'Rajeev', 'Raleigh', 'Ralf', 'Ralph', 'Ram', 'Ramesh', 'Ramon', 'Ramsay', 'Ramsey', 'Rand', 'Randal', 'Randall', 'Randell', 'Randi', 'Randie', 'Randolf', 'Randolph', 'Randy', 'Ransell', 'Ransom', 'Raoul', 'Raphael', 'Raul', 'Ravi', 'Ravil', 'Rawley', 'Ray', 'Raymond', 'Raymund', 'Raymundo', 'Raynard', 'Rayner', 'Raynor', 'Reagan', 'Red', 'Redford', 'Redmond', 'Reece', 'Reed', 'Rees', 'Reese', 'Reg', 'Regan', 'Regen', 'Reggie', 'Reggis', 'Reggy', 'Reginald', 'Reginauld', 'Reid', 'Reilly', 'Reinhard', 'Reinhold', 'Rem', 'Remington', 'Remus', 'Renado', 'Renaldo', 'Renard', 'Renato', 'Renaud', 'Renault', 'Rene', 'Reube', 'Reuben', 'Reuven', 'Rex', 'Rey', 'Reynard', 'Reynold', 'Reynolds', 'Reza', 'Rhett', 'Ric', 'Ricard', 'Ricardo', 'Riccardo', 'Rice', 'Rich', 'Richard', 'Richardo', 'Richie', 'Richmond', 'Richy', 'Rick', 'Rickard', 'Rickey', 'Ricki', 'Rickie', 'Ricky', 'Rik', 'Rikki', 'Riley', 'Rinaldo', 'Ripley', 'Ritch', 'Ritchie', 'Roarke', 'Rob', 'Robb', 'Robbert', 'Robbie', 'Robert', 'Roberto', 'Robin', 'Robinson', 'Rochester', 'Rock', 'Rockwell', 'Rocky', 'Rod', 'Rodd', 'Roddie', 'Roddy', 'Roderic', 'Roderich', 'Roderick', 'Roderigo', 'Rodge', 'Rodger', 'Rodney', 'Rodolfo', 'Rodolph', 'Rodolphe', 'Rodrick', 'Rodrigo', 'Rodrique', 'Rog', 'Roger', 'Rogers', 'Roice', 'Roland', 'Rolando', 'Rolf', 'Rolfe', 'Rolland', 'Rollin', 'Rollins', 'Rollo', 'Rolph', 'Romain', 'Roman', 'Romeo', 'Ron', 'Ronald', 'Ronen', 'Roni', 'Ronnie', 'Ronny', 'Roosevelt', 'Rory', 'Roscoe', 'Ross', 'Roth', 'Rourke', 'Rowland', 'Roy', 'Royal', 'Royce', 'Rube', 'Ruben', 'Rubin', 'Ruby', 'Rudd', 'Ruddie', 'Ruddy', 'Rudie', 'Rudiger', 'Rudolf', 'Rudolfo', 'Rudolph', 'Rudy', 'Rudyard', 'Rufe', 'Rufus', 'Rupert', 'Ruperto', 'Russ', 'Russel', 'Russell', 'Rustie', 'Rustin', 'Rusty', 'Rutger', 'Rutherford', 'Rutledge', 'Rutter', 'Ryan', 'Sal', 'Salem', 'Salim', 'Salman', 'Salmon', 'Salomo', 'Salomon', 'Salomone', 'Salvador', 'Salvatore', 'Salvidor', 'Sam', 'Sammie', 'Sammy', 'Sampson', 'Samson', 'Samuel', 'Samuele', 'Sancho', 'Sander', 'Sanders', 'Sanderson', 'Sandor', 'Sandro', 'Sandy', 'Sanford', 'Sanson', 'Sansone', 'Sarge', 'Sargent', 'Sascha', 'Sasha', 'Saul', 'Sauncho', 'Saunder', 'Saunders', 'Saunderson', 'Saundra', 'Saw', 'Sawyer', 'Sawyere', 'Sax', 'Saxe', 'Saxon', 'Say', 'Sayer', 'Sayers', 'Sayre', 'Sayres', 'Scarface', 'Schroeder', 'Schuyler', 'Scot', 'Scott', 'Scotti', 'Scottie', 'Scotty', 'Seamus', 'Sean', 'Sebastian', 'Sebastiano', 'Sebastien', 'See', 'Selby', 'Selig', 'Serge', 'Sergeant', 'Sergei', 'Sergent', 'Sergio', 'Seth', 'Seymour', 'Shadow', 'Shaine', 'Shalom', 'Shamus', 'Shanan', 'Shane', 'Shannan', 'Shannon', 'Shaughn', 'Shaun', 'Shaw', 'Shawn', 'Shay', 'Shayne', 'Shea', 'Sheff', 'Sheffie', 'Sheffield', 'Sheffy', 'Shelby', 'Shelden', 'Sheldon', 'Shell', 'Shelley', 'Shelton', 'Shem', 'Shep', 'Shepard', 'Shepherd', 'Sheppard', 'Shepperd', 'Sheridan', 'Sherlock', 'Sherlocke', 'Sherman', 'Sherwin', 'Sherwood', 'Sherwynd', 'Shimon', 'Shlomo', 'Sholom', 'Shorty', 'Shumeet', 'Shurlock', 'Shurlocke', 'Shurwood', 'Si', 'Sibyl', 'Sid', 'Siddhartha', 'Sidnee', 'Sidney', 'Siegfried', 'Siffre', 'Sig', 'Sigfrid', 'Sigfried', 'Sigmund', 'Silas', 'Silvain', 'Silvan', 'Silvano', 'Silvanus', 'Silvester', 'Silvio', 'Sim', 'Simeon', 'Simmonds', 'Simon', 'Simone', 'Sinclair', 'Sinclare', 'Sivert', 'Siward', 'Skell', 'Skelly', 'Skip', 'Skipp', 'Skipper', 'Skippie', 'Skippy', 'Skipton', 'Sky', 'Skye', 'Skylar', 'Skyler', 'Slade', 'Slim', 'Sloan', 'Sloane', 'Sly', 'Smith', 'Smitty', 'Socrates', 'Sol', 'Sollie', 'Solly', 'Solomon', 'Somerset', 'Son', 'Sonnie', 'Sonny', 'Sparky', 'Spence', 'Spencer', 'Spense', 'Spenser', 'Spike', 'Spiro', 'Spiros', 'Spud', 'Srinivas', 'Stacy', 'Staffard', 'Stafford', 'Staford', 'Stan', 'Standford', 'Stanfield', 'Stanford', 'Stanislaw', 'Stanleigh', 'Stanley', 'Stanly', 'Stanton', 'Stanwood', 'Stavros', 'Stearn', 'Stearne', 'Stefan', 'Stefano', 'Steffen', 'Stephan', 'Stephanus', 'Stephen', 'Sterling', 'Stern', 'Sterne', 'Steve', 'Steven', 'Stevie', 'Stevy', 'Stew', 'Steward', 'Stewart', 'Stig', 'Stillman', 'Stillmann', 'Sting', 'Stinky', 'Stirling', 'Stu', 'Stuart', 'Sturgis', 'Sullivan', 'Sully', 'Sumner', 'Sunny', 'Sutherland', 'Sutton', 'Sven', 'Swen', 'Syd', 'Sydney', 'Sylvan', 'Sylvester', 'Tab', 'Tabb', 'Tabbie', 'Tabby', 'Taber', 'Tabor', 'Tad', 'Tadd', 'Taddeo', 'Taddeus', 'Tadeas', 'Tailor', 'Tait', 'Taite', 'Talbert', 'Talbot', 'Tallie', 'Tally', 'Tam', 'Tamas', 'Tammie', 'Tammy', 'Tan', 'Tann', 'Tanner', 'Tanney', 'Tannie', 'Tanny', 'Tarrance', 'Tarrant', 'Tarzan', 'Tate', 'Taylor', 'Teador', 'Ted', 'Tedd', 'Teddie', 'Teddy', 'Tedie', 'Tedman', 'Tedmund', 'Tedrick', 'Temp', 'Temple', 'Templeton', 'Teodoor', 'Teodor', 'Teodorico', 'Teodoro', 'Terence', 'Terencio', 'Terrance', 'Terrel', 'Terrell', 'Terrence', 'Terri', 'Terrill', 'Terry', 'Thacher', 'Thad', 'Thaddeus', 'Thaddius', 'Thaddus', 'Thadeus', 'Thain', 'Thaine', 'Thane', 'Tharen', 'Thatch', 'Thatcher', 'Thaxter', 'Thayne', 'Thebault', 'Thedric', 'Thedrick', 'Theo', 'Theobald', 'Theodor', 'Theodore', 'Theodoric', 'Theophyllus', 'Thibaud', 'Thibaut', 'Thom', 'Thomas', 'Thor', 'Thorn', 'Thorndike', 'Thornie', 'Thornton', 'Thorny', 'Thorpe', 'Thorstein', 'Thorsten', 'Thorvald', 'Thurstan', 'Thurston', 'Tibold', 'Tiebold', 'Tiebout', 'Tiler', 'Tim', 'Timmie', 'Timmy', 'Timothee', 'Timotheus', 'Timothy', 'Tirrell', 'Tito', 'Titos', 'Titus', 'Tobe', 'Tobiah', 'Tobias', 'Tobie', 'Tobin', 'Tobit', 'Toby', 'Tod', 'Todd', 'Toddie', 'Toddy', 'Tom', 'Tomas', 'Tome', 'Tomkin', 'Tomlin', 'Tommie', 'Tommy', 'Tonnie', 'Tony', 'Tore', 'Torey', 'Torin', 'Torr', 'Torrance', 'Torre', 'Torrence', 'Torrey', 'Torrin', 'Torry', 'Town', 'Towney', 'Townie', 'Townsend', 'Towny', 'Trace', 'Tracey', 'Tracie', 'Tracy', 'Traver', 'Travers', 'Travis', 'Tray', 'Tre', 'Tremain', 'Tremaine', 'Tremayne', 'Trent', 'Trenton', 'Trev', 'Trevar', 'Trever', 'Trevor', 'Trey', 'Trip', 'Tristan', 'Troy', 'Truman', 'Tuck', 'Tucker', 'Tuckie', 'Tucky', 'Tudor', 'Tull', 'Tulley', 'Tully', 'Turner', 'Ty', 'Tybalt', 'Tye', 'Tyler', 'Tymon', 'Tymothy', 'Tynan', 'Tyrone', 'Tyrus', 'Tyson', 'Udale', 'Udall', 'Udell', 'Ugo', 'Ulberto', 'Uli', 'Ulick', 'Ulises', 'Ulric', 'Ulrich', 'Ulrick', 'Ulysses', 'Umberto', 'Upton', 'Urbain', 'Urban', 'Urbano', 'Urbanus', 'Uri', 'Uriah', 'Uriel', 'Urson', 'Vachel', 'Vaclav', 'Vail', 'Val', 'Valdemar', 'Vale', 'Valentin', 'Valentine', 'Van', 'Vance', 'Vasili', 'Vasilis', 'Vasily', 'Vassili', 'Vassily', 'Vaughan', 'Vaughn', 'Venkat', 'Verge', 'Vergil', 'Vern', 'Verne', 'Vernen', 'Verney', 'Vernon', 'Vernor', 'Vibhu', 'Vic', 'Vick', 'Victor', 'Vijay', 'Vilhelm', 'Vin', 'Vince', 'Vincent', 'Vincents', 'Vinnie', 'Vinny', 'Vinod', 'Virge', 'Virgie', 'Virgil', 'Virgilio', 'Vite', 'Vito', 'Vlad', 'Vladamir', 'Vladimir', 'Voltaire', 'Von', 'Wade', 'Wadsworth', 'Wain', 'Waine', 'Wainwright', 'Wait', 'Waite', 'Waiter', 'Wake', 'Wakefield', 'Wald', 'Waldemar', 'Walden', 'Waldo', 'Waldon', 'Waleed', 'Walker', 'Wallace', 'Wallache', 'Wallas', 'Wallie', 'Wallis', 'Wally', 'Walsh', 'Walt', 'Walter', 'Walther', 'Walton', 'Wang', 'Ward', 'Warde', 'Warden', 'Ware', 'Waring', 'Warner', 'Warren', 'Wash', 'Washington', 'Wat', 'Waverley', 'Waverly', 'Way', 'Waylan', 'Wayland', 'Waylen', 'Waylin', 'Waylon', 'Wayne', 'Web', 'Webb', 'Weber', 'Webster', 'Weidar', 'Weider', 'Welbie', 'Welby', 'Welch', 'Wells', 'Welsh', 'Wendall', 'Wendel', 'Wendell', 'Werner', 'Wes', 'Wesley', 'Weslie', 'West', 'Westbrook', 'Westbrooke', 'Westleigh', 'Westley', 'Weston', 'Weylin', 'Wheeler', 'Whit', 'Whitaker', 'Whitby', 'Whitman', 'Whitney', 'Whittaker', 'Wiatt', 'Wilber', 'Wilbert', 'Wilbur', 'Wilburn', 'Wilburt', 'Wilden', 'Wildon', 'Wilek', 'Wiley', 'Wilfred', 'Wilfrid', 'Wilhelm', 'Will', 'Willard', 'Willdon', 'Willem', 'Willey', 'Willi', 'William', 'Willie', 'Willis', 'Willmott', 'Willy', 'Wilmar', 'Wilmer', 'Wilson', 'Wilt', 'Wilton', 'Win', 'Windham', 'Winfield', 'Winford', 'Winfred', 'Winifield', 'Winn', 'Winnie', 'Winny', 'Winslow', 'Winston', 'Winthrop', 'Winton', 'Wit', 'Witold', 'Wittie', 'Witty', 'Wojciech', 'Wolf', 'Wolfgang', 'Wolfie', 'Wolfram', 'Wolfy', 'Woochang', 'Wood', 'Woodie', 'Woodman', 'Woodrow', 'Woody', 'Worden', 'Worth', 'Worthington', 'Worthy', 'Wright', 'Wyatan', 'Wyatt', 'Wye', 'Wylie', 'Wyn', 'Wyndham', 'Wynn', 'Wynton', 'Xavier', 'Xenos', 'Xerxes', 'Xever', 'Ximenes', 'Ximenez', 'Xymenes', 'Yaakov', 'Yacov', 'Yale', 'Yanaton', 'Yance', 'Yancey', 'Yancy', 'Yank', 'Yankee', 'Yard', 'Yardley', 'Yehudi', 'Yigal', 'Yule', 'Yuri', 'Yves', 'Zach', 'Zacharia', 'Zachariah', 'Zacharias', 'Zacharie', 'Zachary', 'Zacherie', 'Zachery', 'Zack', 'Zackariah', 'Zak', 'Zalman', 'Zane', 'Zared', 'Zary', 'Zeb', 'Zebadiah', 'Zebedee', 'Zebulen', 'Zebulon', 'Zechariah', 'Zed', 'Zedekiah', 'Zeke', 'Zelig', 'Zerk', 'Zeus', 'Zippy', 'Zollie', 'Zolly', 'Zorro']\n",
      "['i', 'me', 'my', 'myself', 'we', 'our', 'ours', 'ourselves', 'you', \"you're\", \"you've\", \"you'll\", \"you'd\", 'your', 'yours', 'yourself', 'yourselves', 'he', 'him', 'his', 'himself', 'she', \"she's\", 'her', 'hers', 'herself', 'it', \"it's\", 'its', 'itself', 'they', 'them', 'their', 'theirs', 'themselves', 'what', 'which', 'who', 'whom', 'this', 'that', \"that'll\", 'these', 'those', 'am', 'is', 'are', 'was', 'were', 'be', 'been', 'being', 'have', 'has', 'had', 'having', 'do', 'does', 'did', 'doing', 'a', 'an', 'the', 'and', 'but', 'if', 'or', 'because', 'as', 'until', 'while', 'of', 'at', 'by', 'for', 'with', 'about', 'against', 'between', 'into', 'through', 'during', 'before', 'after', 'above', 'below', 'to', 'from', 'up', 'down', 'in', 'out', 'on', 'off', 'over', 'under', 'again', 'further', 'then', 'once', 'here', 'there', 'when', 'where', 'why', 'how', 'all', 'any', 'both', 'each', 'few', 'more', 'most', 'other', 'some', 'such', 'no', 'nor', 'not', 'only', 'own', 'same', 'so', 'than', 'too', 'very', 's', 't', 'can', 'will', 'just', 'don', \"don't\", 'should', \"should've\", 'now', 'd', 'll', 'm', 'o', 're', 've', 'y', 'ain', 'aren', \"aren't\", 'couldn', \"couldn't\", 'didn', \"didn't\", 'doesn', \"doesn't\", 'hadn', \"hadn't\", 'hasn', \"hasn't\", 'haven', \"haven't\", 'isn', \"isn't\", 'ma', 'mightn', \"mightn't\", 'mustn', \"mustn't\", 'needn', \"needn't\", 'shan', \"shan't\", 'shouldn', \"shouldn't\", 'wasn', \"wasn't\", 'weren', \"weren't\", 'won', \"won't\", 'wouldn', \"wouldn't\"]\n"
     ]
    }
   ],
   "source": [
    "print(names)\n",
    "print(stopwords)"
   ]
  },
  {
   "cell_type": "code",
   "execution_count": 25,
   "metadata": {
    "id": "0_ijd-giQiSQ",
    "tags": []
   },
   "outputs": [],
   "source": [
    "def get_tokens(series, reduce):\n",
    "\n",
    "    vocabulary = []\n",
    "    for comment in series:\n",
    "        \n",
    "        for idx, word in enumerate(nltk.word_tokenize(comment)):\n",
    "            \n",
    "            if not word.isalpha(): continue\n",
    "           \n",
    "            if word in stopwords: continue\n",
    "            \n",
    "            if word not in names: word = word.lower()\n",
    "            \n",
    "            vocabulary.append(reduce(word))\n",
    "           \n",
    "      \n",
    "\n",
    "    return vocabulary"
   ]
  },
  {
   "cell_type": "code",
   "execution_count": 26,
   "metadata": {
    "id": "CKWF4F48QmG1",
    "tags": []
   },
   "outputs": [],
   "source": [
    "lemmatizer = WordNetLemmatizer()"
   ]
  },
  {
   "cell_type": "code",
   "execution_count": 27,
   "metadata": {
    "tags": []
   },
   "outputs": [],
   "source": [
    "vocabulary = get_tokens(df[\"im getting on borderlands and i will murder you all ,\"][:].astype(str), lemmatizer.lemmatize)\n",
    "vocabulary = list(set(vocabulary))\n"
   ]
  },
  {
   "cell_type": "code",
   "execution_count": 28,
   "metadata": {
    "id": "sqFjoFgGQ8hO",
    "tags": []
   },
   "outputs": [],
   "source": [
    "fd = nltk.FreqDist(vocabulary)\n"
   ]
  },
  {
   "cell_type": "code",
   "execution_count": 29,
   "metadata": {
    "colab": {
     "base_uri": "https://localhost:8080/"
    },
    "id": "jPn5gM5DSkp8",
    "outputId": "2a8b8e32-12ac-4431-99c2-0e561d8f2572",
    "tags": []
   },
   "outputs": [
    {
     "name": "stdout",
     "output_type": "stream",
     "text": [
      "           vh       premium          drip  hansvestberg          awpy      hardship communication        warzam   springfield        gearhd \n",
      "            1             1             1             1             1             1             1             1             1             1 \n"
     ]
    }
   ],
   "source": [
    "fd.tabulate(10)"
   ]
  },
  {
   "cell_type": "code",
   "execution_count": 30,
   "metadata": {
    "id": "by8gpZQUQ_4t",
    "tags": []
   },
   "outputs": [],
   "source": [
    "Positive1 = df[df[\"Positive\"]==\"Positive\"][\"im getting on borderlands and i will murder you all ,\"]\n",
    "Negative1 = df[df[\"Positive\"]==\"Negative\"][\"im getting on borderlands and i will murder you all ,\"]\n",
    "Neutral1 = df[df[\"Positive\"]==\"Neutral\"][\"im getting on borderlands and i will murder you all ,\"]\n",
    "Irrelevant1 = df[df[\"Positive\"]==\"Irrelevant\"][\"im getting on borderlands and i will murder you all ,\"]\n",
    "\n"
   ]
  },
  {
   "cell_type": "code",
   "execution_count": 31,
   "metadata": {
    "tags": []
   },
   "outputs": [],
   "source": [
    "positive_tokens = get_tokens(Positive1.astype(str), lemmatizer.lemmatize)\n",
    "negative_tokens = get_tokens(Negative1.astype(str), lemmatizer.lemmatize)\n",
    "neutral_tokens = get_tokens(Neutral1.astype(str), lemmatizer.lemmatize)\n",
    "irrelevant_tokens = get_tokens(Irrelevant1.astype(str), lemmatizer.lemmatize)\n"
   ]
  },
  {
   "cell_type": "code",
   "execution_count": 32,
   "metadata": {
    "id": "Rn0w5jsAS-H-",
    "tags": []
   },
   "outputs": [],
   "source": [
    "pofd = nltk.FreqDist(positive_tokens)\n",
    "nefd = nltk.FreqDist(negative_tokens)\n",
    "neufd = nltk.FreqDist(neutral_tokens)\n",
    "irfd = nltk.FreqDist(irrelevant_tokens)"
   ]
  },
  {
   "cell_type": "code",
   "execution_count": 33,
   "metadata": {
    "id": "ZwWgefyATBOT",
    "tags": []
   },
   "outputs": [],
   "source": [
    "top_positive = {word for word, count in pofd.most_common(200)}\n",
    "top_negative = {word for word, count in nefd.most_common(200)}\n",
    "top_neutral = {word for word, count in neufd.most_common(200)}\n",
    "top_irrelevant = {word for word, count in irfd.most_common(200)}"
   ]
  },
  {
   "cell_type": "code",
   "execution_count": 34,
   "metadata": {
    "id": "wXJnjmgOTFIn",
    "tags": []
   },
   "outputs": [],
   "source": [
    "from statistics import mean\n",
    "\n",
    "def extract_features(text):\n",
    "\n",
    "    vocabulary = []\n",
    "    for idx, word in enumerate(nltk.word_tokenize(text)):\n",
    "        if not word.isalpha(): continue\n",
    "        if word in stopwords: continue\n",
    "        word = word.lower()\n",
    "        word = lemmatizer.lemmatize(word)\n",
    "        if word in top_positive or top_negative or top_neutral:\n",
    "            vocabulary.append(word)\n",
    "\n",
    "    fd = nltk.FreqDist(vocabulary)\n",
    "\n",
    "    return fd"
   ]
  },
  {
   "cell_type": "code",
   "execution_count": 35,
   "metadata": {
    "id": "CAk-VK1rTHMr",
    "tags": []
   },
   "outputs": [],
   "source": [
    "Positive1 = df[df[\"Positive\"]==\"Positive\"][\"im getting on borderlands and i will murder you all ,\"].sample(200).astype(str)\n",
    "Negative1 = df[df[\"Positive\"]==\"Negative\"][\"im getting on borderlands and i will murder you all ,\"].sample(200).astype(str)\n",
    "Neutral1 = df[df[\"Positive\"]==\"Neutral\"][\"im getting on borderlands and i will murder you all ,\"].sample(200).astype(str)\n",
    "Irrelevant1 = df[df[\"Positive\"]==\"Irrelevant\"][\"im getting on borderlands and i will murder you all ,\"].sample(200).astype(str)\n",
    "\n",
    "features = [\n",
    "    (extract_features(review), \"Postiva\")\n",
    "    for review in Positive1\n",
    "]\n",
    "features.extend([\n",
    "    (extract_features(review), \"Negativa\")\n",
    "    for review in Negative1\n",
    "])\n",
    "features.extend([\n",
    "    (extract_features(review), \"Neutral\")\n",
    "    for review in Neutral1\n",
    "])\n",
    "features.extend([\n",
    "    (extract_features(review), \"Irrelevant\")\n",
    "    for review in Irrelevant1\n",
    "])"
   ]
  },
  {
   "cell_type": "code",
   "execution_count": 36,
   "metadata": {
    "colab": {
     "base_uri": "https://localhost:8080/"
    },
    "id": "4c4jZjFATodT",
    "outputId": "b9dd4b26-9fb6-4564-d88f-753bf9d96947",
    "tags": []
   },
   "outputs": [
    {
     "name": "stdout",
     "output_type": "stream",
     "text": [
      "Most Informative Features\n",
      "                    http = 1              Neutra : Irrele =      5.8 : 1.0\n",
      "                    game = 1              Negati : Irrele =      4.5 : 1.0\n",
      "                    love = 1              Postiv : Irrele =      4.1 : 1.0\n",
      "                actually = 1              Negati : Postiv =      3.9 : 1.0\n",
      "                       i = 2              Postiv : Negati =      3.9 : 1.0\n",
      "                      is = 1              Negati : Irrele =      3.7 : 1.0\n",
      "                     new = 1              Postiv : Irrele =      3.5 : 1.0\n",
      "                       u = 1              Postiv : Irrele =      3.5 : 1.0\n",
      "                     wow = 1              Neutra : Postiv =      3.2 : 1.0\n",
      "                      go = 1              Irrele : Postiv =      3.2 : 1.0\n",
      "                     bad = 1              Negati : Postiv =      3.0 : 1.0\n",
      "              callofduty = 1              Negati : Postiv =      3.0 : 1.0\n",
      "                    this = 1              Negati : Postiv =      3.0 : 1.0\n",
      "                   would = 1              Negati : Irrele =      2.9 : 1.0\n",
      "                    game = 2              Negati : Neutra =      2.8 : 1.0\n",
      "                    drop = 1              Neutra : Postiv =      2.5 : 1.0\n",
      "                    stop = 1              Neutra : Postiv =      2.5 : 1.0\n",
      "                   check = 1              Irrele : Postiv =      2.5 : 1.0\n",
      "                    find = 1              Irrele : Postiv =      2.5 : 1.0\n",
      "                  legend = 1              Irrele : Postiv =      2.5 : 1.0\n"
     ]
    }
   ],
   "source": [
    "from random import shuffle\n",
    "\n",
    "train_count = len(features)//4\n",
    "shuffle(features)\n",
    "classifier = nltk.NaiveBayesClassifier.train(features[:train_count])\n",
    "classifier.show_most_informative_features(20)"
   ]
  },
  {
   "cell_type": "code",
   "execution_count": 37,
   "metadata": {
    "id": "8MHyeow-TrIK",
    "tags": []
   },
   "outputs": [],
   "source": [
    "from sklearn.naive_bayes import (\n",
    "    BernoulliNB,\n",
    "    ComplementNB,\n",
    "    MultinomialNB,\n",
    ")\n",
    "from sklearn.neighbors import KNeighborsClassifier\n",
    "from sklearn.tree import DecisionTreeClassifier\n",
    "from sklearn.ensemble import RandomForestClassifier, AdaBoostClassifier\n",
    "from sklearn.linear_model import LogisticRegression\n",
    "from sklearn.neural_network import MLPClassifier\n",
    "from sklearn.discriminant_analysis import QuadraticDiscriminantAnalysis"
   ]
  },
  {
   "cell_type": "code",
   "execution_count": 38,
   "metadata": {
    "id": "inbN-gmiTsqo",
    "tags": []
   },
   "outputs": [],
   "source": [
    "classifiers = {\n",
    "    \"BernoulliNB\": BernoulliNB(),\n",
    "    \"ComplementNB\": ComplementNB(),\n",
    "    \"MultinomialNB\": MultinomialNB(),\n",
    "    \"KNeighborsClassifier\": KNeighborsClassifier(),\n",
    "    \"DecisionTreeClassifier\": DecisionTreeClassifier(),\n",
    "    \"RandomForestClassifier\": RandomForestClassifier(),\n",
    "    \"LogisticRegression\": LogisticRegression(),\n",
    "    \"MLPClassifier\": MLPClassifier(max_iter=1000),\n",
    "    \"AdaBoostClassifier\": AdaBoostClassifier(),\n",
    "}"
   ]
  },
  {
   "cell_type": "code",
   "execution_count": 39,
   "metadata": {
    "colab": {
     "base_uri": "https://localhost:8080/"
    },
    "id": "UVYVJ4WeTtNd",
    "outputId": "993609e8-07c1-486b-b49b-bf596e25fcdf",
    "tags": []
   },
   "outputs": [
    {
     "name": "stdout",
     "output_type": "stream",
     "text": [
      "28.00% - BernoulliNB\n",
      "35.83% - ComplementNB\n",
      "36.33% - MultinomialNB\n",
      "25.67% - KNeighborsClassifier\n",
      "31.33% - DecisionTreeClassifier\n",
      "30.83% - RandomForestClassifier\n",
      "34.33% - LogisticRegression\n",
      "31.83% - MLPClassifier\n",
      "29.33% - AdaBoostClassifier\n"
     ]
    }
   ],
   "source": [
    "train_count = len(features) // 4\n",
    "shuffle(features)\n",
    "\n",
    "trained_classifiers = {}\n",
    "\n",
    "for name, sklearn_classifier in classifiers.items():\n",
    "     classifier = nltk.classify.SklearnClassifier(sklearn_classifier)\n",
    "     classifier.train(features[:train_count])\n",
    "     accuracy = nltk.classify.accuracy(classifier, features[train_count:])\n",
    "     trained_classifiers[name] = classifier\n",
    "     print(F\"{accuracy:.2%} - {name}\")"
   ]
  },
  {
   "cell_type": "code",
   "execution_count": 40,
   "metadata": {
    "id": "Q-sg0zpBTynl",
    "tags": []
   },
   "outputs": [],
   "source": [
    "import pickle\n",
    "f = open('sentiment_classifier.pickle', 'wb')\n",
    "pickle.dump(trained_classifiers[\"MultinomialNB\"], f)\n",
    "f.close()"
   ]
  },
  {
   "cell_type": "code",
   "execution_count": 41,
   "metadata": {
    "id": "TK2YTjdLTzU5",
    "tags": []
   },
   "outputs": [],
   "source": [
    "f = open('sentiment_classifier.pickle', 'rb')\n",
    "deployed_classifier = pickle.load(f)\n",
    "f.close()"
   ]
  },
  {
   "cell_type": "code",
   "execution_count": 42,
   "metadata": {
    "colab": {
     "base_uri": "https://localhost:8080/",
     "height": 36
    },
    "id": "YlUJ7FhJT0wn",
    "outputId": "699a6cf8-a9e3-4bf2-865f-6a69ab07d90f",
    "tags": []
   },
   "outputs": [
    {
     "data": {
      "text/plain": [
       "'Postiva'"
      ]
     },
     "execution_count": 42,
     "metadata": {},
     "output_type": "execute_result"
    }
   ],
   "source": [
    "deployed_classifier.classify(extract_features(\"I hate this game\"))\n"
   ]
  },
  {
   "cell_type": "code",
   "execution_count": 43,
   "metadata": {
    "colab": {
     "base_uri": "https://localhost:8080/",
     "height": 36
    },
    "id": "ZgdB1i2Xa8Ex",
    "outputId": "c372a09b-ec8a-4e7c-a71a-96f8b25d6bfb",
    "tags": []
   },
   "outputs": [
    {
     "data": {
      "text/plain": [
       "'Postiva'"
      ]
     },
     "execution_count": 43,
     "metadata": {},
     "output_type": "execute_result"
    }
   ],
   "source": [
    "deployed_classifier.classify(extract_features(\"I hate this game\"))\n"
   ]
  },
  {
   "cell_type": "code",
   "execution_count": 44,
   "metadata": {
    "colab": {
     "base_uri": "https://localhost:8080/",
     "height": 36
    },
    "id": "hrr87hbZa-fj",
    "outputId": "685e55e8-35cc-4711-b58a-9672be2c2617",
    "tags": []
   },
   "outputs": [
    {
     "data": {
      "text/plain": [
       "'Neutral'"
      ]
     },
     "execution_count": 44,
     "metadata": {},
     "output_type": "execute_result"
    }
   ],
   "source": [
    "deployed_classifier.classify(extract_features(\"$KNDX #AI #NVIDIA #MetaverseNFT #altcoin #BullishAF http://kondux.info https://dextools.io/app/en/ether/pair-explorer/0x79dd15ad871b0fe18040a52f951d757ef88cfe72\"))"
   ]
  },
  {
   "cell_type": "markdown",
   "metadata": {},
   "source": []
  },
  {
   "cell_type": "code",
   "execution_count": 53,
   "metadata": {},
   "outputs": [],
   "source": [
    "from selenium import webdriver\n",
    "from selenium.webdriver.common.keys import Keys\n",
    "from selenium.webdriver.common.by import By\n",
    "from selenium.webdriver.support.ui import WebDriverWait\n",
    "from selenium.webdriver.support import expected_conditions as EC\n",
    "import webbrowser\n",
    "import time\n",
    "from datetime import date\n",
    "import nltk\n",
    "import sklearn"
   ]
  },
  {
   "cell_type": "code",
   "execution_count": 54,
   "metadata": {},
   "outputs": [],
   "source": [
    "options = webdriver.FirefoxOptions()\n",
    "driver = webdriver.Firefox(options=options)"
   ]
  },
  {
   "cell_type": "code",
   "execution_count": 55,
   "metadata": {},
   "outputs": [],
   "source": [
    "driver.get('https://X.com')"
   ]
  },
  {
   "cell_type": "code",
   "execution_count": 56,
   "metadata": {},
   "outputs": [],
   "source": [
    "# Especificar el hashtag que deseas rastrear\n",
    "hashtag = 'nvidia'\n",
    "driver.get(f'https://twitter.com/hashtag/{hashtag}?lang=en')\n",
    "time.sleep(3)"
   ]
  },
  {
   "cell_type": "code",
   "execution_count": 57,
   "metadata": {},
   "outputs": [
    {
     "name": "stdout",
     "output_type": "stream",
     "text": [
      "['Not about #Jasmy \\n#Japan #Jasmy #NVIDIA #GPUs #AI #Data centers\\n\\n#Highlight:  Working with Japanese firms to build large-scale #Data centers .\\n#NVIDIA CEO Meets Japanese #Prime Minister on Monday, Working To Increase #AI GPU Supply .\\n#Nvidia CEO promises Kishida to supply Japan…', \"IT IS ALTCOIN SEASON  $HEART JUST PARTNERED WITH NVIDIA  THIS COULD BE HUGE\\n\\n@humansdotai is a project 95% of you have forgotten about  \\n\\nIt's down 97% but they have been building a lot  \\n\\nI just bought a medium sized bag because i think the news is not widely known but as the…\", '$KNDX Fam is it gonna be this simple?  #Nvidia #Gaming #Metaverse #kNFT #3D #gamingcrypto #Ethereum \\n@Kondux_KNDX\\n \\n\\nDextools: https://dextools.io/app/en/ether/pair-explorer/0x79dd15ad871b0fe18040a52f951d757ef88cfe72… \\nTG: https://t.me/konduxcommunity\\nWebsite: http://Kondux.io', \" $RNDR \\n\\nI understood the mission, did you?\\n\\nI started buying #render in 2021, but DCA'd heavily, doubling my bag in 2023\\n\\n Some would say my unrealized gains are life-changing, but I say we're just getting started! #hodl\", 'Nvidia CEO Jensen Huang says artificial general intelligence will be achieved in five years.\\n\\n#AI #TechAI #LearningAI #GenerativeAI #DeepbrainAI #Nvidia #JansenHuang #AGI', 'BREAKING  Vietnamese stores stockpiling #Nvidia 4090 #GPUs to scalp China  as US  Ai sanctions ramp up. \\n\\n4090 launch price was $1600, nowadays its $2000+  Imagine what the supply shock will look like next year? Get ready for double digit $RENDER $RNDR ', 'HELLO! \\n\\nDoing some gaming on Cyberpunk 2077 with the #RTX4080 today! \\n\\nCome hang out >> ttv/harrie \\n\\n#ad #nvidia #asus', '#Bitcoin passes the $850B market capitalization mark, leaving #Meta behind and going after #Nvidia \\n\\nThis comes as the price of #BTC briefly touched the $44k mark yesterday, keeping the $43.75k mark', 'finally $Heart gained some attention  \\n\\n#Heart X #Nvidia \\n@humansdotai\\n X \\n@nvidia\\n  So Bullish on this Project\\n\\n#BTC #ETH #SOL #AVAX #HEART #AI #100xgem #Kas', 'Introducing Team Journey member, WolfyWolFang! Have a nice trip! #teamjourney #teamjourneygaming #twitchstreamer #twitchaffiliate #gaymer #gamer #nvidia #lgbt #twitch #dixper #horror #stray  https://twitch.tv/wolfywolfang @Wolfy_WolFang', 'BREAKING  US  Gov has banned #Nvidia 4090 GPUs from China amidst the Ai arms race, adding to the list of restricted chips A800 & H800. \\n\\nAs the GPU supply shock begins all I have to say is BUCKLE up RNDRers! ']\n"
     ]
    }
   ],
   "source": [
    "scroll_count = 0\n",
    "max_scroll_count = 1\n",
    "\n",
    "tweet_texts = []  # Lista para almacenar los textos de los tweets\n",
    "\n",
    "while scroll_count < max_scroll_count:\n",
    "    # Desplazarse hacia abajo\n",
    "    driver.execute_script(\"window.scrollTo(0, document.body.scrollHeight);\")\n",
    "    \n",
    "    # Esperar un breve tiempo para que la página se cargue después de desplazarse\n",
    "    time.sleep(2)\n",
    "    \n",
    "    # Encontrar los elementos <div> con el atributo data-testid=\"tweetText\"\n",
    "    div_elements = driver.find_elements(\"xpath\", '//div[@data-testid=\"tweetText\"]')\n",
    "    \n",
    "    # Recorrer los elementos y agregar los textos a la lista\n",
    "    for div_element in div_elements:\n",
    "        tweet_texts.append(div_element.text)\n",
    "    \n",
    "    # Incrementar el contador de desplazamiento\n",
    "    scroll_count += 1\n",
    "\n",
    "driver.close()\n",
    "#Borrar twits duplicados\n",
    "tweet_texts = list(set(tweet_texts))  # Eliminar duplicados\n",
    "\n",
    "print(tweet_texts)  # Imprimir la lista sin duplicados"
   ]
  },
  {
   "cell_type": "code",
   "execution_count": 58,
   "metadata": {},
   "outputs": [
    {
     "data": {
      "text/plain": [
       "['Not about #Jasmy \\n#Japan #Jasmy #NVIDIA #GPUs #AI #Data centers\\n\\n#Highlight:  Working with Japanese firms to build large-scale #Data centers .\\n#NVIDIA CEO Meets Japanese #Prime Minister on Monday, Working To Increase #AI GPU Supply .\\n#Nvidia CEO promises Kishida to supply Japan…',\n",
       " \"IT IS ALTCOIN SEASON  $HEART JUST PARTNERED WITH NVIDIA  THIS COULD BE HUGE\\n\\n@humansdotai is a project 95% of you have forgotten about  \\n\\nIt's down 97% but they have been building a lot  \\n\\nI just bought a medium sized bag because i think the news is not widely known but as the…\",\n",
       " '$KNDX Fam is it gonna be this simple?  #Nvidia #Gaming #Metaverse #kNFT #3D #gamingcrypto #Ethereum \\n@Kondux_KNDX\\n \\n\\nDextools: https://dextools.io/app/en/ether/pair-explorer/0x79dd15ad871b0fe18040a52f951d757ef88cfe72… \\nTG: https://t.me/konduxcommunity\\nWebsite: http://Kondux.io',\n",
       " \" $RNDR \\n\\nI understood the mission, did you?\\n\\nI started buying #render in 2021, but DCA'd heavily, doubling my bag in 2023\\n\\n Some would say my unrealized gains are life-changing, but I say we're just getting started! #hodl\",\n",
       " 'Nvidia CEO Jensen Huang says artificial general intelligence will be achieved in five years.\\n\\n#AI #TechAI #LearningAI #GenerativeAI #DeepbrainAI #Nvidia #JansenHuang #AGI',\n",
       " 'BREAKING  Vietnamese stores stockpiling #Nvidia 4090 #GPUs to scalp China  as US  Ai sanctions ramp up. \\n\\n4090 launch price was $1600, nowadays its $2000+  Imagine what the supply shock will look like next year? Get ready for double digit $RENDER $RNDR ',\n",
       " 'HELLO! \\n\\nDoing some gaming on Cyberpunk 2077 with the #RTX4080 today! \\n\\nCome hang out >> ttv/harrie \\n\\n#ad #nvidia #asus',\n",
       " '#Bitcoin passes the $850B market capitalization mark, leaving #Meta behind and going after #Nvidia \\n\\nThis comes as the price of #BTC briefly touched the $44k mark yesterday, keeping the $43.75k mark',\n",
       " 'finally $Heart gained some attention  \\n\\n#Heart X #Nvidia \\n@humansdotai\\n X \\n@nvidia\\n  So Bullish on this Project\\n\\n#BTC #ETH #SOL #AVAX #HEART #AI #100xgem #Kas',\n",
       " 'Introducing Team Journey member, WolfyWolFang! Have a nice trip! #teamjourney #teamjourneygaming #twitchstreamer #twitchaffiliate #gaymer #gamer #nvidia #lgbt #twitch #dixper #horror #stray  https://twitch.tv/wolfywolfang @Wolfy_WolFang',\n",
       " 'BREAKING  US  Gov has banned #Nvidia 4090 GPUs from China amidst the Ai arms race, adding to the list of restricted chips A800 & H800. \\n\\nAs the GPU supply shock begins all I have to say is BUCKLE up RNDRers! ']"
      ]
     },
     "execution_count": 58,
     "metadata": {},
     "output_type": "execute_result"
    }
   ],
   "source": [
    "tweet_texts"
   ]
  },
  {
   "cell_type": "code",
   "execution_count": 59,
   "metadata": {},
   "outputs": [
    {
     "name": "stdout",
     "output_type": "stream",
     "text": [
      "Not about #Jasmy \n",
      "#Japan #Jasmy #NVIDIA #GPUs #AI #Data centers\n",
      "\n",
      "#Highlight:  Working with Japanese firms to build large-scale #Data centers .\n",
      "#NVIDIA CEO Meets Japanese #Prime Minister on Monday, Working To Increase #AI GPU Supply .\n",
      "#Nvidia CEO promises Kishida to supply Japan…\n",
      "\n",
      ",Neutral\n",
      "IT IS ALTCOIN SEASON  $HEART JUST PARTNERED WITH NVIDIA  THIS COULD BE HUGE\n",
      "\n",
      "@humansdotai is a project 95% of you have forgotten about  \n",
      "\n",
      "It's down 97% but they have been building a lot  \n",
      "\n",
      "I just bought a medium sized bag because i think the news is not widely known but as the…\n",
      "\n",
      ",Postiva\n",
      "$KNDX Fam is it gonna be this simple?  #Nvidia #Gaming #Metaverse #kNFT #3D #gamingcrypto #Ethereum \n",
      "@Kondux_KNDX\n",
      " \n",
      "\n",
      "Dextools: https://dextools.io/app/en/ether/pair-explorer/0x79dd15ad871b0fe18040a52f951d757ef88cfe72… \n",
      "TG: https://t.me/konduxcommunity\n",
      "Website: http://Kondux.io\n",
      "\n",
      ",Neutral\n",
      " $RNDR \n",
      "\n",
      "I understood the mission, did you?\n",
      "\n",
      "I started buying #render in 2021, but DCA'd heavily, doubling my bag in 2023\n",
      "\n",
      " Some would say my unrealized gains are life-changing, but I say we're just getting started! #hodl\n",
      "\n",
      ",Postiva\n",
      "Nvidia CEO Jensen Huang says artificial general intelligence will be achieved in five years.\n",
      "\n",
      "#AI #TechAI #LearningAI #GenerativeAI #DeepbrainAI #Nvidia #JansenHuang #AGI\n",
      "\n",
      ",Postiva\n",
      "BREAKING  Vietnamese stores stockpiling #Nvidia 4090 #GPUs to scalp China  as US  Ai sanctions ramp up. \n",
      "\n",
      "4090 launch price was $1600, nowadays its $2000+  Imagine what the supply shock will look like next year? Get ready for double digit $RENDER $RNDR \n",
      "\n",
      ",Postiva\n",
      "HELLO! \n",
      "\n",
      "Doing some gaming on Cyberpunk 2077 with the #RTX4080 today! \n",
      "\n",
      "Come hang out >> ttv/harrie \n",
      "\n",
      "#ad #nvidia #asus\n",
      "\n",
      ",Postiva\n",
      "#Bitcoin passes the $850B market capitalization mark, leaving #Meta behind and going after #Nvidia \n",
      "\n",
      "This comes as the price of #BTC briefly touched the $44k mark yesterday, keeping the $43.75k mark\n",
      "\n",
      ",Postiva\n",
      "finally $Heart gained some attention  \n",
      "\n",
      "#Heart X #Nvidia \n",
      "@humansdotai\n",
      " X \n",
      "@nvidia\n",
      "  So Bullish on this Project\n",
      "\n",
      "#BTC #ETH #SOL #AVAX #HEART #AI #100xgem #Kas\n",
      "\n",
      ",Postiva\n",
      "Introducing Team Journey member, WolfyWolFang! Have a nice trip! #teamjourney #teamjourneygaming #twitchstreamer #twitchaffiliate #gaymer #gamer #nvidia #lgbt #twitch #dixper #horror #stray  https://twitch.tv/wolfywolfang @Wolfy_WolFang\n",
      "\n",
      ",Neutral\n",
      "BREAKING  US  Gov has banned #Nvidia 4090 GPUs from China amidst the Ai arms race, adding to the list of restricted chips A800 & H800. \n",
      "\n",
      "As the GPU supply shock begins all I have to say is BUCKLE up RNDRers! \n",
      "\n",
      ",Neutral\n",
      "['Neutral', 'Postiva', 'Neutral', 'Postiva', 'Postiva', 'Postiva', 'Postiva', 'Postiva', 'Postiva', 'Neutral', 'Neutral']\n"
     ]
    }
   ],
   "source": [
    "import pickle\n",
    "\n",
    "resultados =  []\n",
    "# Predecir las probabilidades de los datos\n",
    "for x in tweet_texts:\n",
    "    resultados_prueba = deployed_classifier.classify(extract_features(x))\n",
    "    print(f\"{x}\\n\\n,{resultados_prueba}\")\n",
    "    resultados.append(resultados_prueba)\n",
    "\n",
    "print(resultados)\n"
   ]
  },
  {
   "cell_type": "code",
   "execution_count": 60,
   "metadata": {},
   "outputs": [
    {
     "data": {
      "image/png": "[encoded data removed]",
      "text/plain": [
       "<Figure size 640x480 with 1 Axes>"
      ]
     },
     "metadata": {},
     "output_type": "display_data"
    }
   ],
   "source": [
    "import matplotlib.pyplot as plt\n",
    "\n",
    "\n",
    "# Calcular la frecuencia de cada categoría\n",
    "frecuencia = {}\n",
    "for categoria in resultados:\n",
    "    if categoria in frecuencia:\n",
    "        frecuencia[categoria] += 1\n",
    "    else:\n",
    "        frecuencia[categoria] = 1\n",
    "\n",
    "# Obtener las categorías y sus frecuencias\n",
    "categorias = list(frecuencia.keys())\n",
    "frecuencias = list(frecuencia.values())\n",
    "\n",
    "# Crear el gráfico de barras\n",
    "plt.bar(categorias, frecuencias, color='skyblue')\n",
    "\n",
    "# Agregar etiquetas y título\n",
    "plt.xlabel('Categorías')\n",
    "plt.ylabel('Frecuencia')\n",
    "plt.title('Frecuencia de Categorías')\n",
    "\n",
    "# Mostrar el gráfico\n",
    "plt.show()\n"
   ]
  }
 ],
 "metadata": {
  "colab": {
   "provenance": []
  },
  "kernelspec": {
   "display_name": "Python 3 (ipykernel)",
   "language": "python",
   "name": "python3"
  },
  "language_info": {
   "codemirror_mode": {
    "name": "ipython",
    "version": 3
   },
   "file_extension": ".py",
   "mimetype": "text/x-python",
   "name": "python",
   "nbconvert_exporter": "python",
   "pygments_lexer": "ipython3",
   "version": "3.12.0"
  }
 },
 "nbformat": 4,
 "nbformat_minor": 4
}
